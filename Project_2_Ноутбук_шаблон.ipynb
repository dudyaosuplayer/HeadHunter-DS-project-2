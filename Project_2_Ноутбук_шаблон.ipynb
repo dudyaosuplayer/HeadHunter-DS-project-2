{
 "cells": [
  {
   "cell_type": "markdown",
   "id": "42289889-bd57-434e-9637-d3e354756316",
   "metadata": {
    "id": "42289889-bd57-434e-9637-d3e354756316"
   },
   "source": [
    "<center> <img src = https://raw.githubusercontent.com/AndreyRysistov/DatasetsForPandas/main/hh%20label.jpg alt=\"drawing\" style=\"width:400px;\">"
   ]
  },
  {
   "cell_type": "markdown",
   "id": "829cb75b-f14e-4ba8-9195-7ba929a7d656",
   "metadata": {
    "id": "829cb75b-f14e-4ba8-9195-7ba929a7d656",
    "tags": []
   },
   "source": [
    "# <center> Проект: Анализ вакансий из HeadHunter\n",
    "   "
   ]
  },
  {
   "cell_type": "code",
   "execution_count": 1,
   "id": "dccfde33-2452-43fb-a8a5-5c6ebc02a71d",
   "metadata": {
    "id": "dccfde33-2452-43fb-a8a5-5c6ebc02a71d"
   },
   "outputs": [
    {
     "data": {
      "text/plain": [
       "True"
      ]
     },
     "execution_count": 1,
     "metadata": {},
     "output_type": "execute_result"
    }
   ],
   "source": [
    "import pandas as pd\n",
    "import psycopg2\n",
    "import plotly.express as px\n",
    "from plotly.subplots import make_subplots\n",
    "import plotly.graph_objects as go\n",
    "from dotenv import load_dotenv\n",
    "import os\n",
    "\n",
    "\n",
    "load_dotenv()"
   ]
  },
  {
   "cell_type": "code",
   "execution_count": 2,
   "id": "oVKH4ehvf8Ay",
   "metadata": {
    "id": "oVKH4ehvf8Ay"
   },
   "outputs": [],
   "source": [
    "# вставьте сюда параметры подключения из юнита 1. Работа с базой данных из Python \n",
    "DBNAME = os.getenv('DBNAME')\n",
    "USER = os.getenv('USER')\n",
    "PASSWORD = os.getenv('PASSWORD')\n",
    "HOST = os.getenv('HOST')\n",
    "PORT = os.getenv('PORT')"
   ]
  },
  {
   "cell_type": "code",
   "execution_count": 3,
   "id": "G4X_q8KBf7SF",
   "metadata": {
    "id": "G4X_q8KBf7SF"
   },
   "outputs": [],
   "source": [
    "connection = psycopg2.connect(\n",
    "    dbname=DBNAME,\n",
    "    user=USER,\n",
    "    host=HOST,\n",
    "    password=PASSWORD,\n",
    "    port=PORT\n",
    ")"
   ]
  },
  {
   "cell_type": "markdown",
   "id": "0dc6476b-7a00-44f1-ac93-6e3baed33a29",
   "metadata": {
    "id": "0dc6476b-7a00-44f1-ac93-6e3baed33a29"
   },
   "source": [
    "# Юнит 3. Предварительный анализ данных"
   ]
  },
  {
   "cell_type": "markdown",
   "id": "889782b6-8d1c-410e-8920-e57f27917c64",
   "metadata": {
    "id": "889782b6-8d1c-410e-8920-e57f27917c64"
   },
   "source": [
    "1. Напишите запрос, который посчитает количество вакансий в нашей базе (вакансии находятся в таблице vacancies). "
   ]
  },
  {
   "cell_type": "code",
   "execution_count": 4,
   "id": "bc39e68e-ed02-4ee2-9235-7258a2f867a8",
   "metadata": {
    "id": "bc39e68e-ed02-4ee2-9235-7258a2f867a8"
   },
   "outputs": [],
   "source": [
    "# текст запроса\n",
    "query_3_1 = f'''\n",
    "select count(*) from vacancies\n",
    "'''"
   ]
  },
  {
   "cell_type": "code",
   "execution_count": 5,
   "id": "7mAwtsk4hEHY",
   "metadata": {
    "id": "7mAwtsk4hEHY"
   },
   "outputs": [
    {
     "name": "stderr",
     "output_type": "stream",
     "text": [
      "C:\\Users\\alpavlov\\AppData\\Local\\Temp\\ipykernel_10984\\4045908245.py:2: UserWarning: pandas only supports SQLAlchemy connectable (engine/connection) or database string URI or sqlite3 DBAPI2 connection. Other DBAPI2 objects are not tested. Please consider using SQLAlchemy.\n",
      "  df_3_1 = pd.read_sql_query(query_3_1, connection)\n"
     ]
    },
    {
     "data": {
      "text/html": [
       "<div>\n",
       "<style scoped>\n",
       "    .dataframe tbody tr th:only-of-type {\n",
       "        vertical-align: middle;\n",
       "    }\n",
       "\n",
       "    .dataframe tbody tr th {\n",
       "        vertical-align: top;\n",
       "    }\n",
       "\n",
       "    .dataframe thead th {\n",
       "        text-align: right;\n",
       "    }\n",
       "</style>\n",
       "<table border=\"1\" class=\"dataframe\">\n",
       "  <thead>\n",
       "    <tr style=\"text-align: right;\">\n",
       "      <th></th>\n",
       "      <th>count</th>\n",
       "    </tr>\n",
       "  </thead>\n",
       "  <tbody>\n",
       "    <tr>\n",
       "      <th>0</th>\n",
       "      <td>49197</td>\n",
       "    </tr>\n",
       "  </tbody>\n",
       "</table>\n",
       "</div>"
      ],
      "text/plain": [
       "   count\n",
       "0  49197"
      ]
     },
     "execution_count": 5,
     "metadata": {},
     "output_type": "execute_result"
    }
   ],
   "source": [
    "# результат запроса\n",
    "df_3_1 = pd.read_sql_query(query_3_1, connection)\n",
    "df_3_1"
   ]
  },
  {
   "cell_type": "markdown",
   "id": "b583485d-1f9e-494e-ada4-80ffff7c53d6",
   "metadata": {
    "id": "b583485d-1f9e-494e-ada4-80ffff7c53d6"
   },
   "source": [
    "2. Напишите запрос, который посчитает количество работодателей (таблица employers). "
   ]
  },
  {
   "cell_type": "code",
   "execution_count": 6,
   "id": "5408c52c-3407-4a63-b25b-1aafa2322d28",
   "metadata": {
    "id": "5408c52c-3407-4a63-b25b-1aafa2322d28"
   },
   "outputs": [],
   "source": [
    "# текст запроса\n",
    "query_3_2 = f'''\n",
    "select count(*) from employers\n",
    "'''"
   ]
  },
  {
   "cell_type": "code",
   "execution_count": 7,
   "id": "jVL4eshKhdqc",
   "metadata": {
    "id": "jVL4eshKhdqc"
   },
   "outputs": [
    {
     "name": "stderr",
     "output_type": "stream",
     "text": [
      "C:\\Users\\alpavlov\\AppData\\Local\\Temp\\ipykernel_10984\\533540996.py:2: UserWarning: pandas only supports SQLAlchemy connectable (engine/connection) or database string URI or sqlite3 DBAPI2 connection. Other DBAPI2 objects are not tested. Please consider using SQLAlchemy.\n",
      "  df_3_2 = pd.read_sql_query(query_3_2, connection)\n"
     ]
    },
    {
     "data": {
      "text/html": [
       "<div>\n",
       "<style scoped>\n",
       "    .dataframe tbody tr th:only-of-type {\n",
       "        vertical-align: middle;\n",
       "    }\n",
       "\n",
       "    .dataframe tbody tr th {\n",
       "        vertical-align: top;\n",
       "    }\n",
       "\n",
       "    .dataframe thead th {\n",
       "        text-align: right;\n",
       "    }\n",
       "</style>\n",
       "<table border=\"1\" class=\"dataframe\">\n",
       "  <thead>\n",
       "    <tr style=\"text-align: right;\">\n",
       "      <th></th>\n",
       "      <th>count</th>\n",
       "    </tr>\n",
       "  </thead>\n",
       "  <tbody>\n",
       "    <tr>\n",
       "      <th>0</th>\n",
       "      <td>23501</td>\n",
       "    </tr>\n",
       "  </tbody>\n",
       "</table>\n",
       "</div>"
      ],
      "text/plain": [
       "   count\n",
       "0  23501"
      ]
     },
     "execution_count": 7,
     "metadata": {},
     "output_type": "execute_result"
    }
   ],
   "source": [
    "# результат запроса\n",
    "df_3_2 = pd.read_sql_query(query_3_2, connection)\n",
    "df_3_2"
   ]
  },
  {
   "cell_type": "markdown",
   "id": "a2bfff1f-c975-4bf6-84be-2185d79dcb76",
   "metadata": {
    "id": "a2bfff1f-c975-4bf6-84be-2185d79dcb76"
   },
   "source": [
    "3. Посчитате с помощью запроса количество регионов (таблица areas)."
   ]
  },
  {
   "cell_type": "code",
   "execution_count": 8,
   "id": "1m8QJwBYhey6",
   "metadata": {
    "id": "1m8QJwBYhey6"
   },
   "outputs": [],
   "source": [
    "# текст запроса\n",
    "query_3_3 = f'''\n",
    "select count(*) from areas\n",
    "'''"
   ]
  },
  {
   "cell_type": "code",
   "execution_count": 9,
   "id": "EZsn9tlfhe7f",
   "metadata": {
    "id": "EZsn9tlfhe7f"
   },
   "outputs": [
    {
     "name": "stderr",
     "output_type": "stream",
     "text": [
      "C:\\Users\\alpavlov\\AppData\\Local\\Temp\\ipykernel_10984\\1395976625.py:2: UserWarning: pandas only supports SQLAlchemy connectable (engine/connection) or database string URI or sqlite3 DBAPI2 connection. Other DBAPI2 objects are not tested. Please consider using SQLAlchemy.\n",
      "  df_3_3 = pd.read_sql_query(query_3_3, connection)\n"
     ]
    },
    {
     "data": {
      "text/html": [
       "<div>\n",
       "<style scoped>\n",
       "    .dataframe tbody tr th:only-of-type {\n",
       "        vertical-align: middle;\n",
       "    }\n",
       "\n",
       "    .dataframe tbody tr th {\n",
       "        vertical-align: top;\n",
       "    }\n",
       "\n",
       "    .dataframe thead th {\n",
       "        text-align: right;\n",
       "    }\n",
       "</style>\n",
       "<table border=\"1\" class=\"dataframe\">\n",
       "  <thead>\n",
       "    <tr style=\"text-align: right;\">\n",
       "      <th></th>\n",
       "      <th>count</th>\n",
       "    </tr>\n",
       "  </thead>\n",
       "  <tbody>\n",
       "    <tr>\n",
       "      <th>0</th>\n",
       "      <td>1362</td>\n",
       "    </tr>\n",
       "  </tbody>\n",
       "</table>\n",
       "</div>"
      ],
      "text/plain": [
       "   count\n",
       "0   1362"
      ]
     },
     "execution_count": 9,
     "metadata": {},
     "output_type": "execute_result"
    }
   ],
   "source": [
    "# результат запроса\n",
    "df_3_3 = pd.read_sql_query(query_3_3, connection)\n",
    "df_3_3"
   ]
  },
  {
   "cell_type": "markdown",
   "id": "41bb59f3-53cc-4a67-a5bc-bedf573955e4",
   "metadata": {
    "id": "41bb59f3-53cc-4a67-a5bc-bedf573955e4"
   },
   "source": [
    "4. Посчитате с помощью запроса количество сфер деятельности в базе (таблица industries)."
   ]
  },
  {
   "cell_type": "code",
   "execution_count": 10,
   "id": "d286cf4c-707b-4cd2-9190-7ab3587d04a1",
   "metadata": {
    "id": "d286cf4c-707b-4cd2-9190-7ab3587d04a1"
   },
   "outputs": [],
   "source": [
    "# текст запроса\n",
    "query_3_4 = f'''\n",
    "select count(*) from industries\n",
    "'''"
   ]
  },
  {
   "cell_type": "code",
   "execution_count": 11,
   "id": "JYAaoZ4qhfzW",
   "metadata": {
    "id": "JYAaoZ4qhfzW"
   },
   "outputs": [
    {
     "name": "stderr",
     "output_type": "stream",
     "text": [
      "C:\\Users\\alpavlov\\AppData\\Local\\Temp\\ipykernel_10984\\854197215.py:2: UserWarning: pandas only supports SQLAlchemy connectable (engine/connection) or database string URI or sqlite3 DBAPI2 connection. Other DBAPI2 objects are not tested. Please consider using SQLAlchemy.\n",
      "  df_3_4 = pd.read_sql_query(query_3_4, connection)\n"
     ]
    },
    {
     "data": {
      "text/html": [
       "<div>\n",
       "<style scoped>\n",
       "    .dataframe tbody tr th:only-of-type {\n",
       "        vertical-align: middle;\n",
       "    }\n",
       "\n",
       "    .dataframe tbody tr th {\n",
       "        vertical-align: top;\n",
       "    }\n",
       "\n",
       "    .dataframe thead th {\n",
       "        text-align: right;\n",
       "    }\n",
       "</style>\n",
       "<table border=\"1\" class=\"dataframe\">\n",
       "  <thead>\n",
       "    <tr style=\"text-align: right;\">\n",
       "      <th></th>\n",
       "      <th>count</th>\n",
       "    </tr>\n",
       "  </thead>\n",
       "  <tbody>\n",
       "    <tr>\n",
       "      <th>0</th>\n",
       "      <td>294</td>\n",
       "    </tr>\n",
       "  </tbody>\n",
       "</table>\n",
       "</div>"
      ],
      "text/plain": [
       "   count\n",
       "0    294"
      ]
     },
     "execution_count": 11,
     "metadata": {},
     "output_type": "execute_result"
    }
   ],
   "source": [
    "# результат запроса\n",
    "df_3_4 = pd.read_sql_query(query_3_4, connection)\n",
    "df_3_4"
   ]
  },
  {
   "cell_type": "markdown",
   "id": "9a8a2181-6914-448b-85f1-38f5f18b8a93",
   "metadata": {
    "id": "9a8a2181-6914-448b-85f1-38f5f18b8a93"
   },
   "source": [
    "***"
   ]
  },
  {
   "cell_type": "markdown",
   "id": "f418e6c5",
   "metadata": {},
   "source": [
    "## Дополнительное исследование"
   ]
  },
  {
   "cell_type": "markdown",
   "id": "4e42a3e8",
   "metadata": {},
   "source": [
    "Определение типов рабочего графика"
   ]
  },
  {
   "cell_type": "code",
   "execution_count": 12,
   "id": "e1b597a0",
   "metadata": {},
   "outputs": [
    {
     "name": "stderr",
     "output_type": "stream",
     "text": [
      "C:\\Users\\alpavlov\\AppData\\Local\\Temp\\ipykernel_10984\\2540820828.py:6: UserWarning: pandas only supports SQLAlchemy connectable (engine/connection) or database string URI or sqlite3 DBAPI2 connection. Other DBAPI2 objects are not tested. Please consider using SQLAlchemy.\n",
      "  df_3_5 = pd.read_sql_query(query_3_5, connection)\n"
     ]
    },
    {
     "data": {
      "text/html": [
       "<div>\n",
       "<style scoped>\n",
       "    .dataframe tbody tr th:only-of-type {\n",
       "        vertical-align: middle;\n",
       "    }\n",
       "\n",
       "    .dataframe tbody tr th {\n",
       "        vertical-align: top;\n",
       "    }\n",
       "\n",
       "    .dataframe thead th {\n",
       "        text-align: right;\n",
       "    }\n",
       "</style>\n",
       "<table border=\"1\" class=\"dataframe\">\n",
       "  <thead>\n",
       "    <tr style=\"text-align: right;\">\n",
       "      <th></th>\n",
       "      <th>schedule</th>\n",
       "    </tr>\n",
       "  </thead>\n",
       "  <tbody>\n",
       "    <tr>\n",
       "      <th>0</th>\n",
       "      <td>Сменный график</td>\n",
       "    </tr>\n",
       "    <tr>\n",
       "      <th>1</th>\n",
       "      <td>Вахтовый метод</td>\n",
       "    </tr>\n",
       "    <tr>\n",
       "      <th>2</th>\n",
       "      <td>Гибкий график</td>\n",
       "    </tr>\n",
       "    <tr>\n",
       "      <th>3</th>\n",
       "      <td>Удаленная работа</td>\n",
       "    </tr>\n",
       "    <tr>\n",
       "      <th>4</th>\n",
       "      <td>Полный день</td>\n",
       "    </tr>\n",
       "  </tbody>\n",
       "</table>\n",
       "</div>"
      ],
      "text/plain": [
       "           schedule\n",
       "0    Сменный график\n",
       "1    Вахтовый метод\n",
       "2     Гибкий график\n",
       "3  Удаленная работа\n",
       "4       Полный день"
      ]
     },
     "execution_count": 12,
     "metadata": {},
     "output_type": "execute_result"
    }
   ],
   "source": [
    "# текст запроса\n",
    "query_3_5 = f'''\n",
    "select distinct schedule from vacancies\n",
    "'''\n",
    "\n",
    "df_3_5 = pd.read_sql_query(query_3_5, connection)\n",
    "df_3_5"
   ]
  },
  {
   "cell_type": "markdown",
   "id": "23541c32",
   "metadata": {},
   "source": [
    "Определение типов трудоустройства"
   ]
  },
  {
   "cell_type": "code",
   "execution_count": 13,
   "id": "629db44d",
   "metadata": {},
   "outputs": [
    {
     "name": "stderr",
     "output_type": "stream",
     "text": [
      "C:\\Users\\alpavlov\\AppData\\Local\\Temp\\ipykernel_10984\\1998022503.py:6: UserWarning: pandas only supports SQLAlchemy connectable (engine/connection) or database string URI or sqlite3 DBAPI2 connection. Other DBAPI2 objects are not tested. Please consider using SQLAlchemy.\n",
      "  df_3_6 = pd.read_sql_query(query_3_6, connection)\n"
     ]
    },
    {
     "data": {
      "text/html": [
       "<div>\n",
       "<style scoped>\n",
       "    .dataframe tbody tr th:only-of-type {\n",
       "        vertical-align: middle;\n",
       "    }\n",
       "\n",
       "    .dataframe tbody tr th {\n",
       "        vertical-align: top;\n",
       "    }\n",
       "\n",
       "    .dataframe thead th {\n",
       "        text-align: right;\n",
       "    }\n",
       "</style>\n",
       "<table border=\"1\" class=\"dataframe\">\n",
       "  <thead>\n",
       "    <tr style=\"text-align: right;\">\n",
       "      <th></th>\n",
       "      <th>employment</th>\n",
       "    </tr>\n",
       "  </thead>\n",
       "  <tbody>\n",
       "    <tr>\n",
       "      <th>0</th>\n",
       "      <td>Стажировка</td>\n",
       "    </tr>\n",
       "    <tr>\n",
       "      <th>1</th>\n",
       "      <td>Частичная занятость</td>\n",
       "    </tr>\n",
       "    <tr>\n",
       "      <th>2</th>\n",
       "      <td>Проектная работа</td>\n",
       "    </tr>\n",
       "    <tr>\n",
       "      <th>3</th>\n",
       "      <td>Полная занятость</td>\n",
       "    </tr>\n",
       "  </tbody>\n",
       "</table>\n",
       "</div>"
      ],
      "text/plain": [
       "            employment\n",
       "0           Стажировка\n",
       "1  Частичная занятость\n",
       "2     Проектная работа\n",
       "3     Полная занятость"
      ]
     },
     "execution_count": 13,
     "metadata": {},
     "output_type": "execute_result"
    }
   ],
   "source": [
    "# текст запроса\n",
    "query_3_6 = f'''\n",
    "select distinct employment from vacancies\n",
    "'''\n",
    "\n",
    "df_3_6 = pd.read_sql_query(query_3_6, connection)\n",
    "df_3_6"
   ]
  },
  {
   "cell_type": "markdown",
   "id": "86440fe3",
   "metadata": {},
   "source": [
    "Топ 10 сфер деятельности по кол-ву вакансий"
   ]
  },
  {
   "cell_type": "code",
   "execution_count": 14,
   "id": "0bc414ad",
   "metadata": {},
   "outputs": [
    {
     "name": "stderr",
     "output_type": "stream",
     "text": [
      "C:\\Users\\alpavlov\\AppData\\Local\\Temp\\ipykernel_10984\\86619181.py:15: UserWarning: pandas only supports SQLAlchemy connectable (engine/connection) or database string URI or sqlite3 DBAPI2 connection. Other DBAPI2 objects are not tested. Please consider using SQLAlchemy.\n",
      "  df_3_7 = pd.read_sql_query(query_3_7, connection)\n"
     ]
    },
    {
     "data": {
      "text/html": [
       "<div>\n",
       "<style scoped>\n",
       "    .dataframe tbody tr th:only-of-type {\n",
       "        vertical-align: middle;\n",
       "    }\n",
       "\n",
       "    .dataframe tbody tr th {\n",
       "        vertical-align: top;\n",
       "    }\n",
       "\n",
       "    .dataframe thead th {\n",
       "        text-align: right;\n",
       "    }\n",
       "</style>\n",
       "<table border=\"1\" class=\"dataframe\">\n",
       "  <thead>\n",
       "    <tr style=\"text-align: right;\">\n",
       "      <th></th>\n",
       "      <th>industry_name</th>\n",
       "      <th>cnt_vacs</th>\n",
       "    </tr>\n",
       "  </thead>\n",
       "  <tbody>\n",
       "    <tr>\n",
       "      <th>0</th>\n",
       "      <td>Разработка программного обеспечения</td>\n",
       "      <td>12499</td>\n",
       "    </tr>\n",
       "    <tr>\n",
       "      <th>1</th>\n",
       "      <td>Системная интеграция,  автоматизации технологи...</td>\n",
       "      <td>11034</td>\n",
       "    </tr>\n",
       "    <tr>\n",
       "      <th>2</th>\n",
       "      <td>None</td>\n",
       "      <td>10084</td>\n",
       "    </tr>\n",
       "    <tr>\n",
       "      <th>3</th>\n",
       "      <td>Интернет-компания (поисковики, платежные систе...</td>\n",
       "      <td>6413</td>\n",
       "    </tr>\n",
       "    <tr>\n",
       "      <th>4</th>\n",
       "      <td>Банк</td>\n",
       "      <td>2742</td>\n",
       "    </tr>\n",
       "    <tr>\n",
       "      <th>5</th>\n",
       "      <td>Мобильная связь</td>\n",
       "      <td>1585</td>\n",
       "    </tr>\n",
       "    <tr>\n",
       "      <th>6</th>\n",
       "      <td>Кадровые агентства</td>\n",
       "      <td>1143</td>\n",
       "    </tr>\n",
       "    <tr>\n",
       "      <th>7</th>\n",
       "      <td>Консалтинговые услуги</td>\n",
       "      <td>1137</td>\n",
       "    </tr>\n",
       "    <tr>\n",
       "      <th>8</th>\n",
       "      <td>Интернет-провайдер</td>\n",
       "      <td>1095</td>\n",
       "    </tr>\n",
       "    <tr>\n",
       "      <th>9</th>\n",
       "      <td>Розничная сеть (продуктовая)</td>\n",
       "      <td>1034</td>\n",
       "    </tr>\n",
       "  </tbody>\n",
       "</table>\n",
       "</div>"
      ],
      "text/plain": [
       "                                       industry_name  cnt_vacs\n",
       "0                Разработка программного обеспечения     12499\n",
       "1  Системная интеграция,  автоматизации технологи...     11034\n",
       "2                                               None     10084\n",
       "3  Интернет-компания (поисковики, платежные систе...      6413\n",
       "4                                               Банк      2742\n",
       "5                                    Мобильная связь      1585\n",
       "6                                 Кадровые агентства      1143\n",
       "7                              Консалтинговые услуги      1137\n",
       "8                                 Интернет-провайдер      1095\n",
       "9                       Розничная сеть (продуктовая)      1034"
      ]
     },
     "execution_count": 14,
     "metadata": {},
     "output_type": "execute_result"
    }
   ],
   "source": [
    "# текст запроса\n",
    "query_3_7 = f'''\n",
    "select \n",
    "    i.name as industry_name,\n",
    "    count(*) as cnt_vacs\n",
    "from vacancies v\n",
    "left join employers e on v.employer_id = e.id\n",
    "left join employers_industries ei on e.id = ei.employer_id\n",
    "left join industries i on i.id = ei.industry_id\n",
    "group by 1\n",
    "order by 2 desc\n",
    "limit 10\n",
    "'''\n",
    "\n",
    "df_3_7 = pd.read_sql_query(query_3_7, connection)\n",
    "df_3_7"
   ]
  },
  {
   "cell_type": "markdown",
   "id": "3d7c53f9",
   "metadata": {},
   "source": [
    "# Выводы:"
   ]
  },
  {
   "cell_type": "markdown",
   "id": "9ff60550",
   "metadata": {},
   "source": [
    "В данных присутствует всего 49197 вакансий, 23501 записи о работодателях, данные о 1362 регионах и 294 сферы деятельности работодателей. Примерно две вакансии приходиться на каждого работодателя. Также больше всего вакансий присутствует из сферы разработки программного обеспечения. Наиболее популярными сферами деятельности работодателей являются сферы так или иначе связанные с IT. Это может указывать на ориентированность HH на сферу IT.\n",
    "На агрегаторе вакансий представлено 5 типов рабочих графиков (Сменный график, Вахтовый метод, Гибкий график, Удаленная работа, Полный день) и 4 типа занятости (Стажировка, Частичная занятость, Проектная работа, Полная занятость)."
   ]
  },
  {
   "cell_type": "markdown",
   "id": "8d62a9f3-f64e-4fe7-bdac-c4dffa16155e",
   "metadata": {
    "id": "8d62a9f3-f64e-4fe7-bdac-c4dffa16155e"
   },
   "source": [
    "# Юнит 4. Детальный анализ вакансий"
   ]
  },
  {
   "cell_type": "markdown",
   "id": "93053d3d-b284-481a-9cf7-012d7014c0e0",
   "metadata": {
    "id": "93053d3d-b284-481a-9cf7-012d7014c0e0"
   },
   "source": [
    "1. Напишите запрос, который позволит узнать, сколько (cnt) вакансий в каждом регионе (area).\n",
    "Отсортируйте по количеству вакансий в порядке убывания."
   ]
  },
  {
   "cell_type": "code",
   "execution_count": 15,
   "id": "3f069da6-fdc9-4ae7-b514-fafe2675efd3",
   "metadata": {
    "id": "3f069da6-fdc9-4ae7-b514-fafe2675efd3"
   },
   "outputs": [],
   "source": [
    "# текст запроса\n",
    "query_4_1 = f'''\n",
    "select \n",
    "    count(*) as cnt,\n",
    "    a.name\n",
    "from vacancies v\n",
    "join areas a on v.area_id = a.id\n",
    "group by a.name\n",
    "order by 1 desc\n",
    "'''"
   ]
  },
  {
   "cell_type": "code",
   "execution_count": 16,
   "id": "P7QL86hrjhRJ",
   "metadata": {
    "id": "P7QL86hrjhRJ"
   },
   "outputs": [
    {
     "name": "stderr",
     "output_type": "stream",
     "text": [
      "C:\\Users\\alpavlov\\AppData\\Local\\Temp\\ipykernel_10984\\620650199.py:2: UserWarning: pandas only supports SQLAlchemy connectable (engine/connection) or database string URI or sqlite3 DBAPI2 connection. Other DBAPI2 objects are not tested. Please consider using SQLAlchemy.\n",
      "  df_4_1 = pd.read_sql_query(query_4_1, connection)\n"
     ]
    },
    {
     "data": {
      "text/html": [
       "<div>\n",
       "<style scoped>\n",
       "    .dataframe tbody tr th:only-of-type {\n",
       "        vertical-align: middle;\n",
       "    }\n",
       "\n",
       "    .dataframe tbody tr th {\n",
       "        vertical-align: top;\n",
       "    }\n",
       "\n",
       "    .dataframe thead th {\n",
       "        text-align: right;\n",
       "    }\n",
       "</style>\n",
       "<table border=\"1\" class=\"dataframe\">\n",
       "  <thead>\n",
       "    <tr style=\"text-align: right;\">\n",
       "      <th></th>\n",
       "      <th>cnt</th>\n",
       "      <th>name</th>\n",
       "    </tr>\n",
       "  </thead>\n",
       "  <tbody>\n",
       "    <tr>\n",
       "      <th>0</th>\n",
       "      <td>5333</td>\n",
       "      <td>Москва</td>\n",
       "    </tr>\n",
       "    <tr>\n",
       "      <th>1</th>\n",
       "      <td>2851</td>\n",
       "      <td>Санкт-Петербург</td>\n",
       "    </tr>\n",
       "    <tr>\n",
       "      <th>2</th>\n",
       "      <td>2112</td>\n",
       "      <td>Минск</td>\n",
       "    </tr>\n",
       "    <tr>\n",
       "      <th>3</th>\n",
       "      <td>2006</td>\n",
       "      <td>Новосибирск</td>\n",
       "    </tr>\n",
       "    <tr>\n",
       "      <th>4</th>\n",
       "      <td>1892</td>\n",
       "      <td>Алматы</td>\n",
       "    </tr>\n",
       "    <tr>\n",
       "      <th>...</th>\n",
       "      <td>...</td>\n",
       "      <td>...</td>\n",
       "    </tr>\n",
       "    <tr>\n",
       "      <th>764</th>\n",
       "      <td>1</td>\n",
       "      <td>Тарко-Сале</td>\n",
       "    </tr>\n",
       "    <tr>\n",
       "      <th>765</th>\n",
       "      <td>1</td>\n",
       "      <td>Новоаннинский</td>\n",
       "    </tr>\n",
       "    <tr>\n",
       "      <th>766</th>\n",
       "      <td>1</td>\n",
       "      <td>Бирск</td>\n",
       "    </tr>\n",
       "    <tr>\n",
       "      <th>767</th>\n",
       "      <td>1</td>\n",
       "      <td>Сасово</td>\n",
       "    </tr>\n",
       "    <tr>\n",
       "      <th>768</th>\n",
       "      <td>1</td>\n",
       "      <td>Анна</td>\n",
       "    </tr>\n",
       "  </tbody>\n",
       "</table>\n",
       "<p>769 rows × 2 columns</p>\n",
       "</div>"
      ],
      "text/plain": [
       "      cnt             name\n",
       "0    5333           Москва\n",
       "1    2851  Санкт-Петербург\n",
       "2    2112            Минск\n",
       "3    2006      Новосибирск\n",
       "4    1892           Алматы\n",
       "..    ...              ...\n",
       "764     1       Тарко-Сале\n",
       "765     1    Новоаннинский\n",
       "766     1            Бирск\n",
       "767     1           Сасово\n",
       "768     1             Анна\n",
       "\n",
       "[769 rows x 2 columns]"
      ]
     },
     "execution_count": 16,
     "metadata": {},
     "output_type": "execute_result"
    }
   ],
   "source": [
    "# результат запроса\n",
    "df_4_1 = pd.read_sql_query(query_4_1, connection)\n",
    "df_4_1"
   ]
  },
  {
   "cell_type": "markdown",
   "id": "872afea4",
   "metadata": {},
   "source": [
    "Визуализация запроса"
   ]
  },
  {
   "cell_type": "code",
   "execution_count": 17,
   "id": "35bbf8c9",
   "metadata": {},
   "outputs": [
    {
     "data": {
      "application/vnd.plotly.v1+json": {
       "config": {
        "plotlyServerURL": "https://plot.ly"
       },
       "data": [
        {
         "alignmentgroup": "True",
         "hovertemplate": "name=%{x}<br>cnt=%{text}<extra></extra>",
         "legendgroup": "Москва",
         "marker": {
          "color": "#636efa",
          "pattern": {
           "shape": ""
          }
         },
         "name": "Москва",
         "offsetgroup": "Москва",
         "orientation": "v",
         "showlegend": true,
         "text": [
          5333
         ],
         "textposition": "auto",
         "type": "bar",
         "x": [
          "Москва"
         ],
         "xaxis": "x",
         "y": [
          5333
         ],
         "yaxis": "y"
        },
        {
         "alignmentgroup": "True",
         "hovertemplate": "name=%{x}<br>cnt=%{text}<extra></extra>",
         "legendgroup": "Санкт-Петербург",
         "marker": {
          "color": "#EF553B",
          "pattern": {
           "shape": ""
          }
         },
         "name": "Санкт-Петербург",
         "offsetgroup": "Санкт-Петербург",
         "orientation": "v",
         "showlegend": true,
         "text": [
          2851
         ],
         "textposition": "auto",
         "type": "bar",
         "x": [
          "Санкт-Петербург"
         ],
         "xaxis": "x",
         "y": [
          2851
         ],
         "yaxis": "y"
        },
        {
         "alignmentgroup": "True",
         "hovertemplate": "name=%{x}<br>cnt=%{text}<extra></extra>",
         "legendgroup": "Минск",
         "marker": {
          "color": "#00cc96",
          "pattern": {
           "shape": ""
          }
         },
         "name": "Минск",
         "offsetgroup": "Минск",
         "orientation": "v",
         "showlegend": true,
         "text": [
          2112
         ],
         "textposition": "auto",
         "type": "bar",
         "x": [
          "Минск"
         ],
         "xaxis": "x",
         "y": [
          2112
         ],
         "yaxis": "y"
        },
        {
         "alignmentgroup": "True",
         "hovertemplate": "name=%{x}<br>cnt=%{text}<extra></extra>",
         "legendgroup": "Новосибирск",
         "marker": {
          "color": "#ab63fa",
          "pattern": {
           "shape": ""
          }
         },
         "name": "Новосибирск",
         "offsetgroup": "Новосибирск",
         "orientation": "v",
         "showlegend": true,
         "text": [
          2006
         ],
         "textposition": "auto",
         "type": "bar",
         "x": [
          "Новосибирск"
         ],
         "xaxis": "x",
         "y": [
          2006
         ],
         "yaxis": "y"
        },
        {
         "alignmentgroup": "True",
         "hovertemplate": "name=%{x}<br>cnt=%{text}<extra></extra>",
         "legendgroup": "Алматы",
         "marker": {
          "color": "#FFA15A",
          "pattern": {
           "shape": ""
          }
         },
         "name": "Алматы",
         "offsetgroup": "Алматы",
         "orientation": "v",
         "showlegend": true,
         "text": [
          1892
         ],
         "textposition": "auto",
         "type": "bar",
         "x": [
          "Алматы"
         ],
         "xaxis": "x",
         "y": [
          1892
         ],
         "yaxis": "y"
        },
        {
         "alignmentgroup": "True",
         "hovertemplate": "name=%{x}<br>cnt=%{text}<extra></extra>",
         "legendgroup": "Екатеринбург",
         "marker": {
          "color": "#19d3f3",
          "pattern": {
           "shape": ""
          }
         },
         "name": "Екатеринбург",
         "offsetgroup": "Екатеринбург",
         "orientation": "v",
         "showlegend": true,
         "text": [
          1698
         ],
         "textposition": "auto",
         "type": "bar",
         "x": [
          "Екатеринбург"
         ],
         "xaxis": "x",
         "y": [
          1698
         ],
         "yaxis": "y"
        },
        {
         "alignmentgroup": "True",
         "hovertemplate": "name=%{x}<br>cnt=%{text}<extra></extra>",
         "legendgroup": "Нижний Новгород",
         "marker": {
          "color": "#FF6692",
          "pattern": {
           "shape": ""
          }
         },
         "name": "Нижний Новгород",
         "offsetgroup": "Нижний Новгород",
         "orientation": "v",
         "showlegend": true,
         "text": [
          1670
         ],
         "textposition": "auto",
         "type": "bar",
         "x": [
          "Нижний Новгород"
         ],
         "xaxis": "x",
         "y": [
          1670
         ],
         "yaxis": "y"
        },
        {
         "alignmentgroup": "True",
         "hovertemplate": "name=%{x}<br>cnt=%{text}<extra></extra>",
         "legendgroup": "Казань",
         "marker": {
          "color": "#B6E880",
          "pattern": {
           "shape": ""
          }
         },
         "name": "Казань",
         "offsetgroup": "Казань",
         "orientation": "v",
         "showlegend": true,
         "text": [
          1415
         ],
         "textposition": "auto",
         "type": "bar",
         "x": [
          "Казань"
         ],
         "xaxis": "x",
         "y": [
          1415
         ],
         "yaxis": "y"
        },
        {
         "alignmentgroup": "True",
         "hovertemplate": "name=%{x}<br>cnt=%{text}<extra></extra>",
         "legendgroup": "Краснодар",
         "marker": {
          "color": "#FF97FF",
          "pattern": {
           "shape": ""
          }
         },
         "name": "Краснодар",
         "offsetgroup": "Краснодар",
         "orientation": "v",
         "showlegend": true,
         "text": [
          1301
         ],
         "textposition": "auto",
         "type": "bar",
         "x": [
          "Краснодар"
         ],
         "xaxis": "x",
         "y": [
          1301
         ],
         "yaxis": "y"
        },
        {
         "alignmentgroup": "True",
         "hovertemplate": "name=%{x}<br>cnt=%{text}<extra></extra>",
         "legendgroup": "Самара",
         "marker": {
          "color": "#FECB52",
          "pattern": {
           "shape": ""
          }
         },
         "name": "Самара",
         "offsetgroup": "Самара",
         "orientation": "v",
         "showlegend": true,
         "text": [
          1144
         ],
         "textposition": "auto",
         "type": "bar",
         "x": [
          "Самара"
         ],
         "xaxis": "x",
         "y": [
          1144
         ],
         "yaxis": "y"
        }
       ],
       "layout": {
        "barmode": "relative",
        "height": 500,
        "legend": {
         "title": {
          "text": "name"
         },
         "tracegroupgap": 0
        },
        "template": {
         "data": {
          "bar": [
           {
            "error_x": {
             "color": "#2a3f5f"
            },
            "error_y": {
             "color": "#2a3f5f"
            },
            "marker": {
             "line": {
              "color": "#E5ECF6",
              "width": 0.5
             },
             "pattern": {
              "fillmode": "overlay",
              "size": 10,
              "solidity": 0.2
             }
            },
            "type": "bar"
           }
          ],
          "barpolar": [
           {
            "marker": {
             "line": {
              "color": "#E5ECF6",
              "width": 0.5
             },
             "pattern": {
              "fillmode": "overlay",
              "size": 10,
              "solidity": 0.2
             }
            },
            "type": "barpolar"
           }
          ],
          "carpet": [
           {
            "aaxis": {
             "endlinecolor": "#2a3f5f",
             "gridcolor": "white",
             "linecolor": "white",
             "minorgridcolor": "white",
             "startlinecolor": "#2a3f5f"
            },
            "baxis": {
             "endlinecolor": "#2a3f5f",
             "gridcolor": "white",
             "linecolor": "white",
             "minorgridcolor": "white",
             "startlinecolor": "#2a3f5f"
            },
            "type": "carpet"
           }
          ],
          "choropleth": [
           {
            "colorbar": {
             "outlinewidth": 0,
             "ticks": ""
            },
            "type": "choropleth"
           }
          ],
          "contour": [
           {
            "colorbar": {
             "outlinewidth": 0,
             "ticks": ""
            },
            "colorscale": [
             [
              0,
              "#0d0887"
             ],
             [
              0.1111111111111111,
              "#46039f"
             ],
             [
              0.2222222222222222,
              "#7201a8"
             ],
             [
              0.3333333333333333,
              "#9c179e"
             ],
             [
              0.4444444444444444,
              "#bd3786"
             ],
             [
              0.5555555555555556,
              "#d8576b"
             ],
             [
              0.6666666666666666,
              "#ed7953"
             ],
             [
              0.7777777777777778,
              "#fb9f3a"
             ],
             [
              0.8888888888888888,
              "#fdca26"
             ],
             [
              1,
              "#f0f921"
             ]
            ],
            "type": "contour"
           }
          ],
          "contourcarpet": [
           {
            "colorbar": {
             "outlinewidth": 0,
             "ticks": ""
            },
            "type": "contourcarpet"
           }
          ],
          "heatmap": [
           {
            "colorbar": {
             "outlinewidth": 0,
             "ticks": ""
            },
            "colorscale": [
             [
              0,
              "#0d0887"
             ],
             [
              0.1111111111111111,
              "#46039f"
             ],
             [
              0.2222222222222222,
              "#7201a8"
             ],
             [
              0.3333333333333333,
              "#9c179e"
             ],
             [
              0.4444444444444444,
              "#bd3786"
             ],
             [
              0.5555555555555556,
              "#d8576b"
             ],
             [
              0.6666666666666666,
              "#ed7953"
             ],
             [
              0.7777777777777778,
              "#fb9f3a"
             ],
             [
              0.8888888888888888,
              "#fdca26"
             ],
             [
              1,
              "#f0f921"
             ]
            ],
            "type": "heatmap"
           }
          ],
          "heatmapgl": [
           {
            "colorbar": {
             "outlinewidth": 0,
             "ticks": ""
            },
            "colorscale": [
             [
              0,
              "#0d0887"
             ],
             [
              0.1111111111111111,
              "#46039f"
             ],
             [
              0.2222222222222222,
              "#7201a8"
             ],
             [
              0.3333333333333333,
              "#9c179e"
             ],
             [
              0.4444444444444444,
              "#bd3786"
             ],
             [
              0.5555555555555556,
              "#d8576b"
             ],
             [
              0.6666666666666666,
              "#ed7953"
             ],
             [
              0.7777777777777778,
              "#fb9f3a"
             ],
             [
              0.8888888888888888,
              "#fdca26"
             ],
             [
              1,
              "#f0f921"
             ]
            ],
            "type": "heatmapgl"
           }
          ],
          "histogram": [
           {
            "marker": {
             "pattern": {
              "fillmode": "overlay",
              "size": 10,
              "solidity": 0.2
             }
            },
            "type": "histogram"
           }
          ],
          "histogram2d": [
           {
            "colorbar": {
             "outlinewidth": 0,
             "ticks": ""
            },
            "colorscale": [
             [
              0,
              "#0d0887"
             ],
             [
              0.1111111111111111,
              "#46039f"
             ],
             [
              0.2222222222222222,
              "#7201a8"
             ],
             [
              0.3333333333333333,
              "#9c179e"
             ],
             [
              0.4444444444444444,
              "#bd3786"
             ],
             [
              0.5555555555555556,
              "#d8576b"
             ],
             [
              0.6666666666666666,
              "#ed7953"
             ],
             [
              0.7777777777777778,
              "#fb9f3a"
             ],
             [
              0.8888888888888888,
              "#fdca26"
             ],
             [
              1,
              "#f0f921"
             ]
            ],
            "type": "histogram2d"
           }
          ],
          "histogram2dcontour": [
           {
            "colorbar": {
             "outlinewidth": 0,
             "ticks": ""
            },
            "colorscale": [
             [
              0,
              "#0d0887"
             ],
             [
              0.1111111111111111,
              "#46039f"
             ],
             [
              0.2222222222222222,
              "#7201a8"
             ],
             [
              0.3333333333333333,
              "#9c179e"
             ],
             [
              0.4444444444444444,
              "#bd3786"
             ],
             [
              0.5555555555555556,
              "#d8576b"
             ],
             [
              0.6666666666666666,
              "#ed7953"
             ],
             [
              0.7777777777777778,
              "#fb9f3a"
             ],
             [
              0.8888888888888888,
              "#fdca26"
             ],
             [
              1,
              "#f0f921"
             ]
            ],
            "type": "histogram2dcontour"
           }
          ],
          "mesh3d": [
           {
            "colorbar": {
             "outlinewidth": 0,
             "ticks": ""
            },
            "type": "mesh3d"
           }
          ],
          "parcoords": [
           {
            "line": {
             "colorbar": {
              "outlinewidth": 0,
              "ticks": ""
             }
            },
            "type": "parcoords"
           }
          ],
          "pie": [
           {
            "automargin": true,
            "type": "pie"
           }
          ],
          "scatter": [
           {
            "fillpattern": {
             "fillmode": "overlay",
             "size": 10,
             "solidity": 0.2
            },
            "type": "scatter"
           }
          ],
          "scatter3d": [
           {
            "line": {
             "colorbar": {
              "outlinewidth": 0,
              "ticks": ""
             }
            },
            "marker": {
             "colorbar": {
              "outlinewidth": 0,
              "ticks": ""
             }
            },
            "type": "scatter3d"
           }
          ],
          "scattercarpet": [
           {
            "marker": {
             "colorbar": {
              "outlinewidth": 0,
              "ticks": ""
             }
            },
            "type": "scattercarpet"
           }
          ],
          "scattergeo": [
           {
            "marker": {
             "colorbar": {
              "outlinewidth": 0,
              "ticks": ""
             }
            },
            "type": "scattergeo"
           }
          ],
          "scattergl": [
           {
            "marker": {
             "colorbar": {
              "outlinewidth": 0,
              "ticks": ""
             }
            },
            "type": "scattergl"
           }
          ],
          "scattermapbox": [
           {
            "marker": {
             "colorbar": {
              "outlinewidth": 0,
              "ticks": ""
             }
            },
            "type": "scattermapbox"
           }
          ],
          "scatterpolar": [
           {
            "marker": {
             "colorbar": {
              "outlinewidth": 0,
              "ticks": ""
             }
            },
            "type": "scatterpolar"
           }
          ],
          "scatterpolargl": [
           {
            "marker": {
             "colorbar": {
              "outlinewidth": 0,
              "ticks": ""
             }
            },
            "type": "scatterpolargl"
           }
          ],
          "scatterternary": [
           {
            "marker": {
             "colorbar": {
              "outlinewidth": 0,
              "ticks": ""
             }
            },
            "type": "scatterternary"
           }
          ],
          "surface": [
           {
            "colorbar": {
             "outlinewidth": 0,
             "ticks": ""
            },
            "colorscale": [
             [
              0,
              "#0d0887"
             ],
             [
              0.1111111111111111,
              "#46039f"
             ],
             [
              0.2222222222222222,
              "#7201a8"
             ],
             [
              0.3333333333333333,
              "#9c179e"
             ],
             [
              0.4444444444444444,
              "#bd3786"
             ],
             [
              0.5555555555555556,
              "#d8576b"
             ],
             [
              0.6666666666666666,
              "#ed7953"
             ],
             [
              0.7777777777777778,
              "#fb9f3a"
             ],
             [
              0.8888888888888888,
              "#fdca26"
             ],
             [
              1,
              "#f0f921"
             ]
            ],
            "type": "surface"
           }
          ],
          "table": [
           {
            "cells": {
             "fill": {
              "color": "#EBF0F8"
             },
             "line": {
              "color": "white"
             }
            },
            "header": {
             "fill": {
              "color": "#C8D4E3"
             },
             "line": {
              "color": "white"
             }
            },
            "type": "table"
           }
          ]
         },
         "layout": {
          "annotationdefaults": {
           "arrowcolor": "#2a3f5f",
           "arrowhead": 0,
           "arrowwidth": 1
          },
          "autotypenumbers": "strict",
          "coloraxis": {
           "colorbar": {
            "outlinewidth": 0,
            "ticks": ""
           }
          },
          "colorscale": {
           "diverging": [
            [
             0,
             "#8e0152"
            ],
            [
             0.1,
             "#c51b7d"
            ],
            [
             0.2,
             "#de77ae"
            ],
            [
             0.3,
             "#f1b6da"
            ],
            [
             0.4,
             "#fde0ef"
            ],
            [
             0.5,
             "#f7f7f7"
            ],
            [
             0.6,
             "#e6f5d0"
            ],
            [
             0.7,
             "#b8e186"
            ],
            [
             0.8,
             "#7fbc41"
            ],
            [
             0.9,
             "#4d9221"
            ],
            [
             1,
             "#276419"
            ]
           ],
           "sequential": [
            [
             0,
             "#0d0887"
            ],
            [
             0.1111111111111111,
             "#46039f"
            ],
            [
             0.2222222222222222,
             "#7201a8"
            ],
            [
             0.3333333333333333,
             "#9c179e"
            ],
            [
             0.4444444444444444,
             "#bd3786"
            ],
            [
             0.5555555555555556,
             "#d8576b"
            ],
            [
             0.6666666666666666,
             "#ed7953"
            ],
            [
             0.7777777777777778,
             "#fb9f3a"
            ],
            [
             0.8888888888888888,
             "#fdca26"
            ],
            [
             1,
             "#f0f921"
            ]
           ],
           "sequentialminus": [
            [
             0,
             "#0d0887"
            ],
            [
             0.1111111111111111,
             "#46039f"
            ],
            [
             0.2222222222222222,
             "#7201a8"
            ],
            [
             0.3333333333333333,
             "#9c179e"
            ],
            [
             0.4444444444444444,
             "#bd3786"
            ],
            [
             0.5555555555555556,
             "#d8576b"
            ],
            [
             0.6666666666666666,
             "#ed7953"
            ],
            [
             0.7777777777777778,
             "#fb9f3a"
            ],
            [
             0.8888888888888888,
             "#fdca26"
            ],
            [
             1,
             "#f0f921"
            ]
           ]
          },
          "colorway": [
           "#636efa",
           "#EF553B",
           "#00cc96",
           "#ab63fa",
           "#FFA15A",
           "#19d3f3",
           "#FF6692",
           "#B6E880",
           "#FF97FF",
           "#FECB52"
          ],
          "font": {
           "color": "#2a3f5f"
          },
          "geo": {
           "bgcolor": "white",
           "lakecolor": "white",
           "landcolor": "#E5ECF6",
           "showlakes": true,
           "showland": true,
           "subunitcolor": "white"
          },
          "hoverlabel": {
           "align": "left"
          },
          "hovermode": "closest",
          "mapbox": {
           "style": "light"
          },
          "paper_bgcolor": "white",
          "plot_bgcolor": "#E5ECF6",
          "polar": {
           "angularaxis": {
            "gridcolor": "white",
            "linecolor": "white",
            "ticks": ""
           },
           "bgcolor": "#E5ECF6",
           "radialaxis": {
            "gridcolor": "white",
            "linecolor": "white",
            "ticks": ""
           }
          },
          "scene": {
           "xaxis": {
            "backgroundcolor": "#E5ECF6",
            "gridcolor": "white",
            "gridwidth": 2,
            "linecolor": "white",
            "showbackground": true,
            "ticks": "",
            "zerolinecolor": "white"
           },
           "yaxis": {
            "backgroundcolor": "#E5ECF6",
            "gridcolor": "white",
            "gridwidth": 2,
            "linecolor": "white",
            "showbackground": true,
            "ticks": "",
            "zerolinecolor": "white"
           },
           "zaxis": {
            "backgroundcolor": "#E5ECF6",
            "gridcolor": "white",
            "gridwidth": 2,
            "linecolor": "white",
            "showbackground": true,
            "ticks": "",
            "zerolinecolor": "white"
           }
          },
          "shapedefaults": {
           "line": {
            "color": "#2a3f5f"
           }
          },
          "ternary": {
           "aaxis": {
            "gridcolor": "white",
            "linecolor": "white",
            "ticks": ""
           },
           "baxis": {
            "gridcolor": "white",
            "linecolor": "white",
            "ticks": ""
           },
           "bgcolor": "#E5ECF6",
           "caxis": {
            "gridcolor": "white",
            "linecolor": "white",
            "ticks": ""
           }
          },
          "title": {
           "x": 0.05
          },
          "xaxis": {
           "automargin": true,
           "gridcolor": "white",
           "linecolor": "white",
           "ticks": "",
           "title": {
            "standoff": 15
           },
           "zerolinecolor": "white",
           "zerolinewidth": 2
          },
          "yaxis": {
           "automargin": true,
           "gridcolor": "white",
           "linecolor": "white",
           "ticks": "",
           "title": {
            "standoff": 15
           },
           "zerolinecolor": "white",
           "zerolinewidth": 2
          }
         }
        },
        "title": {
         "text": "Топ-10 регионов по вакансиям"
        },
        "width": 1000,
        "xaxis": {
         "anchor": "y",
         "categoryarray": [
          "Москва",
          "Санкт-Петербург",
          "Минск",
          "Новосибирск",
          "Алматы",
          "Екатеринбург",
          "Нижний Новгород",
          "Казань",
          "Краснодар",
          "Самара"
         ],
         "categoryorder": "array",
         "domain": [
          0,
          1
         ],
         "title": {
          "text": "name"
         }
        },
        "yaxis": {
         "anchor": "x",
         "domain": [
          0,
          1
         ],
         "title": {
          "text": "cnt"
         }
        }
       }
      }
     },
     "metadata": {},
     "output_type": "display_data"
    }
   ],
   "source": [
    "fig_bar = px.bar(\n",
    "    data_frame=df_4_1.nlargest(10, 'cnt'),\n",
    "    x='name',\n",
    "    y='cnt',\n",
    "    color='name',\n",
    "    text='cnt',\n",
    "    orientation='v',\n",
    "    height=500,\n",
    "    width=1000,\n",
    "    title='Топ-10 регионов по вакансиям')\n",
    "\n",
    "\n",
    "fig_bar.show()\n",
    "fig_bar.write_image('graphs/img1.png')\n",
    "fig_bar.write_html(\"html/img1.html\")"
   ]
  },
  {
   "cell_type": "markdown",
   "id": "09b28341",
   "metadata": {},
   "source": [
    "![Топ-10 регионов по вакансиям'](graphs/img1.png)"
   ]
  },
  {
   "cell_type": "markdown",
   "id": "4266f0b6-1646-492a-88b4-2f6a46502135",
   "metadata": {
    "id": "4266f0b6-1646-492a-88b4-2f6a46502135"
   },
   "source": [
    "2. Напишите запрос, чтобы определить у какого количества вакансий заполнено хотя бы одно из двух полей с зарплатой."
   ]
  },
  {
   "cell_type": "code",
   "execution_count": 18,
   "id": "0c44b350-72eb-4d65-8b54-a1fc449ba9fd",
   "metadata": {
    "id": "0c44b350-72eb-4d65-8b54-a1fc449ba9fd"
   },
   "outputs": [],
   "source": [
    "# текст запроса\n",
    "query_4_2 = f'''\n",
    "select \n",
    "    count(*) as cnt\n",
    "from vacancies v\n",
    "where v.salary_from is not null or v.salary_to is not null\n",
    "'''"
   ]
  },
  {
   "cell_type": "code",
   "execution_count": 19,
   "id": "rhvwaMDkoWTi",
   "metadata": {
    "id": "rhvwaMDkoWTi"
   },
   "outputs": [
    {
     "name": "stderr",
     "output_type": "stream",
     "text": [
      "C:\\Users\\alpavlov\\AppData\\Local\\Temp\\ipykernel_10984\\3746829199.py:2: UserWarning:\n",
      "\n",
      "pandas only supports SQLAlchemy connectable (engine/connection) or database string URI or sqlite3 DBAPI2 connection. Other DBAPI2 objects are not tested. Please consider using SQLAlchemy.\n",
      "\n"
     ]
    },
    {
     "data": {
      "text/html": [
       "<div>\n",
       "<style scoped>\n",
       "    .dataframe tbody tr th:only-of-type {\n",
       "        vertical-align: middle;\n",
       "    }\n",
       "\n",
       "    .dataframe tbody tr th {\n",
       "        vertical-align: top;\n",
       "    }\n",
       "\n",
       "    .dataframe thead th {\n",
       "        text-align: right;\n",
       "    }\n",
       "</style>\n",
       "<table border=\"1\" class=\"dataframe\">\n",
       "  <thead>\n",
       "    <tr style=\"text-align: right;\">\n",
       "      <th></th>\n",
       "      <th>cnt</th>\n",
       "    </tr>\n",
       "  </thead>\n",
       "  <tbody>\n",
       "    <tr>\n",
       "      <th>0</th>\n",
       "      <td>24073</td>\n",
       "    </tr>\n",
       "  </tbody>\n",
       "</table>\n",
       "</div>"
      ],
      "text/plain": [
       "     cnt\n",
       "0  24073"
      ]
     },
     "execution_count": 19,
     "metadata": {},
     "output_type": "execute_result"
    }
   ],
   "source": [
    "# результат запроса\n",
    "df_4_2 = pd.read_sql_query(query_4_2, connection)\n",
    "df_4_2"
   ]
  },
  {
   "cell_type": "markdown",
   "id": "635c4d5d-f323-4c66-b428-50a088120aa0",
   "metadata": {
    "id": "635c4d5d-f323-4c66-b428-50a088120aa0"
   },
   "source": [
    "3. Найдите средние значения для нижней и верхней границы зарплатной вилки. Округлите значения до целого."
   ]
  },
  {
   "cell_type": "code",
   "execution_count": 20,
   "id": "603cdbe4-0ec3-4106-8eaf-c73fcdd29165",
   "metadata": {
    "id": "603cdbe4-0ec3-4106-8eaf-c73fcdd29165"
   },
   "outputs": [],
   "source": [
    "# текст запроса\n",
    "query_4_3 = f'''\n",
    "select \n",
    "    round(avg(v.salary_from)) as avg_salary_from,\n",
    "    round(avg(v.salary_to)) as avg_salary_to\n",
    "from vacancies v\n",
    "'''"
   ]
  },
  {
   "cell_type": "code",
   "execution_count": 21,
   "id": "pswpAb66ovZZ",
   "metadata": {
    "id": "pswpAb66ovZZ"
   },
   "outputs": [
    {
     "name": "stderr",
     "output_type": "stream",
     "text": [
      "C:\\Users\\alpavlov\\AppData\\Local\\Temp\\ipykernel_10984\\3595259731.py:2: UserWarning:\n",
      "\n",
      "pandas only supports SQLAlchemy connectable (engine/connection) or database string URI or sqlite3 DBAPI2 connection. Other DBAPI2 objects are not tested. Please consider using SQLAlchemy.\n",
      "\n"
     ]
    },
    {
     "data": {
      "text/html": [
       "<div>\n",
       "<style scoped>\n",
       "    .dataframe tbody tr th:only-of-type {\n",
       "        vertical-align: middle;\n",
       "    }\n",
       "\n",
       "    .dataframe tbody tr th {\n",
       "        vertical-align: top;\n",
       "    }\n",
       "\n",
       "    .dataframe thead th {\n",
       "        text-align: right;\n",
       "    }\n",
       "</style>\n",
       "<table border=\"1\" class=\"dataframe\">\n",
       "  <thead>\n",
       "    <tr style=\"text-align: right;\">\n",
       "      <th></th>\n",
       "      <th>avg_salary_from</th>\n",
       "      <th>avg_salary_to</th>\n",
       "    </tr>\n",
       "  </thead>\n",
       "  <tbody>\n",
       "    <tr>\n",
       "      <th>0</th>\n",
       "      <td>71065.0</td>\n",
       "      <td>110537.0</td>\n",
       "    </tr>\n",
       "  </tbody>\n",
       "</table>\n",
       "</div>"
      ],
      "text/plain": [
       "   avg_salary_from  avg_salary_to\n",
       "0          71065.0       110537.0"
      ]
     },
     "execution_count": 21,
     "metadata": {},
     "output_type": "execute_result"
    }
   ],
   "source": [
    "# результат запроса\n",
    "df_4_3 = pd.read_sql_query(query_4_3, connection)\n",
    "df_4_3"
   ]
  },
  {
   "cell_type": "markdown",
   "id": "f3fdaec9-5fd3-4260-9cf5-1d7406b628a5",
   "metadata": {
    "id": "f3fdaec9-5fd3-4260-9cf5-1d7406b628a5"
   },
   "source": [
    "4. Напишите запрос, который выведет количество вакансий для каждого сочетания типа рабочего графика (schedule) и типа трудоустройства (employment), используемого в вакансиях. Результат отсортируйте по убыванию количества.\n"
   ]
  },
  {
   "cell_type": "code",
   "execution_count": 22,
   "id": "1ea710ec-871b-431e-9462-c7d0fd87011b",
   "metadata": {
    "id": "1ea710ec-871b-431e-9462-c7d0fd87011b"
   },
   "outputs": [],
   "source": [
    "# текст запроса\n",
    "query_4_4 = f'''\n",
    "select \n",
    "    v.schedule,\n",
    "    v.employment,\n",
    "    count(*) as cnt\n",
    "from vacancies v\n",
    "group by 1, 2\n",
    "order by 3 desc\n",
    "'''"
   ]
  },
  {
   "cell_type": "code",
   "execution_count": 23,
   "id": "lGUVqavdo4JQ",
   "metadata": {
    "id": "lGUVqavdo4JQ"
   },
   "outputs": [
    {
     "name": "stderr",
     "output_type": "stream",
     "text": [
      "C:\\Users\\alpavlov\\AppData\\Local\\Temp\\ipykernel_10984\\2028972612.py:2: UserWarning:\n",
      "\n",
      "pandas only supports SQLAlchemy connectable (engine/connection) or database string URI or sqlite3 DBAPI2 connection. Other DBAPI2 objects are not tested. Please consider using SQLAlchemy.\n",
      "\n"
     ]
    },
    {
     "data": {
      "text/html": [
       "<div>\n",
       "<style scoped>\n",
       "    .dataframe tbody tr th:only-of-type {\n",
       "        vertical-align: middle;\n",
       "    }\n",
       "\n",
       "    .dataframe tbody tr th {\n",
       "        vertical-align: top;\n",
       "    }\n",
       "\n",
       "    .dataframe thead th {\n",
       "        text-align: right;\n",
       "    }\n",
       "</style>\n",
       "<table border=\"1\" class=\"dataframe\">\n",
       "  <thead>\n",
       "    <tr style=\"text-align: right;\">\n",
       "      <th></th>\n",
       "      <th>schedule</th>\n",
       "      <th>employment</th>\n",
       "      <th>cnt</th>\n",
       "    </tr>\n",
       "  </thead>\n",
       "  <tbody>\n",
       "    <tr>\n",
       "      <th>0</th>\n",
       "      <td>Полный день</td>\n",
       "      <td>Полная занятость</td>\n",
       "      <td>35367</td>\n",
       "    </tr>\n",
       "    <tr>\n",
       "      <th>1</th>\n",
       "      <td>Удаленная работа</td>\n",
       "      <td>Полная занятость</td>\n",
       "      <td>7802</td>\n",
       "    </tr>\n",
       "    <tr>\n",
       "      <th>2</th>\n",
       "      <td>Гибкий график</td>\n",
       "      <td>Полная занятость</td>\n",
       "      <td>1593</td>\n",
       "    </tr>\n",
       "    <tr>\n",
       "      <th>3</th>\n",
       "      <td>Удаленная работа</td>\n",
       "      <td>Частичная занятость</td>\n",
       "      <td>1312</td>\n",
       "    </tr>\n",
       "    <tr>\n",
       "      <th>4</th>\n",
       "      <td>Сменный график</td>\n",
       "      <td>Полная занятость</td>\n",
       "      <td>940</td>\n",
       "    </tr>\n",
       "    <tr>\n",
       "      <th>5</th>\n",
       "      <td>Полный день</td>\n",
       "      <td>Стажировка</td>\n",
       "      <td>569</td>\n",
       "    </tr>\n",
       "    <tr>\n",
       "      <th>6</th>\n",
       "      <td>Вахтовый метод</td>\n",
       "      <td>Полная занятость</td>\n",
       "      <td>367</td>\n",
       "    </tr>\n",
       "    <tr>\n",
       "      <th>7</th>\n",
       "      <td>Полный день</td>\n",
       "      <td>Частичная занятость</td>\n",
       "      <td>347</td>\n",
       "    </tr>\n",
       "    <tr>\n",
       "      <th>8</th>\n",
       "      <td>Гибкий график</td>\n",
       "      <td>Частичная занятость</td>\n",
       "      <td>312</td>\n",
       "    </tr>\n",
       "    <tr>\n",
       "      <th>9</th>\n",
       "      <td>Полный день</td>\n",
       "      <td>Проектная работа</td>\n",
       "      <td>141</td>\n",
       "    </tr>\n",
       "    <tr>\n",
       "      <th>10</th>\n",
       "      <td>Удаленная работа</td>\n",
       "      <td>Проектная работа</td>\n",
       "      <td>133</td>\n",
       "    </tr>\n",
       "    <tr>\n",
       "      <th>11</th>\n",
       "      <td>Гибкий график</td>\n",
       "      <td>Стажировка</td>\n",
       "      <td>116</td>\n",
       "    </tr>\n",
       "    <tr>\n",
       "      <th>12</th>\n",
       "      <td>Сменный график</td>\n",
       "      <td>Частичная занятость</td>\n",
       "      <td>101</td>\n",
       "    </tr>\n",
       "    <tr>\n",
       "      <th>13</th>\n",
       "      <td>Удаленная работа</td>\n",
       "      <td>Стажировка</td>\n",
       "      <td>64</td>\n",
       "    </tr>\n",
       "    <tr>\n",
       "      <th>14</th>\n",
       "      <td>Гибкий график</td>\n",
       "      <td>Проектная работа</td>\n",
       "      <td>18</td>\n",
       "    </tr>\n",
       "    <tr>\n",
       "      <th>15</th>\n",
       "      <td>Сменный график</td>\n",
       "      <td>Стажировка</td>\n",
       "      <td>12</td>\n",
       "    </tr>\n",
       "    <tr>\n",
       "      <th>16</th>\n",
       "      <td>Вахтовый метод</td>\n",
       "      <td>Проектная работа</td>\n",
       "      <td>2</td>\n",
       "    </tr>\n",
       "    <tr>\n",
       "      <th>17</th>\n",
       "      <td>Сменный график</td>\n",
       "      <td>Проектная работа</td>\n",
       "      <td>1</td>\n",
       "    </tr>\n",
       "  </tbody>\n",
       "</table>\n",
       "</div>"
      ],
      "text/plain": [
       "            schedule           employment    cnt\n",
       "0        Полный день     Полная занятость  35367\n",
       "1   Удаленная работа     Полная занятость   7802\n",
       "2      Гибкий график     Полная занятость   1593\n",
       "3   Удаленная работа  Частичная занятость   1312\n",
       "4     Сменный график     Полная занятость    940\n",
       "5        Полный день           Стажировка    569\n",
       "6     Вахтовый метод     Полная занятость    367\n",
       "7        Полный день  Частичная занятость    347\n",
       "8      Гибкий график  Частичная занятость    312\n",
       "9        Полный день     Проектная работа    141\n",
       "10  Удаленная работа     Проектная работа    133\n",
       "11     Гибкий график           Стажировка    116\n",
       "12    Сменный график  Частичная занятость    101\n",
       "13  Удаленная работа           Стажировка     64\n",
       "14     Гибкий график     Проектная работа     18\n",
       "15    Сменный график           Стажировка     12\n",
       "16    Вахтовый метод     Проектная работа      2\n",
       "17    Сменный график     Проектная работа      1"
      ]
     },
     "execution_count": 23,
     "metadata": {},
     "output_type": "execute_result"
    }
   ],
   "source": [
    "# результат запроса\n",
    "df_4_4 = pd.read_sql_query(query_4_4, connection)\n",
    "df_4_4"
   ]
  },
  {
   "cell_type": "markdown",
   "id": "ea100375",
   "metadata": {},
   "source": [
    "Визуализация запроса"
   ]
  },
  {
   "cell_type": "code",
   "execution_count": 24,
   "id": "fddeb8db",
   "metadata": {},
   "outputs": [
    {
     "data": {
      "application/vnd.plotly.v1+json": {
       "config": {
        "plotlyServerURL": "https://plot.ly"
       },
       "data": [
        {
         "alignmentgroup": "True",
         "hovertemplate": "employment=Полная занятость<br>schedule=%{x}<br>cnt=%{text}<extra></extra>",
         "legendgroup": "Полная занятость",
         "marker": {
          "color": "#636efa",
          "pattern": {
           "shape": ""
          }
         },
         "name": "Полная занятость",
         "offsetgroup": "Полная занятость",
         "orientation": "v",
         "showlegend": true,
         "text": [
          35367,
          7802,
          1593,
          940,
          367
         ],
         "textposition": "auto",
         "type": "bar",
         "x": [
          "Полный день",
          "Удаленная работа",
          "Гибкий график",
          "Сменный график",
          "Вахтовый метод"
         ],
         "xaxis": "x",
         "y": [
          35367,
          7802,
          1593,
          940,
          367
         ],
         "yaxis": "y"
        },
        {
         "alignmentgroup": "True",
         "hovertemplate": "employment=Частичная занятость<br>schedule=%{x}<br>cnt=%{text}<extra></extra>",
         "legendgroup": "Частичная занятость",
         "marker": {
          "color": "#EF553B",
          "pattern": {
           "shape": ""
          }
         },
         "name": "Частичная занятость",
         "offsetgroup": "Частичная занятость",
         "orientation": "v",
         "showlegend": true,
         "text": [
          1312,
          347,
          312,
          101
         ],
         "textposition": "auto",
         "type": "bar",
         "x": [
          "Удаленная работа",
          "Полный день",
          "Гибкий график",
          "Сменный график"
         ],
         "xaxis": "x",
         "y": [
          1312,
          347,
          312,
          101
         ],
         "yaxis": "y"
        },
        {
         "alignmentgroup": "True",
         "hovertemplate": "employment=Стажировка<br>schedule=%{x}<br>cnt=%{text}<extra></extra>",
         "legendgroup": "Стажировка",
         "marker": {
          "color": "#00cc96",
          "pattern": {
           "shape": ""
          }
         },
         "name": "Стажировка",
         "offsetgroup": "Стажировка",
         "orientation": "v",
         "showlegend": true,
         "text": [
          569,
          116,
          64,
          12
         ],
         "textposition": "auto",
         "type": "bar",
         "x": [
          "Полный день",
          "Гибкий график",
          "Удаленная работа",
          "Сменный график"
         ],
         "xaxis": "x",
         "y": [
          569,
          116,
          64,
          12
         ],
         "yaxis": "y"
        },
        {
         "alignmentgroup": "True",
         "hovertemplate": "employment=Проектная работа<br>schedule=%{x}<br>cnt=%{text}<extra></extra>",
         "legendgroup": "Проектная работа",
         "marker": {
          "color": "#ab63fa",
          "pattern": {
           "shape": ""
          }
         },
         "name": "Проектная работа",
         "offsetgroup": "Проектная работа",
         "orientation": "v",
         "showlegend": true,
         "text": [
          141,
          133,
          18,
          2,
          1
         ],
         "textposition": "auto",
         "type": "bar",
         "x": [
          "Полный день",
          "Удаленная работа",
          "Гибкий график",
          "Вахтовый метод",
          "Сменный график"
         ],
         "xaxis": "x",
         "y": [
          141,
          133,
          18,
          2,
          1
         ],
         "yaxis": "y"
        }
       ],
       "layout": {
        "barmode": "group",
        "legend": {
         "title": {
          "text": "employment"
         },
         "tracegroupgap": 0
        },
        "template": {
         "data": {
          "bar": [
           {
            "error_x": {
             "color": "#2a3f5f"
            },
            "error_y": {
             "color": "#2a3f5f"
            },
            "marker": {
             "line": {
              "color": "#E5ECF6",
              "width": 0.5
             },
             "pattern": {
              "fillmode": "overlay",
              "size": 10,
              "solidity": 0.2
             }
            },
            "type": "bar"
           }
          ],
          "barpolar": [
           {
            "marker": {
             "line": {
              "color": "#E5ECF6",
              "width": 0.5
             },
             "pattern": {
              "fillmode": "overlay",
              "size": 10,
              "solidity": 0.2
             }
            },
            "type": "barpolar"
           }
          ],
          "carpet": [
           {
            "aaxis": {
             "endlinecolor": "#2a3f5f",
             "gridcolor": "white",
             "linecolor": "white",
             "minorgridcolor": "white",
             "startlinecolor": "#2a3f5f"
            },
            "baxis": {
             "endlinecolor": "#2a3f5f",
             "gridcolor": "white",
             "linecolor": "white",
             "minorgridcolor": "white",
             "startlinecolor": "#2a3f5f"
            },
            "type": "carpet"
           }
          ],
          "choropleth": [
           {
            "colorbar": {
             "outlinewidth": 0,
             "ticks": ""
            },
            "type": "choropleth"
           }
          ],
          "contour": [
           {
            "colorbar": {
             "outlinewidth": 0,
             "ticks": ""
            },
            "colorscale": [
             [
              0,
              "#0d0887"
             ],
             [
              0.1111111111111111,
              "#46039f"
             ],
             [
              0.2222222222222222,
              "#7201a8"
             ],
             [
              0.3333333333333333,
              "#9c179e"
             ],
             [
              0.4444444444444444,
              "#bd3786"
             ],
             [
              0.5555555555555556,
              "#d8576b"
             ],
             [
              0.6666666666666666,
              "#ed7953"
             ],
             [
              0.7777777777777778,
              "#fb9f3a"
             ],
             [
              0.8888888888888888,
              "#fdca26"
             ],
             [
              1,
              "#f0f921"
             ]
            ],
            "type": "contour"
           }
          ],
          "contourcarpet": [
           {
            "colorbar": {
             "outlinewidth": 0,
             "ticks": ""
            },
            "type": "contourcarpet"
           }
          ],
          "heatmap": [
           {
            "colorbar": {
             "outlinewidth": 0,
             "ticks": ""
            },
            "colorscale": [
             [
              0,
              "#0d0887"
             ],
             [
              0.1111111111111111,
              "#46039f"
             ],
             [
              0.2222222222222222,
              "#7201a8"
             ],
             [
              0.3333333333333333,
              "#9c179e"
             ],
             [
              0.4444444444444444,
              "#bd3786"
             ],
             [
              0.5555555555555556,
              "#d8576b"
             ],
             [
              0.6666666666666666,
              "#ed7953"
             ],
             [
              0.7777777777777778,
              "#fb9f3a"
             ],
             [
              0.8888888888888888,
              "#fdca26"
             ],
             [
              1,
              "#f0f921"
             ]
            ],
            "type": "heatmap"
           }
          ],
          "heatmapgl": [
           {
            "colorbar": {
             "outlinewidth": 0,
             "ticks": ""
            },
            "colorscale": [
             [
              0,
              "#0d0887"
             ],
             [
              0.1111111111111111,
              "#46039f"
             ],
             [
              0.2222222222222222,
              "#7201a8"
             ],
             [
              0.3333333333333333,
              "#9c179e"
             ],
             [
              0.4444444444444444,
              "#bd3786"
             ],
             [
              0.5555555555555556,
              "#d8576b"
             ],
             [
              0.6666666666666666,
              "#ed7953"
             ],
             [
              0.7777777777777778,
              "#fb9f3a"
             ],
             [
              0.8888888888888888,
              "#fdca26"
             ],
             [
              1,
              "#f0f921"
             ]
            ],
            "type": "heatmapgl"
           }
          ],
          "histogram": [
           {
            "marker": {
             "pattern": {
              "fillmode": "overlay",
              "size": 10,
              "solidity": 0.2
             }
            },
            "type": "histogram"
           }
          ],
          "histogram2d": [
           {
            "colorbar": {
             "outlinewidth": 0,
             "ticks": ""
            },
            "colorscale": [
             [
              0,
              "#0d0887"
             ],
             [
              0.1111111111111111,
              "#46039f"
             ],
             [
              0.2222222222222222,
              "#7201a8"
             ],
             [
              0.3333333333333333,
              "#9c179e"
             ],
             [
              0.4444444444444444,
              "#bd3786"
             ],
             [
              0.5555555555555556,
              "#d8576b"
             ],
             [
              0.6666666666666666,
              "#ed7953"
             ],
             [
              0.7777777777777778,
              "#fb9f3a"
             ],
             [
              0.8888888888888888,
              "#fdca26"
             ],
             [
              1,
              "#f0f921"
             ]
            ],
            "type": "histogram2d"
           }
          ],
          "histogram2dcontour": [
           {
            "colorbar": {
             "outlinewidth": 0,
             "ticks": ""
            },
            "colorscale": [
             [
              0,
              "#0d0887"
             ],
             [
              0.1111111111111111,
              "#46039f"
             ],
             [
              0.2222222222222222,
              "#7201a8"
             ],
             [
              0.3333333333333333,
              "#9c179e"
             ],
             [
              0.4444444444444444,
              "#bd3786"
             ],
             [
              0.5555555555555556,
              "#d8576b"
             ],
             [
              0.6666666666666666,
              "#ed7953"
             ],
             [
              0.7777777777777778,
              "#fb9f3a"
             ],
             [
              0.8888888888888888,
              "#fdca26"
             ],
             [
              1,
              "#f0f921"
             ]
            ],
            "type": "histogram2dcontour"
           }
          ],
          "mesh3d": [
           {
            "colorbar": {
             "outlinewidth": 0,
             "ticks": ""
            },
            "type": "mesh3d"
           }
          ],
          "parcoords": [
           {
            "line": {
             "colorbar": {
              "outlinewidth": 0,
              "ticks": ""
             }
            },
            "type": "parcoords"
           }
          ],
          "pie": [
           {
            "automargin": true,
            "type": "pie"
           }
          ],
          "scatter": [
           {
            "fillpattern": {
             "fillmode": "overlay",
             "size": 10,
             "solidity": 0.2
            },
            "type": "scatter"
           }
          ],
          "scatter3d": [
           {
            "line": {
             "colorbar": {
              "outlinewidth": 0,
              "ticks": ""
             }
            },
            "marker": {
             "colorbar": {
              "outlinewidth": 0,
              "ticks": ""
             }
            },
            "type": "scatter3d"
           }
          ],
          "scattercarpet": [
           {
            "marker": {
             "colorbar": {
              "outlinewidth": 0,
              "ticks": ""
             }
            },
            "type": "scattercarpet"
           }
          ],
          "scattergeo": [
           {
            "marker": {
             "colorbar": {
              "outlinewidth": 0,
              "ticks": ""
             }
            },
            "type": "scattergeo"
           }
          ],
          "scattergl": [
           {
            "marker": {
             "colorbar": {
              "outlinewidth": 0,
              "ticks": ""
             }
            },
            "type": "scattergl"
           }
          ],
          "scattermapbox": [
           {
            "marker": {
             "colorbar": {
              "outlinewidth": 0,
              "ticks": ""
             }
            },
            "type": "scattermapbox"
           }
          ],
          "scatterpolar": [
           {
            "marker": {
             "colorbar": {
              "outlinewidth": 0,
              "ticks": ""
             }
            },
            "type": "scatterpolar"
           }
          ],
          "scatterpolargl": [
           {
            "marker": {
             "colorbar": {
              "outlinewidth": 0,
              "ticks": ""
             }
            },
            "type": "scatterpolargl"
           }
          ],
          "scatterternary": [
           {
            "marker": {
             "colorbar": {
              "outlinewidth": 0,
              "ticks": ""
             }
            },
            "type": "scatterternary"
           }
          ],
          "surface": [
           {
            "colorbar": {
             "outlinewidth": 0,
             "ticks": ""
            },
            "colorscale": [
             [
              0,
              "#0d0887"
             ],
             [
              0.1111111111111111,
              "#46039f"
             ],
             [
              0.2222222222222222,
              "#7201a8"
             ],
             [
              0.3333333333333333,
              "#9c179e"
             ],
             [
              0.4444444444444444,
              "#bd3786"
             ],
             [
              0.5555555555555556,
              "#d8576b"
             ],
             [
              0.6666666666666666,
              "#ed7953"
             ],
             [
              0.7777777777777778,
              "#fb9f3a"
             ],
             [
              0.8888888888888888,
              "#fdca26"
             ],
             [
              1,
              "#f0f921"
             ]
            ],
            "type": "surface"
           }
          ],
          "table": [
           {
            "cells": {
             "fill": {
              "color": "#EBF0F8"
             },
             "line": {
              "color": "white"
             }
            },
            "header": {
             "fill": {
              "color": "#C8D4E3"
             },
             "line": {
              "color": "white"
             }
            },
            "type": "table"
           }
          ]
         },
         "layout": {
          "annotationdefaults": {
           "arrowcolor": "#2a3f5f",
           "arrowhead": 0,
           "arrowwidth": 1
          },
          "autotypenumbers": "strict",
          "coloraxis": {
           "colorbar": {
            "outlinewidth": 0,
            "ticks": ""
           }
          },
          "colorscale": {
           "diverging": [
            [
             0,
             "#8e0152"
            ],
            [
             0.1,
             "#c51b7d"
            ],
            [
             0.2,
             "#de77ae"
            ],
            [
             0.3,
             "#f1b6da"
            ],
            [
             0.4,
             "#fde0ef"
            ],
            [
             0.5,
             "#f7f7f7"
            ],
            [
             0.6,
             "#e6f5d0"
            ],
            [
             0.7,
             "#b8e186"
            ],
            [
             0.8,
             "#7fbc41"
            ],
            [
             0.9,
             "#4d9221"
            ],
            [
             1,
             "#276419"
            ]
           ],
           "sequential": [
            [
             0,
             "#0d0887"
            ],
            [
             0.1111111111111111,
             "#46039f"
            ],
            [
             0.2222222222222222,
             "#7201a8"
            ],
            [
             0.3333333333333333,
             "#9c179e"
            ],
            [
             0.4444444444444444,
             "#bd3786"
            ],
            [
             0.5555555555555556,
             "#d8576b"
            ],
            [
             0.6666666666666666,
             "#ed7953"
            ],
            [
             0.7777777777777778,
             "#fb9f3a"
            ],
            [
             0.8888888888888888,
             "#fdca26"
            ],
            [
             1,
             "#f0f921"
            ]
           ],
           "sequentialminus": [
            [
             0,
             "#0d0887"
            ],
            [
             0.1111111111111111,
             "#46039f"
            ],
            [
             0.2222222222222222,
             "#7201a8"
            ],
            [
             0.3333333333333333,
             "#9c179e"
            ],
            [
             0.4444444444444444,
             "#bd3786"
            ],
            [
             0.5555555555555556,
             "#d8576b"
            ],
            [
             0.6666666666666666,
             "#ed7953"
            ],
            [
             0.7777777777777778,
             "#fb9f3a"
            ],
            [
             0.8888888888888888,
             "#fdca26"
            ],
            [
             1,
             "#f0f921"
            ]
           ]
          },
          "colorway": [
           "#636efa",
           "#EF553B",
           "#00cc96",
           "#ab63fa",
           "#FFA15A",
           "#19d3f3",
           "#FF6692",
           "#B6E880",
           "#FF97FF",
           "#FECB52"
          ],
          "font": {
           "color": "#2a3f5f"
          },
          "geo": {
           "bgcolor": "white",
           "lakecolor": "white",
           "landcolor": "#E5ECF6",
           "showlakes": true,
           "showland": true,
           "subunitcolor": "white"
          },
          "hoverlabel": {
           "align": "left"
          },
          "hovermode": "closest",
          "mapbox": {
           "style": "light"
          },
          "paper_bgcolor": "white",
          "plot_bgcolor": "#E5ECF6",
          "polar": {
           "angularaxis": {
            "gridcolor": "white",
            "linecolor": "white",
            "ticks": ""
           },
           "bgcolor": "#E5ECF6",
           "radialaxis": {
            "gridcolor": "white",
            "linecolor": "white",
            "ticks": ""
           }
          },
          "scene": {
           "xaxis": {
            "backgroundcolor": "#E5ECF6",
            "gridcolor": "white",
            "gridwidth": 2,
            "linecolor": "white",
            "showbackground": true,
            "ticks": "",
            "zerolinecolor": "white"
           },
           "yaxis": {
            "backgroundcolor": "#E5ECF6",
            "gridcolor": "white",
            "gridwidth": 2,
            "linecolor": "white",
            "showbackground": true,
            "ticks": "",
            "zerolinecolor": "white"
           },
           "zaxis": {
            "backgroundcolor": "#E5ECF6",
            "gridcolor": "white",
            "gridwidth": 2,
            "linecolor": "white",
            "showbackground": true,
            "ticks": "",
            "zerolinecolor": "white"
           }
          },
          "shapedefaults": {
           "line": {
            "color": "#2a3f5f"
           }
          },
          "ternary": {
           "aaxis": {
            "gridcolor": "white",
            "linecolor": "white",
            "ticks": ""
           },
           "baxis": {
            "gridcolor": "white",
            "linecolor": "white",
            "ticks": ""
           },
           "bgcolor": "#E5ECF6",
           "caxis": {
            "gridcolor": "white",
            "linecolor": "white",
            "ticks": ""
           }
          },
          "title": {
           "x": 0.05
          },
          "xaxis": {
           "automargin": true,
           "gridcolor": "white",
           "linecolor": "white",
           "ticks": "",
           "title": {
            "standoff": 15
           },
           "zerolinecolor": "white",
           "zerolinewidth": 2
          },
          "yaxis": {
           "automargin": true,
           "gridcolor": "white",
           "linecolor": "white",
           "ticks": "",
           "title": {
            "standoff": 15
           },
           "zerolinecolor": "white",
           "zerolinewidth": 2
          }
         }
        },
        "title": {
         "text": "Кол-во вакансий по группам \"тип графика работы\"-\"тип занятости\""
        },
        "xaxis": {
         "anchor": "y",
         "domain": [
          0,
          1
         ],
         "title": {
          "text": "schedule"
         }
        },
        "yaxis": {
         "anchor": "x",
         "domain": [
          0,
          1
         ],
         "title": {
          "text": "cnt"
         }
        }
       }
      }
     },
     "metadata": {},
     "output_type": "display_data"
    }
   ],
   "source": [
    "fig_bar = px.bar(\n",
    "    data_frame=df_4_4,\n",
    "    x='schedule',\n",
    "    color='employment',\n",
    "    y='cnt',\n",
    "    barmode='group',\n",
    "    text='cnt',\n",
    "    orientation='v',\n",
    "    title='Кол-во вакансий по группам \"тип графика работы\"-\"тип занятости\"')\n",
    "\n",
    "fig_bar.show()\n",
    "fig_bar.write_image('graphs/img2.png')\n",
    "fig_bar.write_html(\"html/img2.html\")"
   ]
  },
  {
   "cell_type": "markdown",
   "id": "654685dd",
   "metadata": {},
   "source": [
    "![Кол-во вакансий по группам \"тип графика работы\"-\"тип занятости\"](graphs/img2.png)"
   ]
  },
  {
   "cell_type": "markdown",
   "id": "0136ffee-0ead-4a6b-b608-61d1c753a438",
   "metadata": {
    "id": "0136ffee-0ead-4a6b-b608-61d1c753a438"
   },
   "source": [
    "5. Напишите запрос, выводящий значения поля Требуемый опыт работы (experience) в порядке возрастания количества вакансий, в которых указан данный вариант опыта. "
   ]
  },
  {
   "cell_type": "code",
   "execution_count": 25,
   "id": "5b3a8e79-f7ab-4008-b767-12aea3a205ea",
   "metadata": {
    "id": "5b3a8e79-f7ab-4008-b767-12aea3a205ea"
   },
   "outputs": [],
   "source": [
    "# текст запроса\n",
    "query_4_5 = f'''\n",
    "select \n",
    "    v.experience,\n",
    "    count(*) as cnt  --count считает только не null значения\n",
    "from vacancies v\n",
    "group by 1\n",
    "order by 2\n",
    "'''"
   ]
  },
  {
   "cell_type": "code",
   "execution_count": 26,
   "id": "3Is64Y-hpDpq",
   "metadata": {
    "id": "3Is64Y-hpDpq"
   },
   "outputs": [
    {
     "name": "stderr",
     "output_type": "stream",
     "text": [
      "C:\\Users\\alpavlov\\AppData\\Local\\Temp\\ipykernel_10984\\210463167.py:2: UserWarning:\n",
      "\n",
      "pandas only supports SQLAlchemy connectable (engine/connection) or database string URI or sqlite3 DBAPI2 connection. Other DBAPI2 objects are not tested. Please consider using SQLAlchemy.\n",
      "\n"
     ]
    },
    {
     "data": {
      "text/html": [
       "<div>\n",
       "<style scoped>\n",
       "    .dataframe tbody tr th:only-of-type {\n",
       "        vertical-align: middle;\n",
       "    }\n",
       "\n",
       "    .dataframe tbody tr th {\n",
       "        vertical-align: top;\n",
       "    }\n",
       "\n",
       "    .dataframe thead th {\n",
       "        text-align: right;\n",
       "    }\n",
       "</style>\n",
       "<table border=\"1\" class=\"dataframe\">\n",
       "  <thead>\n",
       "    <tr style=\"text-align: right;\">\n",
       "      <th></th>\n",
       "      <th>experience</th>\n",
       "      <th>cnt</th>\n",
       "    </tr>\n",
       "  </thead>\n",
       "  <tbody>\n",
       "    <tr>\n",
       "      <th>0</th>\n",
       "      <td>Более 6 лет</td>\n",
       "      <td>1337</td>\n",
       "    </tr>\n",
       "    <tr>\n",
       "      <th>1</th>\n",
       "      <td>Нет опыта</td>\n",
       "      <td>7197</td>\n",
       "    </tr>\n",
       "    <tr>\n",
       "      <th>2</th>\n",
       "      <td>От 3 до 6 лет</td>\n",
       "      <td>14511</td>\n",
       "    </tr>\n",
       "    <tr>\n",
       "      <th>3</th>\n",
       "      <td>От 1 года до 3 лет</td>\n",
       "      <td>26152</td>\n",
       "    </tr>\n",
       "  </tbody>\n",
       "</table>\n",
       "</div>"
      ],
      "text/plain": [
       "           experience    cnt\n",
       "0         Более 6 лет   1337\n",
       "1           Нет опыта   7197\n",
       "2       От 3 до 6 лет  14511\n",
       "3  От 1 года до 3 лет  26152"
      ]
     },
     "execution_count": 26,
     "metadata": {},
     "output_type": "execute_result"
    }
   ],
   "source": [
    "# результат запроса\n",
    "df_4_5 = pd.read_sql_query(query_4_5, connection)\n",
    "df_4_5"
   ]
  },
  {
   "cell_type": "markdown",
   "id": "oq2b7n1QpIka",
   "metadata": {
    "id": "oq2b7n1QpIka"
   },
   "source": [
    "***"
   ]
  },
  {
   "cell_type": "markdown",
   "id": "302a1fb3",
   "metadata": {},
   "source": [
    "## Дополнительное исследование"
   ]
  },
  {
   "cell_type": "markdown",
   "id": "f9cfe52b",
   "metadata": {},
   "source": [
    "Топ-10 самых популярных сочетаний сферы деятельности и требуемого опыта в вакансиях"
   ]
  },
  {
   "cell_type": "code",
   "execution_count": 27,
   "id": "7d91e81d",
   "metadata": {},
   "outputs": [
    {
     "name": "stderr",
     "output_type": "stream",
     "text": [
      "C:\\Users\\alpavlov\\AppData\\Local\\Temp\\ipykernel_10984\\279587693.py:18: UserWarning:\n",
      "\n",
      "pandas only supports SQLAlchemy connectable (engine/connection) or database string URI or sqlite3 DBAPI2 connection. Other DBAPI2 objects are not tested. Please consider using SQLAlchemy.\n",
      "\n"
     ]
    },
    {
     "data": {
      "text/html": [
       "<div>\n",
       "<style scoped>\n",
       "    .dataframe tbody tr th:only-of-type {\n",
       "        vertical-align: middle;\n",
       "    }\n",
       "\n",
       "    .dataframe tbody tr th {\n",
       "        vertical-align: top;\n",
       "    }\n",
       "\n",
       "    .dataframe thead th {\n",
       "        text-align: right;\n",
       "    }\n",
       "</style>\n",
       "<table border=\"1\" class=\"dataframe\">\n",
       "  <thead>\n",
       "    <tr style=\"text-align: right;\">\n",
       "      <th></th>\n",
       "      <th>ind_name</th>\n",
       "      <th>experience</th>\n",
       "      <th>cnt</th>\n",
       "    </tr>\n",
       "  </thead>\n",
       "  <tbody>\n",
       "    <tr>\n",
       "      <th>0</th>\n",
       "      <td>Разработка программного обеспечения</td>\n",
       "      <td>От 1 года до 3 лет</td>\n",
       "      <td>6421</td>\n",
       "    </tr>\n",
       "    <tr>\n",
       "      <th>1</th>\n",
       "      <td>Системная интеграция,  автоматизации технологи...</td>\n",
       "      <td>От 1 года до 3 лет</td>\n",
       "      <td>5829</td>\n",
       "    </tr>\n",
       "    <tr>\n",
       "      <th>2</th>\n",
       "      <td>Разработка программного обеспечения</td>\n",
       "      <td>От 3 до 6 лет</td>\n",
       "      <td>4526</td>\n",
       "    </tr>\n",
       "    <tr>\n",
       "      <th>3</th>\n",
       "      <td>Системная интеграция,  автоматизации технологи...</td>\n",
       "      <td>От 3 до 6 лет</td>\n",
       "      <td>3702</td>\n",
       "    </tr>\n",
       "    <tr>\n",
       "      <th>4</th>\n",
       "      <td>Интернет-компания (поисковики, платежные систе...</td>\n",
       "      <td>От 1 года до 3 лет</td>\n",
       "      <td>2870</td>\n",
       "    </tr>\n",
       "    <tr>\n",
       "      <th>5</th>\n",
       "      <td>Интернет-компания (поисковики, платежные систе...</td>\n",
       "      <td>Нет опыта</td>\n",
       "      <td>1930</td>\n",
       "    </tr>\n",
       "    <tr>\n",
       "      <th>6</th>\n",
       "      <td>Банк</td>\n",
       "      <td>От 1 года до 3 лет</td>\n",
       "      <td>1677</td>\n",
       "    </tr>\n",
       "    <tr>\n",
       "      <th>7</th>\n",
       "      <td>Интернет-компания (поисковики, платежные систе...</td>\n",
       "      <td>От 3 до 6 лет</td>\n",
       "      <td>1514</td>\n",
       "    </tr>\n",
       "    <tr>\n",
       "      <th>8</th>\n",
       "      <td>Разработка программного обеспечения</td>\n",
       "      <td>Нет опыта</td>\n",
       "      <td>1225</td>\n",
       "    </tr>\n",
       "    <tr>\n",
       "      <th>9</th>\n",
       "      <td>Системная интеграция,  автоматизации технологи...</td>\n",
       "      <td>Нет опыта</td>\n",
       "      <td>1217</td>\n",
       "    </tr>\n",
       "  </tbody>\n",
       "</table>\n",
       "</div>"
      ],
      "text/plain": [
       "                                            ind_name          experience   cnt\n",
       "0                Разработка программного обеспечения  От 1 года до 3 лет  6421\n",
       "1  Системная интеграция,  автоматизации технологи...  От 1 года до 3 лет  5829\n",
       "2                Разработка программного обеспечения       От 3 до 6 лет  4526\n",
       "3  Системная интеграция,  автоматизации технологи...       От 3 до 6 лет  3702\n",
       "4  Интернет-компания (поисковики, платежные систе...  От 1 года до 3 лет  2870\n",
       "5  Интернет-компания (поисковики, платежные систе...           Нет опыта  1930\n",
       "6                                               Банк  От 1 года до 3 лет  1677\n",
       "7  Интернет-компания (поисковики, платежные систе...       От 3 до 6 лет  1514\n",
       "8                Разработка программного обеспечения           Нет опыта  1225\n",
       "9  Системная интеграция,  автоматизации технологи...           Нет опыта  1217"
      ]
     },
     "execution_count": 27,
     "metadata": {},
     "output_type": "execute_result"
    }
   ],
   "source": [
    "# текст запроса\n",
    "query_4_6 = f'''\n",
    "select \n",
    "    i.name as ind_name,\n",
    "    v.experience,\n",
    "    count(*) as cnt  --count считает только не null значения\n",
    "from vacancies v\n",
    "left join employers e on v.employer_id = e.id\n",
    "left join employers_industries ei on e.id = ei.employer_id\n",
    "left join industries i on i.id = ei.industry_id\n",
    "where i.name is not null\n",
    "group by 1, 2\n",
    "order by 3 desc\n",
    "limit 10\n",
    "'''\n",
    "\n",
    "# результат запроса\n",
    "df_4_6 = pd.read_sql_query(query_4_6, connection)\n",
    "df_4_6"
   ]
  },
  {
   "cell_type": "markdown",
   "id": "52675645",
   "metadata": {},
   "source": [
    "# Выводы:"
   ]
  },
  {
   "cell_type": "markdown",
   "id": "77275264",
   "metadata": {},
   "source": [
    "Наибольшее кол-во вакансий в Москве. Так же стоит отметить, что агрегатор работает не только в России, но и еще зарубежом, судя по присутствующим городам. Примерно у половины вакансий не заполнены сведения о заработной плате. Скорее всего это связано с потребностью работотаделей в гибкости при определении ЗП для каждого кандидата. Средняя нижняя граница ЗП составляет 71065, а верхняя 110537. Эти показатели ЗП соответствуют средему уровню ЗП IT специалиста. Также ранее был сделан вывод, что агрегатор имеет большую популярность у IT компаний, соответсвенно средние показатели ЗП на агрегаторе вакансий примерно соответствуют средним ЗП в IT индустрии. Наиболее популяным сочетанием \"тип занятости\"-\"тип рабочего графика\" с внушительным отрывом в 5 раз является \"полная занятость\" - \"полный день\" с более чем 35000 вакансиями. Самое частовстречаемое значение показателя \"Опыт работы\" является \"От 1 года до 3 лет\" с 26152 вакансиями. Также на агрегаторе больше всего junior/middle IT-вакансий."
   ]
  },
  {
   "cell_type": "markdown",
   "id": "7ea20ab6-04a7-40a0-adec-443a0e5a42c3",
   "metadata": {
    "id": "7ea20ab6-04a7-40a0-adec-443a0e5a42c3"
   },
   "source": [
    "# Юнит 5. Анализ работодателей"
   ]
  },
  {
   "cell_type": "markdown",
   "id": "968aed80-74ef-4ffb-b5bf-c65b84e9caea",
   "metadata": {
    "id": "968aed80-74ef-4ffb-b5bf-c65b84e9caea"
   },
   "source": [
    "1. Напишите запрос, который позволит узнать, какие работодатели находятся на первом и пятом месте по количеству вакансий."
   ]
  },
  {
   "cell_type": "code",
   "execution_count": 28,
   "id": "f2d62796-d400-4ec1-a675-88112739a50e",
   "metadata": {
    "id": "f2d62796-d400-4ec1-a675-88112739a50e"
   },
   "outputs": [],
   "source": [
    "# текст запроса\n",
    "query_5_1 = f'''\n",
    "(select \n",
    "    e.name,\n",
    "    count(*) as cnt_vac\n",
    "from employers e\n",
    "join vacancies v on v.employer_id = e.id\n",
    "group by 1\n",
    "order by 2 desc\n",
    "limit 1)  -- получение 1-го работодателя по кол-ву вакансий\n",
    "\n",
    "union all \n",
    "\n",
    "(select \n",
    "    e.name,\n",
    "    count(*) as cnt_vac\n",
    "from employers e\n",
    "join vacancies v on v.employer_id = e.id\n",
    "group by 1\n",
    "order by 2 desc\n",
    "offset 4 limit 1)  -- получение 5-го работодателя по кол-ву вакансий\n",
    "'''"
   ]
  },
  {
   "cell_type": "code",
   "execution_count": 29,
   "id": "64tOMkAxqkQk",
   "metadata": {
    "id": "64tOMkAxqkQk"
   },
   "outputs": [
    {
     "name": "stderr",
     "output_type": "stream",
     "text": [
      "C:\\Users\\alpavlov\\AppData\\Local\\Temp\\ipykernel_10984\\1147638897.py:2: UserWarning:\n",
      "\n",
      "pandas only supports SQLAlchemy connectable (engine/connection) or database string URI or sqlite3 DBAPI2 connection. Other DBAPI2 objects are not tested. Please consider using SQLAlchemy.\n",
      "\n"
     ]
    },
    {
     "data": {
      "text/html": [
       "<div>\n",
       "<style scoped>\n",
       "    .dataframe tbody tr th:only-of-type {\n",
       "        vertical-align: middle;\n",
       "    }\n",
       "\n",
       "    .dataframe tbody tr th {\n",
       "        vertical-align: top;\n",
       "    }\n",
       "\n",
       "    .dataframe thead th {\n",
       "        text-align: right;\n",
       "    }\n",
       "</style>\n",
       "<table border=\"1\" class=\"dataframe\">\n",
       "  <thead>\n",
       "    <tr style=\"text-align: right;\">\n",
       "      <th></th>\n",
       "      <th>name</th>\n",
       "      <th>cnt_vac</th>\n",
       "    </tr>\n",
       "  </thead>\n",
       "  <tbody>\n",
       "    <tr>\n",
       "      <th>0</th>\n",
       "      <td>Яндекс</td>\n",
       "      <td>1933</td>\n",
       "    </tr>\n",
       "    <tr>\n",
       "      <th>1</th>\n",
       "      <td>Газпром нефть</td>\n",
       "      <td>331</td>\n",
       "    </tr>\n",
       "  </tbody>\n",
       "</table>\n",
       "</div>"
      ],
      "text/plain": [
       "            name  cnt_vac\n",
       "0         Яндекс     1933\n",
       "1  Газпром нефть      331"
      ]
     },
     "execution_count": 29,
     "metadata": {},
     "output_type": "execute_result"
    }
   ],
   "source": [
    "# результат запроса\n",
    "df_5_1 = pd.read_sql_query(query_5_1, connection)\n",
    "df_5_1"
   ]
  },
  {
   "cell_type": "markdown",
   "id": "68377cfc-b378-43dc-ab7d-1195abf2c515",
   "metadata": {
    "id": "68377cfc-b378-43dc-ab7d-1195abf2c515"
   },
   "source": [
    "2. Напишите запрос, который для каждого региона выведет количество работодателей и вакансий в нём.\n",
    "Среди регионов, в которых нет вакансий, найдите тот, в котором наибольшее количество работодателей.\n"
   ]
  },
  {
   "cell_type": "code",
   "execution_count": 30,
   "id": "dd7df27a-e3e8-412e-a21a-5d389b71e891",
   "metadata": {
    "id": "dd7df27a-e3e8-412e-a21a-5d389b71e891"
   },
   "outputs": [],
   "source": [
    "# текст запроса\n",
    "query_5_2 = f'''\n",
    "select\n",
    "    a.name as name,\n",
    "    count(e.id) as cnt_emp,\n",
    "    count(v.id) as cnt_vac\n",
    "from areas a\n",
    "left join employers e on a.id = e.area  -- присоединение работодателей по региону\n",
    "left join vacancies v on a.id = v.area_id  -- присоединение вакансий по региону\n",
    "group by 1\n",
    "having count(v.id) = 0  -- фильтр для регионов, где нет вакансий\n",
    "order by 2 desc  -- сортировка для нахождения региона, в котором наибольшее кол-во работодателей\n",
    "limit 1\n",
    "'''"
   ]
  },
  {
   "cell_type": "code",
   "execution_count": 31,
   "id": "x1ikWbydrbf6",
   "metadata": {
    "id": "x1ikWbydrbf6"
   },
   "outputs": [
    {
     "name": "stderr",
     "output_type": "stream",
     "text": [
      "C:\\Users\\alpavlov\\AppData\\Local\\Temp\\ipykernel_10984\\2306256317.py:2: UserWarning:\n",
      "\n",
      "pandas only supports SQLAlchemy connectable (engine/connection) or database string URI or sqlite3 DBAPI2 connection. Other DBAPI2 objects are not tested. Please consider using SQLAlchemy.\n",
      "\n"
     ]
    },
    {
     "data": {
      "text/html": [
       "<div>\n",
       "<style scoped>\n",
       "    .dataframe tbody tr th:only-of-type {\n",
       "        vertical-align: middle;\n",
       "    }\n",
       "\n",
       "    .dataframe tbody tr th {\n",
       "        vertical-align: top;\n",
       "    }\n",
       "\n",
       "    .dataframe thead th {\n",
       "        text-align: right;\n",
       "    }\n",
       "</style>\n",
       "<table border=\"1\" class=\"dataframe\">\n",
       "  <thead>\n",
       "    <tr style=\"text-align: right;\">\n",
       "      <th></th>\n",
       "      <th>name</th>\n",
       "      <th>cnt_emp</th>\n",
       "      <th>cnt_vac</th>\n",
       "    </tr>\n",
       "  </thead>\n",
       "  <tbody>\n",
       "    <tr>\n",
       "      <th>0</th>\n",
       "      <td>Россия</td>\n",
       "      <td>410</td>\n",
       "      <td>0</td>\n",
       "    </tr>\n",
       "  </tbody>\n",
       "</table>\n",
       "</div>"
      ],
      "text/plain": [
       "     name  cnt_emp  cnt_vac\n",
       "0  Россия      410        0"
      ]
     },
     "execution_count": 31,
     "metadata": {},
     "output_type": "execute_result"
    }
   ],
   "source": [
    "# результат запроса\n",
    "df_5_2 = pd.read_sql_query(query_5_2, connection)\n",
    "df_5_2"
   ]
  },
  {
   "cell_type": "markdown",
   "id": "f2fe0acb-ab1a-4e15-9326-2560e22d73c1",
   "metadata": {
    "id": "f2fe0acb-ab1a-4e15-9326-2560e22d73c1"
   },
   "source": [
    "3. Для каждого работодателя посчитайте количество регионов, в которых он публикует свои вакансии. Отсортируйте результат по убыванию количества.\n"
   ]
  },
  {
   "cell_type": "code",
   "execution_count": 32,
   "id": "6271f8ad-bd2e-4196-ae4a-5b39c4c1010e",
   "metadata": {
    "id": "6271f8ad-bd2e-4196-ae4a-5b39c4c1010e"
   },
   "outputs": [],
   "source": [
    "# текст запроса\n",
    "query_5_3 = f'''\n",
    "select\n",
    "    e.name,\n",
    "    count(distinct v.area_id) as cnt_areas  -- считаем кол-во уникальных регионов, для каждого работодателя\n",
    "from employers e\n",
    "join vacancies v on e.id = v.employer_id\n",
    "group by 1\n",
    "order by 2 desc\n",
    "'''"
   ]
  },
  {
   "cell_type": "code",
   "execution_count": 33,
   "id": "1EIvX3HasH4F",
   "metadata": {
    "id": "1EIvX3HasH4F"
   },
   "outputs": [
    {
     "name": "stderr",
     "output_type": "stream",
     "text": [
      "C:\\Users\\alpavlov\\AppData\\Local\\Temp\\ipykernel_10984\\133400711.py:2: UserWarning:\n",
      "\n",
      "pandas only supports SQLAlchemy connectable (engine/connection) or database string URI or sqlite3 DBAPI2 connection. Other DBAPI2 objects are not tested. Please consider using SQLAlchemy.\n",
      "\n"
     ]
    },
    {
     "data": {
      "text/html": [
       "<div>\n",
       "<style scoped>\n",
       "    .dataframe tbody tr th:only-of-type {\n",
       "        vertical-align: middle;\n",
       "    }\n",
       "\n",
       "    .dataframe tbody tr th {\n",
       "        vertical-align: top;\n",
       "    }\n",
       "\n",
       "    .dataframe thead th {\n",
       "        text-align: right;\n",
       "    }\n",
       "</style>\n",
       "<table border=\"1\" class=\"dataframe\">\n",
       "  <thead>\n",
       "    <tr style=\"text-align: right;\">\n",
       "      <th></th>\n",
       "      <th>name</th>\n",
       "      <th>cnt_areas</th>\n",
       "    </tr>\n",
       "  </thead>\n",
       "  <tbody>\n",
       "    <tr>\n",
       "      <th>0</th>\n",
       "      <td>Яндекс</td>\n",
       "      <td>181</td>\n",
       "    </tr>\n",
       "    <tr>\n",
       "      <th>1</th>\n",
       "      <td>Ростелеком</td>\n",
       "      <td>152</td>\n",
       "    </tr>\n",
       "    <tr>\n",
       "      <th>2</th>\n",
       "      <td>Спецремонт</td>\n",
       "      <td>116</td>\n",
       "    </tr>\n",
       "    <tr>\n",
       "      <th>3</th>\n",
       "      <td>Поляков Денис Иванович</td>\n",
       "      <td>88</td>\n",
       "    </tr>\n",
       "    <tr>\n",
       "      <th>4</th>\n",
       "      <td>ООО ЕФИН</td>\n",
       "      <td>71</td>\n",
       "    </tr>\n",
       "    <tr>\n",
       "      <th>...</th>\n",
       "      <td>...</td>\n",
       "      <td>...</td>\n",
       "    </tr>\n",
       "    <tr>\n",
       "      <th>14761</th>\n",
       "      <td>UniSol</td>\n",
       "      <td>1</td>\n",
       "    </tr>\n",
       "    <tr>\n",
       "      <th>14762</th>\n",
       "      <td>UNISTORY LLC</td>\n",
       "      <td>1</td>\n",
       "    </tr>\n",
       "    <tr>\n",
       "      <th>14763</th>\n",
       "      <td>UNIT6</td>\n",
       "      <td>1</td>\n",
       "    </tr>\n",
       "    <tr>\n",
       "      <th>14764</th>\n",
       "      <td>United Distribution</td>\n",
       "      <td>1</td>\n",
       "    </tr>\n",
       "    <tr>\n",
       "      <th>14765</th>\n",
       "      <td>UNITEL LLC</td>\n",
       "      <td>1</td>\n",
       "    </tr>\n",
       "  </tbody>\n",
       "</table>\n",
       "<p>14766 rows × 2 columns</p>\n",
       "</div>"
      ],
      "text/plain": [
       "                         name  cnt_areas\n",
       "0                      Яндекс        181\n",
       "1                  Ростелеком        152\n",
       "2                  Спецремонт        116\n",
       "3      Поляков Денис Иванович         88\n",
       "4                   ООО ЕФИН          71\n",
       "...                       ...        ...\n",
       "14761                  UniSol          1\n",
       "14762            UNISTORY LLC          1\n",
       "14763                   UNIT6          1\n",
       "14764     United Distribution          1\n",
       "14765              UNITEL LLC          1\n",
       "\n",
       "[14766 rows x 2 columns]"
      ]
     },
     "execution_count": 33,
     "metadata": {},
     "output_type": "execute_result"
    }
   ],
   "source": [
    "# результат запроса\n",
    "df_5_3 = pd.read_sql_query(query_5_3, connection)\n",
    "df_5_3"
   ]
  },
  {
   "cell_type": "markdown",
   "id": "eab2206d-d95b-468b-8e5f-34381abf0ce7",
   "metadata": {
    "id": "eab2206d-d95b-468b-8e5f-34381abf0ce7"
   },
   "source": [
    "4. Напишите запрос для подсчёта количества работодателей, у которых не указана сфера деятельности. "
   ]
  },
  {
   "cell_type": "code",
   "execution_count": 34,
   "id": "80defb23-bfb1-4a18-8be6-bf36aa7165d5",
   "metadata": {
    "id": "80defb23-bfb1-4a18-8be6-bf36aa7165d5"
   },
   "outputs": [],
   "source": [
    "# текст запроса\n",
    "query_5_4 = f'''\n",
    "select\n",
    "    count(*) as cnt\n",
    "from employers e\n",
    "left join employers_industries ei on e.id = ei.employer_id\n",
    "left join industries i on ei.industry_id = i.id\n",
    "where i.id is null  -- фильтр по работадателям, у которых не указана сфера деятельности\n",
    "'''"
   ]
  },
  {
   "cell_type": "code",
   "execution_count": 35,
   "id": "Dp_yCx6ysQSu",
   "metadata": {
    "id": "Dp_yCx6ysQSu"
   },
   "outputs": [
    {
     "name": "stderr",
     "output_type": "stream",
     "text": [
      "C:\\Users\\alpavlov\\AppData\\Local\\Temp\\ipykernel_10984\\1045119256.py:2: UserWarning:\n",
      "\n",
      "pandas only supports SQLAlchemy connectable (engine/connection) or database string URI or sqlite3 DBAPI2 connection. Other DBAPI2 objects are not tested. Please consider using SQLAlchemy.\n",
      "\n"
     ]
    },
    {
     "data": {
      "text/html": [
       "<div>\n",
       "<style scoped>\n",
       "    .dataframe tbody tr th:only-of-type {\n",
       "        vertical-align: middle;\n",
       "    }\n",
       "\n",
       "    .dataframe tbody tr th {\n",
       "        vertical-align: top;\n",
       "    }\n",
       "\n",
       "    .dataframe thead th {\n",
       "        text-align: right;\n",
       "    }\n",
       "</style>\n",
       "<table border=\"1\" class=\"dataframe\">\n",
       "  <thead>\n",
       "    <tr style=\"text-align: right;\">\n",
       "      <th></th>\n",
       "      <th>cnt</th>\n",
       "    </tr>\n",
       "  </thead>\n",
       "  <tbody>\n",
       "    <tr>\n",
       "      <th>0</th>\n",
       "      <td>8419</td>\n",
       "    </tr>\n",
       "  </tbody>\n",
       "</table>\n",
       "</div>"
      ],
      "text/plain": [
       "    cnt\n",
       "0  8419"
      ]
     },
     "execution_count": 35,
     "metadata": {},
     "output_type": "execute_result"
    }
   ],
   "source": [
    "# результат запроса\n",
    "df_5_4 = pd.read_sql_query(query_5_4, connection)\n",
    "df_5_4"
   ]
  },
  {
   "cell_type": "markdown",
   "id": "0112af31-f6b0-4e3b-82ab-71296e752e5e",
   "metadata": {
    "id": "0112af31-f6b0-4e3b-82ab-71296e752e5e"
   },
   "source": [
    "5. Напишите запрос, чтобы узнать название компании, находящейся на третьем месте в алфавитном списке (по названию) компаний, у которых указано четыре сферы деятельности. "
   ]
  },
  {
   "cell_type": "code",
   "execution_count": 36,
   "id": "973b0cfc-a972-470a-8b4a-68744ef220c4",
   "metadata": {
    "id": "973b0cfc-a972-470a-8b4a-68744ef220c4"
   },
   "outputs": [],
   "source": [
    "# текст запроса\n",
    "query_5_5 = f'''\n",
    "select\n",
    "    e.name,\n",
    "    count(i.id) as cnt  -- кол-во сфер деятельности компании\n",
    "from employers e\n",
    "left join employers_industries ei on e.id = ei.employer_id\n",
    "left join industries i on ei.industry_id = i.id\n",
    "group by 1\n",
    "having count(i.id) = 4  -- фильтр для компаний с 4 сферами деятельности\n",
    "order by 1\n",
    "offset 2 limit 1  -- получение 3-го по алфавиту работодателя с 4-мя сферами деятельности \n",
    "'''"
   ]
  },
  {
   "cell_type": "code",
   "execution_count": 37,
   "id": "xsPtpp8EsaED",
   "metadata": {
    "id": "xsPtpp8EsaED"
   },
   "outputs": [
    {
     "name": "stderr",
     "output_type": "stream",
     "text": [
      "C:\\Users\\alpavlov\\AppData\\Local\\Temp\\ipykernel_10984\\4025176131.py:2: UserWarning:\n",
      "\n",
      "pandas only supports SQLAlchemy connectable (engine/connection) or database string URI or sqlite3 DBAPI2 connection. Other DBAPI2 objects are not tested. Please consider using SQLAlchemy.\n",
      "\n"
     ]
    },
    {
     "data": {
      "text/html": [
       "<div>\n",
       "<style scoped>\n",
       "    .dataframe tbody tr th:only-of-type {\n",
       "        vertical-align: middle;\n",
       "    }\n",
       "\n",
       "    .dataframe tbody tr th {\n",
       "        vertical-align: top;\n",
       "    }\n",
       "\n",
       "    .dataframe thead th {\n",
       "        text-align: right;\n",
       "    }\n",
       "</style>\n",
       "<table border=\"1\" class=\"dataframe\">\n",
       "  <thead>\n",
       "    <tr style=\"text-align: right;\">\n",
       "      <th></th>\n",
       "      <th>name</th>\n",
       "      <th>cnt</th>\n",
       "    </tr>\n",
       "  </thead>\n",
       "  <tbody>\n",
       "    <tr>\n",
       "      <th>0</th>\n",
       "      <td>2ГИС</td>\n",
       "      <td>4</td>\n",
       "    </tr>\n",
       "  </tbody>\n",
       "</table>\n",
       "</div>"
      ],
      "text/plain": [
       "   name  cnt\n",
       "0  2ГИС    4"
      ]
     },
     "execution_count": 37,
     "metadata": {},
     "output_type": "execute_result"
    }
   ],
   "source": [
    "# результат запроса\n",
    "df_5_5 = pd.read_sql_query(query_5_5, connection)\n",
    "df_5_5"
   ]
  },
  {
   "cell_type": "markdown",
   "id": "3bfcfdaf-755d-4d2b-8ed8-326201dc07ab",
   "metadata": {
    "id": "3bfcfdaf-755d-4d2b-8ed8-326201dc07ab"
   },
   "source": [
    "6. С помощью запроса выясните, у какого количества работодателей в качестве сферы деятельности указана Разработка программного обеспечения.\n"
   ]
  },
  {
   "cell_type": "code",
   "execution_count": 38,
   "id": "ad3f270f-2991-47eb-929b-e8f88a55b0d1",
   "metadata": {
    "id": "ad3f270f-2991-47eb-929b-e8f88a55b0d1"
   },
   "outputs": [],
   "source": [
    "# текст запроса\n",
    "query_5_6 = f'''\n",
    "select\n",
    "    count(*)\n",
    "from employers e\n",
    "left join employers_industries ei on e.id = ei.employer_id\n",
    "left join industries i on ei.industry_id = i.id\n",
    "where i.name = 'Разработка программного обеспечения'\n",
    "'''"
   ]
  },
  {
   "cell_type": "code",
   "execution_count": 39,
   "id": "H72qxWM0shPR",
   "metadata": {
    "id": "H72qxWM0shPR"
   },
   "outputs": [
    {
     "name": "stderr",
     "output_type": "stream",
     "text": [
      "C:\\Users\\alpavlov\\AppData\\Local\\Temp\\ipykernel_10984\\2713946032.py:2: UserWarning:\n",
      "\n",
      "pandas only supports SQLAlchemy connectable (engine/connection) or database string URI or sqlite3 DBAPI2 connection. Other DBAPI2 objects are not tested. Please consider using SQLAlchemy.\n",
      "\n"
     ]
    },
    {
     "data": {
      "text/html": [
       "<div>\n",
       "<style scoped>\n",
       "    .dataframe tbody tr th:only-of-type {\n",
       "        vertical-align: middle;\n",
       "    }\n",
       "\n",
       "    .dataframe tbody tr th {\n",
       "        vertical-align: top;\n",
       "    }\n",
       "\n",
       "    .dataframe thead th {\n",
       "        text-align: right;\n",
       "    }\n",
       "</style>\n",
       "<table border=\"1\" class=\"dataframe\">\n",
       "  <thead>\n",
       "    <tr style=\"text-align: right;\">\n",
       "      <th></th>\n",
       "      <th>count</th>\n",
       "    </tr>\n",
       "  </thead>\n",
       "  <tbody>\n",
       "    <tr>\n",
       "      <th>0</th>\n",
       "      <td>3553</td>\n",
       "    </tr>\n",
       "  </tbody>\n",
       "</table>\n",
       "</div>"
      ],
      "text/plain": [
       "   count\n",
       "0   3553"
      ]
     },
     "execution_count": 39,
     "metadata": {},
     "output_type": "execute_result"
    }
   ],
   "source": [
    "# результат запроса\n",
    "df_5_6 = pd.read_sql_query(query_5_6, connection)\n",
    "df_5_6"
   ]
  },
  {
   "cell_type": "markdown",
   "id": "7b02bb86-0546-40fb-94a4-242f050a5c57",
   "metadata": {
    "id": "7b02bb86-0546-40fb-94a4-242f050a5c57"
   },
   "source": [
    "7. Для компании «Яндекс» выведите список регионов-миллионников, в которых представлены вакансии компании, вместе с количеством вакансий в этих регионах. Также добавьте строку Total с общим количеством вакансий компании. Результат отсортируйте по возрастанию количества.\n",
    "\n",
    "Список городов-милионников надо взять [отсюда](https://ru.wikipedia.org/wiki/%D0%93%D0%BE%D1%80%D0%BE%D0%B4%D0%B0-%D0%BC%D0%B8%D0%BB%D0%BB%D0%B8%D0%BE%D0%BD%D0%B5%D1%80%D1%8B_%D0%A0%D0%BE%D1%81%D1%81%D0%B8%D0%B8). \n",
    "\n",
    "Если возникнут трудности с этим задание посмотрите материалы модуля  PYTHON-17. Как получать данные из веб-источников и API. "
   ]
  },
  {
   "cell_type": "code",
   "execution_count": 40,
   "id": "ZdfrL6gIs1Pn",
   "metadata": {
    "id": "ZdfrL6gIs1Pn"
   },
   "outputs": [
    {
     "name": "stdout",
     "output_type": "stream",
     "text": [
      "('Москва', 'Санкт-Петербург', 'Новосибирск', 'Екатеринбург', 'Казань', 'Красноярск', 'Нижний Новгород', 'Челябинск', 'Уфа', 'Самара', 'Ростов-на-Дону', 'Краснодар', 'Омск', 'Воронеж', 'Пермь', 'Волгоград')\n"
     ]
    }
   ],
   "source": [
    "# код для получения списка городов-милионников\n",
    "import requests \n",
    "from bs4 import BeautifulSoup\n",
    "\n",
    "\n",
    "url = \"https://ru.wikipedia.org/wiki/%D0%93%D0%BE%D1%80%D0%BE%D0%B4%D0%B0-%D0%BC%D0%B8%D0%BB%D0%BB%D0%B8%D0%BE%D0%BD%D0%B5%D1%80%D1%8B_%D0%A0%D0%BE%D1%81%D1%81%D0%B8%D0%B8\"\n",
    "response = requests.get(url)  \n",
    "\n",
    "page = BeautifulSoup(response.text, \"html.parser\")\n",
    "table = page.find('table')  # получение таблицы с регонами-миллионниками\n",
    "\n",
    "cities = []\n",
    "\n",
    "# цикл по всем строкам и столбцам таблицы с регонами-миллионниками\n",
    "for row in table.find_all('tr'):\n",
    "    columns = row.find_all('td')\n",
    "    if len(columns) > 1:  # условие на непустую ячейку\n",
    "        cities.append(columns[1].text)\n",
    "\n",
    "cities = tuple(cities)\n",
    "print(cities)"
   ]
  },
  {
   "cell_type": "code",
   "execution_count": 41,
   "id": "5a0e32a4-e68a-4365-8a39-2fe24c542c36",
   "metadata": {
    "id": "5a0e32a4-e68a-4365-8a39-2fe24c542c36"
   },
   "outputs": [],
   "source": [
    "# текст запроса\n",
    "query_5_7 = f'''\n",
    "(select\n",
    "    a.name,\n",
    "    count(v.id) as cnt\n",
    "from areas a\n",
    "left join vacancies v on v.area_id = a.id\n",
    "left join employers_industries ei on ei.employer_id = v.employer_id\n",
    "left join industries i on ei.industry_id = i.id\n",
    "left join employers e on ei.employer_id = e.id\n",
    "where e.name = 'Яндекс' and a.name in {cities}\n",
    "group by a.name\n",
    "order by 2)  --кол-во вакансий Яндекс для каждого города-миллионника\n",
    "\n",
    "union all\n",
    "\n",
    "(select \n",
    "    'Total' as name,\n",
    "    count(*)\n",
    "from areas a\n",
    "left join vacancies v on v.area_id = a.id\n",
    "left join employers_industries ei on ei.employer_id = v.employer_id\n",
    "left join industries i on ei.industry_id = i.id\n",
    "left join employers e on ei.employer_id = e.id\n",
    "where e.name = 'Яндекс' and a.name in {cities})  -- подсчет общего кол-ва вакансий Яндекс в городах миллониках\n",
    "order by 2\n",
    "'''"
   ]
  },
  {
   "cell_type": "code",
   "execution_count": 42,
   "id": "ttPhiO1rsvPq",
   "metadata": {
    "id": "ttPhiO1rsvPq"
   },
   "outputs": [
    {
     "name": "stderr",
     "output_type": "stream",
     "text": [
      "C:\\Users\\alpavlov\\AppData\\Local\\Temp\\ipykernel_10984\\2595257991.py:2: UserWarning:\n",
      "\n",
      "pandas only supports SQLAlchemy connectable (engine/connection) or database string URI or sqlite3 DBAPI2 connection. Other DBAPI2 objects are not tested. Please consider using SQLAlchemy.\n",
      "\n"
     ]
    },
    {
     "data": {
      "text/html": [
       "<div>\n",
       "<style scoped>\n",
       "    .dataframe tbody tr th:only-of-type {\n",
       "        vertical-align: middle;\n",
       "    }\n",
       "\n",
       "    .dataframe tbody tr th {\n",
       "        vertical-align: top;\n",
       "    }\n",
       "\n",
       "    .dataframe thead th {\n",
       "        text-align: right;\n",
       "    }\n",
       "</style>\n",
       "<table border=\"1\" class=\"dataframe\">\n",
       "  <thead>\n",
       "    <tr style=\"text-align: right;\">\n",
       "      <th></th>\n",
       "      <th>name</th>\n",
       "      <th>cnt</th>\n",
       "    </tr>\n",
       "  </thead>\n",
       "  <tbody>\n",
       "    <tr>\n",
       "      <th>0</th>\n",
       "      <td>Омск</td>\n",
       "      <td>21</td>\n",
       "    </tr>\n",
       "    <tr>\n",
       "      <th>1</th>\n",
       "      <td>Челябинск</td>\n",
       "      <td>22</td>\n",
       "    </tr>\n",
       "    <tr>\n",
       "      <th>2</th>\n",
       "      <td>Красноярск</td>\n",
       "      <td>23</td>\n",
       "    </tr>\n",
       "    <tr>\n",
       "      <th>3</th>\n",
       "      <td>Волгоград</td>\n",
       "      <td>24</td>\n",
       "    </tr>\n",
       "    <tr>\n",
       "      <th>4</th>\n",
       "      <td>Ростов-на-Дону</td>\n",
       "      <td>25</td>\n",
       "    </tr>\n",
       "    <tr>\n",
       "      <th>5</th>\n",
       "      <td>Пермь</td>\n",
       "      <td>25</td>\n",
       "    </tr>\n",
       "    <tr>\n",
       "      <th>6</th>\n",
       "      <td>Казань</td>\n",
       "      <td>25</td>\n",
       "    </tr>\n",
       "    <tr>\n",
       "      <th>7</th>\n",
       "      <td>Уфа</td>\n",
       "      <td>26</td>\n",
       "    </tr>\n",
       "    <tr>\n",
       "      <th>8</th>\n",
       "      <td>Самара</td>\n",
       "      <td>26</td>\n",
       "    </tr>\n",
       "    <tr>\n",
       "      <th>9</th>\n",
       "      <td>Краснодар</td>\n",
       "      <td>30</td>\n",
       "    </tr>\n",
       "    <tr>\n",
       "      <th>10</th>\n",
       "      <td>Воронеж</td>\n",
       "      <td>32</td>\n",
       "    </tr>\n",
       "    <tr>\n",
       "      <th>11</th>\n",
       "      <td>Новосибирск</td>\n",
       "      <td>35</td>\n",
       "    </tr>\n",
       "    <tr>\n",
       "      <th>12</th>\n",
       "      <td>Нижний Новгород</td>\n",
       "      <td>36</td>\n",
       "    </tr>\n",
       "    <tr>\n",
       "      <th>13</th>\n",
       "      <td>Екатеринбург</td>\n",
       "      <td>39</td>\n",
       "    </tr>\n",
       "    <tr>\n",
       "      <th>14</th>\n",
       "      <td>Санкт-Петербург</td>\n",
       "      <td>42</td>\n",
       "    </tr>\n",
       "    <tr>\n",
       "      <th>15</th>\n",
       "      <td>Москва</td>\n",
       "      <td>54</td>\n",
       "    </tr>\n",
       "    <tr>\n",
       "      <th>16</th>\n",
       "      <td>Total</td>\n",
       "      <td>485</td>\n",
       "    </tr>\n",
       "  </tbody>\n",
       "</table>\n",
       "</div>"
      ],
      "text/plain": [
       "               name  cnt\n",
       "0              Омск   21\n",
       "1         Челябинск   22\n",
       "2        Красноярск   23\n",
       "3         Волгоград   24\n",
       "4    Ростов-на-Дону   25\n",
       "5             Пермь   25\n",
       "6            Казань   25\n",
       "7               Уфа   26\n",
       "8            Самара   26\n",
       "9         Краснодар   30\n",
       "10          Воронеж   32\n",
       "11      Новосибирск   35\n",
       "12  Нижний Новгород   36\n",
       "13     Екатеринбург   39\n",
       "14  Санкт-Петербург   42\n",
       "15           Москва   54\n",
       "16            Total  485"
      ]
     },
     "execution_count": 42,
     "metadata": {},
     "output_type": "execute_result"
    }
   ],
   "source": [
    "# результат запроса\n",
    "df_5_7 = pd.read_sql_query(query_5_7, connection)\n",
    "df_5_7"
   ]
  },
  {
   "cell_type": "markdown",
   "id": "04966e40-3bc3-4dc8-9ba2-e80580ce3abc",
   "metadata": {
    "id": "04966e40-3bc3-4dc8-9ba2-e80580ce3abc"
   },
   "source": [
    "***"
   ]
  },
  {
   "cell_type": "markdown",
   "id": "19cd06ac",
   "metadata": {},
   "source": [
    "## Дополнительное исследование"
   ]
  },
  {
   "cell_type": "markdown",
   "id": "a9b9e07b",
   "metadata": {},
   "source": [
    "Распределение кол-ва вакансий по работодателям (топ 10)"
   ]
  },
  {
   "cell_type": "code",
   "execution_count": 43,
   "id": "d0ed5e38",
   "metadata": {},
   "outputs": [],
   "source": [
    "# текст запроса\n",
    "query_5_8 = f'''\n",
    "select \n",
    "    e.name,\n",
    "    count(*) as cnt_vac\n",
    "from employers e\n",
    "join vacancies v on v.employer_id = e.id\n",
    "group by 1\n",
    "order by 2 desc\n",
    "limit 10\n",
    "'''"
   ]
  },
  {
   "cell_type": "code",
   "execution_count": 44,
   "id": "7d7bdd9e",
   "metadata": {},
   "outputs": [
    {
     "name": "stderr",
     "output_type": "stream",
     "text": [
      "C:\\Users\\alpavlov\\AppData\\Local\\Temp\\ipykernel_10984\\1966148404.py:2: UserWarning:\n",
      "\n",
      "pandas only supports SQLAlchemy connectable (engine/connection) or database string URI or sqlite3 DBAPI2 connection. Other DBAPI2 objects are not tested. Please consider using SQLAlchemy.\n",
      "\n"
     ]
    },
    {
     "data": {
      "text/html": [
       "<div>\n",
       "<style scoped>\n",
       "    .dataframe tbody tr th:only-of-type {\n",
       "        vertical-align: middle;\n",
       "    }\n",
       "\n",
       "    .dataframe tbody tr th {\n",
       "        vertical-align: top;\n",
       "    }\n",
       "\n",
       "    .dataframe thead th {\n",
       "        text-align: right;\n",
       "    }\n",
       "</style>\n",
       "<table border=\"1\" class=\"dataframe\">\n",
       "  <thead>\n",
       "    <tr style=\"text-align: right;\">\n",
       "      <th></th>\n",
       "      <th>name</th>\n",
       "      <th>cnt_vac</th>\n",
       "    </tr>\n",
       "  </thead>\n",
       "  <tbody>\n",
       "    <tr>\n",
       "      <th>0</th>\n",
       "      <td>Яндекс</td>\n",
       "      <td>1933</td>\n",
       "    </tr>\n",
       "    <tr>\n",
       "      <th>1</th>\n",
       "      <td>Ростелеком</td>\n",
       "      <td>491</td>\n",
       "    </tr>\n",
       "    <tr>\n",
       "      <th>2</th>\n",
       "      <td>Тинькофф</td>\n",
       "      <td>444</td>\n",
       "    </tr>\n",
       "    <tr>\n",
       "      <th>3</th>\n",
       "      <td>СБЕР</td>\n",
       "      <td>428</td>\n",
       "    </tr>\n",
       "    <tr>\n",
       "      <th>4</th>\n",
       "      <td>Газпром нефть</td>\n",
       "      <td>331</td>\n",
       "    </tr>\n",
       "    <tr>\n",
       "      <th>5</th>\n",
       "      <td>ИК СИБИНТЕК</td>\n",
       "      <td>327</td>\n",
       "    </tr>\n",
       "    <tr>\n",
       "      <th>6</th>\n",
       "      <td>МТС</td>\n",
       "      <td>292</td>\n",
       "    </tr>\n",
       "    <tr>\n",
       "      <th>7</th>\n",
       "      <td>DataArt</td>\n",
       "      <td>247</td>\n",
       "    </tr>\n",
       "    <tr>\n",
       "      <th>8</th>\n",
       "      <td>Совкомбанк Технологии</td>\n",
       "      <td>204</td>\n",
       "    </tr>\n",
       "    <tr>\n",
       "      <th>9</th>\n",
       "      <td>Первый Бит</td>\n",
       "      <td>176</td>\n",
       "    </tr>\n",
       "  </tbody>\n",
       "</table>\n",
       "</div>"
      ],
      "text/plain": [
       "                    name  cnt_vac\n",
       "0                 Яндекс     1933\n",
       "1             Ростелеком      491\n",
       "2               Тинькофф      444\n",
       "3                   СБЕР      428\n",
       "4          Газпром нефть      331\n",
       "5            ИК СИБИНТЕК      327\n",
       "6                    МТС      292\n",
       "7                DataArt      247\n",
       "8  Совкомбанк Технологии      204\n",
       "9             Первый Бит      176"
      ]
     },
     "execution_count": 44,
     "metadata": {},
     "output_type": "execute_result"
    }
   ],
   "source": [
    "# результат запроса\n",
    "df_5_8 = pd.read_sql_query(query_5_8, connection)\n",
    "df_5_8"
   ]
  },
  {
   "cell_type": "markdown",
   "id": "08f3408c",
   "metadata": {},
   "source": [
    "Визуализация запроса"
   ]
  },
  {
   "cell_type": "code",
   "execution_count": 45,
   "id": "8277f903",
   "metadata": {},
   "outputs": [
    {
     "data": {
      "application/vnd.plotly.v1+json": {
       "config": {
        "plotlyServerURL": "https://plot.ly"
       },
       "data": [
        {
         "alignmentgroup": "True",
         "hovertemplate": "name=%{x}<br>cnt_vac=%{text}<extra></extra>",
         "legendgroup": "Яндекс",
         "marker": {
          "color": "#636efa",
          "pattern": {
           "shape": ""
          }
         },
         "name": "Яндекс",
         "offsetgroup": "Яндекс",
         "orientation": "v",
         "showlegend": true,
         "text": [
          1933
         ],
         "textposition": "auto",
         "type": "bar",
         "x": [
          "Яндекс"
         ],
         "xaxis": "x",
         "y": [
          1933
         ],
         "yaxis": "y"
        },
        {
         "alignmentgroup": "True",
         "hovertemplate": "name=%{x}<br>cnt_vac=%{text}<extra></extra>",
         "legendgroup": "Ростелеком",
         "marker": {
          "color": "#EF553B",
          "pattern": {
           "shape": ""
          }
         },
         "name": "Ростелеком",
         "offsetgroup": "Ростелеком",
         "orientation": "v",
         "showlegend": true,
         "text": [
          491
         ],
         "textposition": "auto",
         "type": "bar",
         "x": [
          "Ростелеком"
         ],
         "xaxis": "x",
         "y": [
          491
         ],
         "yaxis": "y"
        },
        {
         "alignmentgroup": "True",
         "hovertemplate": "name=%{x}<br>cnt_vac=%{text}<extra></extra>",
         "legendgroup": "Тинькофф",
         "marker": {
          "color": "#00cc96",
          "pattern": {
           "shape": ""
          }
         },
         "name": "Тинькофф",
         "offsetgroup": "Тинькофф",
         "orientation": "v",
         "showlegend": true,
         "text": [
          444
         ],
         "textposition": "auto",
         "type": "bar",
         "x": [
          "Тинькофф"
         ],
         "xaxis": "x",
         "y": [
          444
         ],
         "yaxis": "y"
        },
        {
         "alignmentgroup": "True",
         "hovertemplate": "name=%{x}<br>cnt_vac=%{text}<extra></extra>",
         "legendgroup": "СБЕР",
         "marker": {
          "color": "#ab63fa",
          "pattern": {
           "shape": ""
          }
         },
         "name": "СБЕР",
         "offsetgroup": "СБЕР",
         "orientation": "v",
         "showlegend": true,
         "text": [
          428
         ],
         "textposition": "auto",
         "type": "bar",
         "x": [
          "СБЕР"
         ],
         "xaxis": "x",
         "y": [
          428
         ],
         "yaxis": "y"
        },
        {
         "alignmentgroup": "True",
         "hovertemplate": "name=%{x}<br>cnt_vac=%{text}<extra></extra>",
         "legendgroup": "Газпром нефть",
         "marker": {
          "color": "#FFA15A",
          "pattern": {
           "shape": ""
          }
         },
         "name": "Газпром нефть",
         "offsetgroup": "Газпром нефть",
         "orientation": "v",
         "showlegend": true,
         "text": [
          331
         ],
         "textposition": "auto",
         "type": "bar",
         "x": [
          "Газпром нефть"
         ],
         "xaxis": "x",
         "y": [
          331
         ],
         "yaxis": "y"
        },
        {
         "alignmentgroup": "True",
         "hovertemplate": "name=%{x}<br>cnt_vac=%{text}<extra></extra>",
         "legendgroup": "ИК СИБИНТЕК",
         "marker": {
          "color": "#19d3f3",
          "pattern": {
           "shape": ""
          }
         },
         "name": "ИК СИБИНТЕК",
         "offsetgroup": "ИК СИБИНТЕК",
         "orientation": "v",
         "showlegend": true,
         "text": [
          327
         ],
         "textposition": "auto",
         "type": "bar",
         "x": [
          "ИК СИБИНТЕК"
         ],
         "xaxis": "x",
         "y": [
          327
         ],
         "yaxis": "y"
        },
        {
         "alignmentgroup": "True",
         "hovertemplate": "name=%{x}<br>cnt_vac=%{text}<extra></extra>",
         "legendgroup": "МТС",
         "marker": {
          "color": "#FF6692",
          "pattern": {
           "shape": ""
          }
         },
         "name": "МТС",
         "offsetgroup": "МТС",
         "orientation": "v",
         "showlegend": true,
         "text": [
          292
         ],
         "textposition": "auto",
         "type": "bar",
         "x": [
          "МТС"
         ],
         "xaxis": "x",
         "y": [
          292
         ],
         "yaxis": "y"
        },
        {
         "alignmentgroup": "True",
         "hovertemplate": "name=%{x}<br>cnt_vac=%{text}<extra></extra>",
         "legendgroup": "DataArt",
         "marker": {
          "color": "#B6E880",
          "pattern": {
           "shape": ""
          }
         },
         "name": "DataArt",
         "offsetgroup": "DataArt",
         "orientation": "v",
         "showlegend": true,
         "text": [
          247
         ],
         "textposition": "auto",
         "type": "bar",
         "x": [
          "DataArt"
         ],
         "xaxis": "x",
         "y": [
          247
         ],
         "yaxis": "y"
        },
        {
         "alignmentgroup": "True",
         "hovertemplate": "name=%{x}<br>cnt_vac=%{text}<extra></extra>",
         "legendgroup": "Совкомбанк Технологии",
         "marker": {
          "color": "#FF97FF",
          "pattern": {
           "shape": ""
          }
         },
         "name": "Совкомбанк Технологии",
         "offsetgroup": "Совкомбанк Технологии",
         "orientation": "v",
         "showlegend": true,
         "text": [
          204
         ],
         "textposition": "auto",
         "type": "bar",
         "x": [
          "Совкомбанк Технологии"
         ],
         "xaxis": "x",
         "y": [
          204
         ],
         "yaxis": "y"
        },
        {
         "alignmentgroup": "True",
         "hovertemplate": "name=%{x}<br>cnt_vac=%{text}<extra></extra>",
         "legendgroup": "Первый Бит",
         "marker": {
          "color": "#FECB52",
          "pattern": {
           "shape": ""
          }
         },
         "name": "Первый Бит",
         "offsetgroup": "Первый Бит",
         "orientation": "v",
         "showlegend": true,
         "text": [
          176
         ],
         "textposition": "auto",
         "type": "bar",
         "x": [
          "Первый Бит"
         ],
         "xaxis": "x",
         "y": [
          176
         ],
         "yaxis": "y"
        }
       ],
       "layout": {
        "barmode": "relative",
        "height": 500,
        "legend": {
         "title": {
          "text": "name"
         },
         "tracegroupgap": 0
        },
        "template": {
         "data": {
          "bar": [
           {
            "error_x": {
             "color": "#2a3f5f"
            },
            "error_y": {
             "color": "#2a3f5f"
            },
            "marker": {
             "line": {
              "color": "#E5ECF6",
              "width": 0.5
             },
             "pattern": {
              "fillmode": "overlay",
              "size": 10,
              "solidity": 0.2
             }
            },
            "type": "bar"
           }
          ],
          "barpolar": [
           {
            "marker": {
             "line": {
              "color": "#E5ECF6",
              "width": 0.5
             },
             "pattern": {
              "fillmode": "overlay",
              "size": 10,
              "solidity": 0.2
             }
            },
            "type": "barpolar"
           }
          ],
          "carpet": [
           {
            "aaxis": {
             "endlinecolor": "#2a3f5f",
             "gridcolor": "white",
             "linecolor": "white",
             "minorgridcolor": "white",
             "startlinecolor": "#2a3f5f"
            },
            "baxis": {
             "endlinecolor": "#2a3f5f",
             "gridcolor": "white",
             "linecolor": "white",
             "minorgridcolor": "white",
             "startlinecolor": "#2a3f5f"
            },
            "type": "carpet"
           }
          ],
          "choropleth": [
           {
            "colorbar": {
             "outlinewidth": 0,
             "ticks": ""
            },
            "type": "choropleth"
           }
          ],
          "contour": [
           {
            "colorbar": {
             "outlinewidth": 0,
             "ticks": ""
            },
            "colorscale": [
             [
              0,
              "#0d0887"
             ],
             [
              0.1111111111111111,
              "#46039f"
             ],
             [
              0.2222222222222222,
              "#7201a8"
             ],
             [
              0.3333333333333333,
              "#9c179e"
             ],
             [
              0.4444444444444444,
              "#bd3786"
             ],
             [
              0.5555555555555556,
              "#d8576b"
             ],
             [
              0.6666666666666666,
              "#ed7953"
             ],
             [
              0.7777777777777778,
              "#fb9f3a"
             ],
             [
              0.8888888888888888,
              "#fdca26"
             ],
             [
              1,
              "#f0f921"
             ]
            ],
            "type": "contour"
           }
          ],
          "contourcarpet": [
           {
            "colorbar": {
             "outlinewidth": 0,
             "ticks": ""
            },
            "type": "contourcarpet"
           }
          ],
          "heatmap": [
           {
            "colorbar": {
             "outlinewidth": 0,
             "ticks": ""
            },
            "colorscale": [
             [
              0,
              "#0d0887"
             ],
             [
              0.1111111111111111,
              "#46039f"
             ],
             [
              0.2222222222222222,
              "#7201a8"
             ],
             [
              0.3333333333333333,
              "#9c179e"
             ],
             [
              0.4444444444444444,
              "#bd3786"
             ],
             [
              0.5555555555555556,
              "#d8576b"
             ],
             [
              0.6666666666666666,
              "#ed7953"
             ],
             [
              0.7777777777777778,
              "#fb9f3a"
             ],
             [
              0.8888888888888888,
              "#fdca26"
             ],
             [
              1,
              "#f0f921"
             ]
            ],
            "type": "heatmap"
           }
          ],
          "heatmapgl": [
           {
            "colorbar": {
             "outlinewidth": 0,
             "ticks": ""
            },
            "colorscale": [
             [
              0,
              "#0d0887"
             ],
             [
              0.1111111111111111,
              "#46039f"
             ],
             [
              0.2222222222222222,
              "#7201a8"
             ],
             [
              0.3333333333333333,
              "#9c179e"
             ],
             [
              0.4444444444444444,
              "#bd3786"
             ],
             [
              0.5555555555555556,
              "#d8576b"
             ],
             [
              0.6666666666666666,
              "#ed7953"
             ],
             [
              0.7777777777777778,
              "#fb9f3a"
             ],
             [
              0.8888888888888888,
              "#fdca26"
             ],
             [
              1,
              "#f0f921"
             ]
            ],
            "type": "heatmapgl"
           }
          ],
          "histogram": [
           {
            "marker": {
             "pattern": {
              "fillmode": "overlay",
              "size": 10,
              "solidity": 0.2
             }
            },
            "type": "histogram"
           }
          ],
          "histogram2d": [
           {
            "colorbar": {
             "outlinewidth": 0,
             "ticks": ""
            },
            "colorscale": [
             [
              0,
              "#0d0887"
             ],
             [
              0.1111111111111111,
              "#46039f"
             ],
             [
              0.2222222222222222,
              "#7201a8"
             ],
             [
              0.3333333333333333,
              "#9c179e"
             ],
             [
              0.4444444444444444,
              "#bd3786"
             ],
             [
              0.5555555555555556,
              "#d8576b"
             ],
             [
              0.6666666666666666,
              "#ed7953"
             ],
             [
              0.7777777777777778,
              "#fb9f3a"
             ],
             [
              0.8888888888888888,
              "#fdca26"
             ],
             [
              1,
              "#f0f921"
             ]
            ],
            "type": "histogram2d"
           }
          ],
          "histogram2dcontour": [
           {
            "colorbar": {
             "outlinewidth": 0,
             "ticks": ""
            },
            "colorscale": [
             [
              0,
              "#0d0887"
             ],
             [
              0.1111111111111111,
              "#46039f"
             ],
             [
              0.2222222222222222,
              "#7201a8"
             ],
             [
              0.3333333333333333,
              "#9c179e"
             ],
             [
              0.4444444444444444,
              "#bd3786"
             ],
             [
              0.5555555555555556,
              "#d8576b"
             ],
             [
              0.6666666666666666,
              "#ed7953"
             ],
             [
              0.7777777777777778,
              "#fb9f3a"
             ],
             [
              0.8888888888888888,
              "#fdca26"
             ],
             [
              1,
              "#f0f921"
             ]
            ],
            "type": "histogram2dcontour"
           }
          ],
          "mesh3d": [
           {
            "colorbar": {
             "outlinewidth": 0,
             "ticks": ""
            },
            "type": "mesh3d"
           }
          ],
          "parcoords": [
           {
            "line": {
             "colorbar": {
              "outlinewidth": 0,
              "ticks": ""
             }
            },
            "type": "parcoords"
           }
          ],
          "pie": [
           {
            "automargin": true,
            "type": "pie"
           }
          ],
          "scatter": [
           {
            "fillpattern": {
             "fillmode": "overlay",
             "size": 10,
             "solidity": 0.2
            },
            "type": "scatter"
           }
          ],
          "scatter3d": [
           {
            "line": {
             "colorbar": {
              "outlinewidth": 0,
              "ticks": ""
             }
            },
            "marker": {
             "colorbar": {
              "outlinewidth": 0,
              "ticks": ""
             }
            },
            "type": "scatter3d"
           }
          ],
          "scattercarpet": [
           {
            "marker": {
             "colorbar": {
              "outlinewidth": 0,
              "ticks": ""
             }
            },
            "type": "scattercarpet"
           }
          ],
          "scattergeo": [
           {
            "marker": {
             "colorbar": {
              "outlinewidth": 0,
              "ticks": ""
             }
            },
            "type": "scattergeo"
           }
          ],
          "scattergl": [
           {
            "marker": {
             "colorbar": {
              "outlinewidth": 0,
              "ticks": ""
             }
            },
            "type": "scattergl"
           }
          ],
          "scattermapbox": [
           {
            "marker": {
             "colorbar": {
              "outlinewidth": 0,
              "ticks": ""
             }
            },
            "type": "scattermapbox"
           }
          ],
          "scatterpolar": [
           {
            "marker": {
             "colorbar": {
              "outlinewidth": 0,
              "ticks": ""
             }
            },
            "type": "scatterpolar"
           }
          ],
          "scatterpolargl": [
           {
            "marker": {
             "colorbar": {
              "outlinewidth": 0,
              "ticks": ""
             }
            },
            "type": "scatterpolargl"
           }
          ],
          "scatterternary": [
           {
            "marker": {
             "colorbar": {
              "outlinewidth": 0,
              "ticks": ""
             }
            },
            "type": "scatterternary"
           }
          ],
          "surface": [
           {
            "colorbar": {
             "outlinewidth": 0,
             "ticks": ""
            },
            "colorscale": [
             [
              0,
              "#0d0887"
             ],
             [
              0.1111111111111111,
              "#46039f"
             ],
             [
              0.2222222222222222,
              "#7201a8"
             ],
             [
              0.3333333333333333,
              "#9c179e"
             ],
             [
              0.4444444444444444,
              "#bd3786"
             ],
             [
              0.5555555555555556,
              "#d8576b"
             ],
             [
              0.6666666666666666,
              "#ed7953"
             ],
             [
              0.7777777777777778,
              "#fb9f3a"
             ],
             [
              0.8888888888888888,
              "#fdca26"
             ],
             [
              1,
              "#f0f921"
             ]
            ],
            "type": "surface"
           }
          ],
          "table": [
           {
            "cells": {
             "fill": {
              "color": "#EBF0F8"
             },
             "line": {
              "color": "white"
             }
            },
            "header": {
             "fill": {
              "color": "#C8D4E3"
             },
             "line": {
              "color": "white"
             }
            },
            "type": "table"
           }
          ]
         },
         "layout": {
          "annotationdefaults": {
           "arrowcolor": "#2a3f5f",
           "arrowhead": 0,
           "arrowwidth": 1
          },
          "autotypenumbers": "strict",
          "coloraxis": {
           "colorbar": {
            "outlinewidth": 0,
            "ticks": ""
           }
          },
          "colorscale": {
           "diverging": [
            [
             0,
             "#8e0152"
            ],
            [
             0.1,
             "#c51b7d"
            ],
            [
             0.2,
             "#de77ae"
            ],
            [
             0.3,
             "#f1b6da"
            ],
            [
             0.4,
             "#fde0ef"
            ],
            [
             0.5,
             "#f7f7f7"
            ],
            [
             0.6,
             "#e6f5d0"
            ],
            [
             0.7,
             "#b8e186"
            ],
            [
             0.8,
             "#7fbc41"
            ],
            [
             0.9,
             "#4d9221"
            ],
            [
             1,
             "#276419"
            ]
           ],
           "sequential": [
            [
             0,
             "#0d0887"
            ],
            [
             0.1111111111111111,
             "#46039f"
            ],
            [
             0.2222222222222222,
             "#7201a8"
            ],
            [
             0.3333333333333333,
             "#9c179e"
            ],
            [
             0.4444444444444444,
             "#bd3786"
            ],
            [
             0.5555555555555556,
             "#d8576b"
            ],
            [
             0.6666666666666666,
             "#ed7953"
            ],
            [
             0.7777777777777778,
             "#fb9f3a"
            ],
            [
             0.8888888888888888,
             "#fdca26"
            ],
            [
             1,
             "#f0f921"
            ]
           ],
           "sequentialminus": [
            [
             0,
             "#0d0887"
            ],
            [
             0.1111111111111111,
             "#46039f"
            ],
            [
             0.2222222222222222,
             "#7201a8"
            ],
            [
             0.3333333333333333,
             "#9c179e"
            ],
            [
             0.4444444444444444,
             "#bd3786"
            ],
            [
             0.5555555555555556,
             "#d8576b"
            ],
            [
             0.6666666666666666,
             "#ed7953"
            ],
            [
             0.7777777777777778,
             "#fb9f3a"
            ],
            [
             0.8888888888888888,
             "#fdca26"
            ],
            [
             1,
             "#f0f921"
            ]
           ]
          },
          "colorway": [
           "#636efa",
           "#EF553B",
           "#00cc96",
           "#ab63fa",
           "#FFA15A",
           "#19d3f3",
           "#FF6692",
           "#B6E880",
           "#FF97FF",
           "#FECB52"
          ],
          "font": {
           "color": "#2a3f5f"
          },
          "geo": {
           "bgcolor": "white",
           "lakecolor": "white",
           "landcolor": "#E5ECF6",
           "showlakes": true,
           "showland": true,
           "subunitcolor": "white"
          },
          "hoverlabel": {
           "align": "left"
          },
          "hovermode": "closest",
          "mapbox": {
           "style": "light"
          },
          "paper_bgcolor": "white",
          "plot_bgcolor": "#E5ECF6",
          "polar": {
           "angularaxis": {
            "gridcolor": "white",
            "linecolor": "white",
            "ticks": ""
           },
           "bgcolor": "#E5ECF6",
           "radialaxis": {
            "gridcolor": "white",
            "linecolor": "white",
            "ticks": ""
           }
          },
          "scene": {
           "xaxis": {
            "backgroundcolor": "#E5ECF6",
            "gridcolor": "white",
            "gridwidth": 2,
            "linecolor": "white",
            "showbackground": true,
            "ticks": "",
            "zerolinecolor": "white"
           },
           "yaxis": {
            "backgroundcolor": "#E5ECF6",
            "gridcolor": "white",
            "gridwidth": 2,
            "linecolor": "white",
            "showbackground": true,
            "ticks": "",
            "zerolinecolor": "white"
           },
           "zaxis": {
            "backgroundcolor": "#E5ECF6",
            "gridcolor": "white",
            "gridwidth": 2,
            "linecolor": "white",
            "showbackground": true,
            "ticks": "",
            "zerolinecolor": "white"
           }
          },
          "shapedefaults": {
           "line": {
            "color": "#2a3f5f"
           }
          },
          "ternary": {
           "aaxis": {
            "gridcolor": "white",
            "linecolor": "white",
            "ticks": ""
           },
           "baxis": {
            "gridcolor": "white",
            "linecolor": "white",
            "ticks": ""
           },
           "bgcolor": "#E5ECF6",
           "caxis": {
            "gridcolor": "white",
            "linecolor": "white",
            "ticks": ""
           }
          },
          "title": {
           "x": 0.05
          },
          "xaxis": {
           "automargin": true,
           "gridcolor": "white",
           "linecolor": "white",
           "ticks": "",
           "title": {
            "standoff": 15
           },
           "zerolinecolor": "white",
           "zerolinewidth": 2
          },
          "yaxis": {
           "automargin": true,
           "gridcolor": "white",
           "linecolor": "white",
           "ticks": "",
           "title": {
            "standoff": 15
           },
           "zerolinecolor": "white",
           "zerolinewidth": 2
          }
         }
        },
        "title": {
         "text": "Топ 10 работодателей по вакансиям"
        },
        "width": 1000,
        "xaxis": {
         "anchor": "y",
         "categoryarray": [
          "Яндекс",
          "Ростелеком",
          "Тинькофф",
          "СБЕР",
          "Газпром нефть",
          "ИК СИБИНТЕК",
          "МТС",
          "DataArt",
          "Совкомбанк Технологии",
          "Первый Бит"
         ],
         "categoryorder": "array",
         "domain": [
          0,
          1
         ],
         "title": {
          "text": "name"
         }
        },
        "yaxis": {
         "anchor": "x",
         "domain": [
          0,
          1
         ],
         "title": {
          "text": "cnt_vac"
         }
        }
       }
      }
     },
     "metadata": {},
     "output_type": "display_data"
    }
   ],
   "source": [
    "fig = px.bar(\n",
    "    data_frame=df_5_8,\n",
    "    x='name', \n",
    "    y='cnt_vac', \n",
    "    color='name', \n",
    "    text='cnt_vac', \n",
    "    orientation='v',\n",
    "    height=500, \n",
    "    width=1000, \n",
    "    title='Топ 10 работодателей по вакансиям'\n",
    "    )\n",
    "\n",
    "fig.show()\n",
    "fig.write_image('graphs/img3.png')\n",
    "fig.write_html(\"html/img3.html\")"
   ]
  },
  {
   "cell_type": "markdown",
   "id": "dacd9fcb",
   "metadata": {},
   "source": [
    "![Топ 10 работодателей по вакансиям](graphs/img3.png)"
   ]
  },
  {
   "cell_type": "markdown",
   "id": "eab27051",
   "metadata": {},
   "source": [
    "Средняя ЗП по работодателям"
   ]
  },
  {
   "cell_type": "code",
   "execution_count": 46,
   "id": "15fada4f",
   "metadata": {},
   "outputs": [],
   "source": [
    "# текст запроса\n",
    "query_5_9 = f'''\n",
    "select \n",
    "    e.name,\n",
    "    round(avg(coalesce(\n",
    "        (salary_from + salary_to) / 2,  -- значение ЗП, если есть оба поля зарплат \n",
    "        salary_from,  -- значение ЗП, если есть только нижняя граница зарплат\n",
    "        salary_to,  -- значение ЗП, если есть только верхняя граница зарплат\n",
    "        0\n",
    "    ))) as avg_salary  -- расчет среднего значения для ЗП\n",
    "from employers e\n",
    "join vacancies v on v.employer_id = e.id\n",
    "where e.name in  -- выборка из топ 10 работодателей по кол-ву вакансий\n",
    "    (\n",
    "        select name\n",
    "        from (\n",
    "                select \n",
    "                    e.name,\n",
    "                    count(*) as cnt_vac\n",
    "                from employers e\n",
    "                join vacancies v on v.employer_id = e.id\n",
    "                group by 1\n",
    "                order by 2 desc\n",
    "                limit 10\n",
    "            ) as top_10_emp  -- топ 10 работодателей по \n",
    "    )\n",
    "group by 1\n",
    "order by 2 desc\n",
    "limit 10\n",
    "'''"
   ]
  },
  {
   "cell_type": "code",
   "execution_count": 47,
   "id": "0d08f62c",
   "metadata": {},
   "outputs": [
    {
     "name": "stderr",
     "output_type": "stream",
     "text": [
      "C:\\Users\\alpavlov\\AppData\\Local\\Temp\\ipykernel_10984\\2985122994.py:2: UserWarning:\n",
      "\n",
      "pandas only supports SQLAlchemy connectable (engine/connection) or database string URI or sqlite3 DBAPI2 connection. Other DBAPI2 objects are not tested. Please consider using SQLAlchemy.\n",
      "\n"
     ]
    },
    {
     "data": {
      "text/html": [
       "<div>\n",
       "<style scoped>\n",
       "    .dataframe tbody tr th:only-of-type {\n",
       "        vertical-align: middle;\n",
       "    }\n",
       "\n",
       "    .dataframe tbody tr th {\n",
       "        vertical-align: top;\n",
       "    }\n",
       "\n",
       "    .dataframe thead th {\n",
       "        text-align: right;\n",
       "    }\n",
       "</style>\n",
       "<table border=\"1\" class=\"dataframe\">\n",
       "  <thead>\n",
       "    <tr style=\"text-align: right;\">\n",
       "      <th></th>\n",
       "      <th>name</th>\n",
       "      <th>avg_salary</th>\n",
       "    </tr>\n",
       "  </thead>\n",
       "  <tbody>\n",
       "    <tr>\n",
       "      <th>0</th>\n",
       "      <td>Первый Бит</td>\n",
       "      <td>69243.0</td>\n",
       "    </tr>\n",
       "    <tr>\n",
       "      <th>1</th>\n",
       "      <td>Ростелеком</td>\n",
       "      <td>37508.0</td>\n",
       "    </tr>\n",
       "    <tr>\n",
       "      <th>2</th>\n",
       "      <td>МТС</td>\n",
       "      <td>20328.0</td>\n",
       "    </tr>\n",
       "    <tr>\n",
       "      <th>3</th>\n",
       "      <td>Яндекс</td>\n",
       "      <td>20019.0</td>\n",
       "    </tr>\n",
       "    <tr>\n",
       "      <th>4</th>\n",
       "      <td>СБЕР</td>\n",
       "      <td>11143.0</td>\n",
       "    </tr>\n",
       "    <tr>\n",
       "      <th>5</th>\n",
       "      <td>ИК СИБИНТЕК</td>\n",
       "      <td>11112.0</td>\n",
       "    </tr>\n",
       "    <tr>\n",
       "      <th>6</th>\n",
       "      <td>Совкомбанк Технологии</td>\n",
       "      <td>3573.0</td>\n",
       "    </tr>\n",
       "    <tr>\n",
       "      <th>7</th>\n",
       "      <td>Тинькофф</td>\n",
       "      <td>791.0</td>\n",
       "    </tr>\n",
       "    <tr>\n",
       "      <th>8</th>\n",
       "      <td>Газпром нефть</td>\n",
       "      <td>338.0</td>\n",
       "    </tr>\n",
       "    <tr>\n",
       "      <th>9</th>\n",
       "      <td>DataArt</td>\n",
       "      <td>0.0</td>\n",
       "    </tr>\n",
       "  </tbody>\n",
       "</table>\n",
       "</div>"
      ],
      "text/plain": [
       "                    name  avg_salary\n",
       "0             Первый Бит     69243.0\n",
       "1             Ростелеком     37508.0\n",
       "2                    МТС     20328.0\n",
       "3                 Яндекс     20019.0\n",
       "4                   СБЕР     11143.0\n",
       "5            ИК СИБИНТЕК     11112.0\n",
       "6  Совкомбанк Технологии      3573.0\n",
       "7               Тинькофф       791.0\n",
       "8          Газпром нефть       338.0\n",
       "9                DataArt         0.0"
      ]
     },
     "execution_count": 47,
     "metadata": {},
     "output_type": "execute_result"
    }
   ],
   "source": [
    "# результат запроса\n",
    "df_5_9 = pd.read_sql_query(query_5_9, connection)\n",
    "df_5_9"
   ]
  },
  {
   "cell_type": "markdown",
   "id": "98974ae2",
   "metadata": {},
   "source": [
    "Визуализация запроса"
   ]
  },
  {
   "cell_type": "code",
   "execution_count": 48,
   "id": "3b915298",
   "metadata": {},
   "outputs": [
    {
     "data": {
      "application/vnd.plotly.v1+json": {
       "config": {
        "plotlyServerURL": "https://plot.ly"
       },
       "data": [
        {
         "alignmentgroup": "True",
         "hovertemplate": "name=%{x}<br>avg_salary=%{text}<extra></extra>",
         "legendgroup": "Первый Бит",
         "marker": {
          "color": "#636efa",
          "pattern": {
           "shape": ""
          }
         },
         "name": "Первый Бит",
         "offsetgroup": "Первый Бит",
         "orientation": "v",
         "showlegend": true,
         "text": [
          69243
         ],
         "textposition": "auto",
         "type": "bar",
         "x": [
          "Первый Бит"
         ],
         "xaxis": "x",
         "y": [
          69243
         ],
         "yaxis": "y"
        },
        {
         "alignmentgroup": "True",
         "hovertemplate": "name=%{x}<br>avg_salary=%{text}<extra></extra>",
         "legendgroup": "Ростелеком",
         "marker": {
          "color": "#EF553B",
          "pattern": {
           "shape": ""
          }
         },
         "name": "Ростелеком",
         "offsetgroup": "Ростелеком",
         "orientation": "v",
         "showlegend": true,
         "text": [
          37508
         ],
         "textposition": "auto",
         "type": "bar",
         "x": [
          "Ростелеком"
         ],
         "xaxis": "x",
         "y": [
          37508
         ],
         "yaxis": "y"
        },
        {
         "alignmentgroup": "True",
         "hovertemplate": "name=%{x}<br>avg_salary=%{text}<extra></extra>",
         "legendgroup": "МТС",
         "marker": {
          "color": "#00cc96",
          "pattern": {
           "shape": ""
          }
         },
         "name": "МТС",
         "offsetgroup": "МТС",
         "orientation": "v",
         "showlegend": true,
         "text": [
          20328
         ],
         "textposition": "auto",
         "type": "bar",
         "x": [
          "МТС"
         ],
         "xaxis": "x",
         "y": [
          20328
         ],
         "yaxis": "y"
        },
        {
         "alignmentgroup": "True",
         "hovertemplate": "name=%{x}<br>avg_salary=%{text}<extra></extra>",
         "legendgroup": "Яндекс",
         "marker": {
          "color": "#ab63fa",
          "pattern": {
           "shape": ""
          }
         },
         "name": "Яндекс",
         "offsetgroup": "Яндекс",
         "orientation": "v",
         "showlegend": true,
         "text": [
          20019
         ],
         "textposition": "auto",
         "type": "bar",
         "x": [
          "Яндекс"
         ],
         "xaxis": "x",
         "y": [
          20019
         ],
         "yaxis": "y"
        },
        {
         "alignmentgroup": "True",
         "hovertemplate": "name=%{x}<br>avg_salary=%{text}<extra></extra>",
         "legendgroup": "СБЕР",
         "marker": {
          "color": "#FFA15A",
          "pattern": {
           "shape": ""
          }
         },
         "name": "СБЕР",
         "offsetgroup": "СБЕР",
         "orientation": "v",
         "showlegend": true,
         "text": [
          11143
         ],
         "textposition": "auto",
         "type": "bar",
         "x": [
          "СБЕР"
         ],
         "xaxis": "x",
         "y": [
          11143
         ],
         "yaxis": "y"
        },
        {
         "alignmentgroup": "True",
         "hovertemplate": "name=%{x}<br>avg_salary=%{text}<extra></extra>",
         "legendgroup": "ИК СИБИНТЕК",
         "marker": {
          "color": "#19d3f3",
          "pattern": {
           "shape": ""
          }
         },
         "name": "ИК СИБИНТЕК",
         "offsetgroup": "ИК СИБИНТЕК",
         "orientation": "v",
         "showlegend": true,
         "text": [
          11112
         ],
         "textposition": "auto",
         "type": "bar",
         "x": [
          "ИК СИБИНТЕК"
         ],
         "xaxis": "x",
         "y": [
          11112
         ],
         "yaxis": "y"
        },
        {
         "alignmentgroup": "True",
         "hovertemplate": "name=%{x}<br>avg_salary=%{text}<extra></extra>",
         "legendgroup": "Совкомбанк Технологии",
         "marker": {
          "color": "#FF6692",
          "pattern": {
           "shape": ""
          }
         },
         "name": "Совкомбанк Технологии",
         "offsetgroup": "Совкомбанк Технологии",
         "orientation": "v",
         "showlegend": true,
         "text": [
          3573
         ],
         "textposition": "auto",
         "type": "bar",
         "x": [
          "Совкомбанк Технологии"
         ],
         "xaxis": "x",
         "y": [
          3573
         ],
         "yaxis": "y"
        },
        {
         "alignmentgroup": "True",
         "hovertemplate": "name=%{x}<br>avg_salary=%{text}<extra></extra>",
         "legendgroup": "Тинькофф",
         "marker": {
          "color": "#B6E880",
          "pattern": {
           "shape": ""
          }
         },
         "name": "Тинькофф",
         "offsetgroup": "Тинькофф",
         "orientation": "v",
         "showlegend": true,
         "text": [
          791
         ],
         "textposition": "auto",
         "type": "bar",
         "x": [
          "Тинькофф"
         ],
         "xaxis": "x",
         "y": [
          791
         ],
         "yaxis": "y"
        },
        {
         "alignmentgroup": "True",
         "hovertemplate": "name=%{x}<br>avg_salary=%{text}<extra></extra>",
         "legendgroup": "Газпром нефть",
         "marker": {
          "color": "#FF97FF",
          "pattern": {
           "shape": ""
          }
         },
         "name": "Газпром нефть",
         "offsetgroup": "Газпром нефть",
         "orientation": "v",
         "showlegend": true,
         "text": [
          338
         ],
         "textposition": "auto",
         "type": "bar",
         "x": [
          "Газпром нефть"
         ],
         "xaxis": "x",
         "y": [
          338
         ],
         "yaxis": "y"
        },
        {
         "alignmentgroup": "True",
         "hovertemplate": "name=%{x}<br>avg_salary=%{text}<extra></extra>",
         "legendgroup": "DataArt",
         "marker": {
          "color": "#FECB52",
          "pattern": {
           "shape": ""
          }
         },
         "name": "DataArt",
         "offsetgroup": "DataArt",
         "orientation": "v",
         "showlegend": true,
         "text": [
          0
         ],
         "textposition": "auto",
         "type": "bar",
         "x": [
          "DataArt"
         ],
         "xaxis": "x",
         "y": [
          0
         ],
         "yaxis": "y"
        }
       ],
       "layout": {
        "barmode": "relative",
        "height": 500,
        "legend": {
         "title": {
          "text": "name"
         },
         "tracegroupgap": 0
        },
        "template": {
         "data": {
          "bar": [
           {
            "error_x": {
             "color": "#2a3f5f"
            },
            "error_y": {
             "color": "#2a3f5f"
            },
            "marker": {
             "line": {
              "color": "#E5ECF6",
              "width": 0.5
             },
             "pattern": {
              "fillmode": "overlay",
              "size": 10,
              "solidity": 0.2
             }
            },
            "type": "bar"
           }
          ],
          "barpolar": [
           {
            "marker": {
             "line": {
              "color": "#E5ECF6",
              "width": 0.5
             },
             "pattern": {
              "fillmode": "overlay",
              "size": 10,
              "solidity": 0.2
             }
            },
            "type": "barpolar"
           }
          ],
          "carpet": [
           {
            "aaxis": {
             "endlinecolor": "#2a3f5f",
             "gridcolor": "white",
             "linecolor": "white",
             "minorgridcolor": "white",
             "startlinecolor": "#2a3f5f"
            },
            "baxis": {
             "endlinecolor": "#2a3f5f",
             "gridcolor": "white",
             "linecolor": "white",
             "minorgridcolor": "white",
             "startlinecolor": "#2a3f5f"
            },
            "type": "carpet"
           }
          ],
          "choropleth": [
           {
            "colorbar": {
             "outlinewidth": 0,
             "ticks": ""
            },
            "type": "choropleth"
           }
          ],
          "contour": [
           {
            "colorbar": {
             "outlinewidth": 0,
             "ticks": ""
            },
            "colorscale": [
             [
              0,
              "#0d0887"
             ],
             [
              0.1111111111111111,
              "#46039f"
             ],
             [
              0.2222222222222222,
              "#7201a8"
             ],
             [
              0.3333333333333333,
              "#9c179e"
             ],
             [
              0.4444444444444444,
              "#bd3786"
             ],
             [
              0.5555555555555556,
              "#d8576b"
             ],
             [
              0.6666666666666666,
              "#ed7953"
             ],
             [
              0.7777777777777778,
              "#fb9f3a"
             ],
             [
              0.8888888888888888,
              "#fdca26"
             ],
             [
              1,
              "#f0f921"
             ]
            ],
            "type": "contour"
           }
          ],
          "contourcarpet": [
           {
            "colorbar": {
             "outlinewidth": 0,
             "ticks": ""
            },
            "type": "contourcarpet"
           }
          ],
          "heatmap": [
           {
            "colorbar": {
             "outlinewidth": 0,
             "ticks": ""
            },
            "colorscale": [
             [
              0,
              "#0d0887"
             ],
             [
              0.1111111111111111,
              "#46039f"
             ],
             [
              0.2222222222222222,
              "#7201a8"
             ],
             [
              0.3333333333333333,
              "#9c179e"
             ],
             [
              0.4444444444444444,
              "#bd3786"
             ],
             [
              0.5555555555555556,
              "#d8576b"
             ],
             [
              0.6666666666666666,
              "#ed7953"
             ],
             [
              0.7777777777777778,
              "#fb9f3a"
             ],
             [
              0.8888888888888888,
              "#fdca26"
             ],
             [
              1,
              "#f0f921"
             ]
            ],
            "type": "heatmap"
           }
          ],
          "heatmapgl": [
           {
            "colorbar": {
             "outlinewidth": 0,
             "ticks": ""
            },
            "colorscale": [
             [
              0,
              "#0d0887"
             ],
             [
              0.1111111111111111,
              "#46039f"
             ],
             [
              0.2222222222222222,
              "#7201a8"
             ],
             [
              0.3333333333333333,
              "#9c179e"
             ],
             [
              0.4444444444444444,
              "#bd3786"
             ],
             [
              0.5555555555555556,
              "#d8576b"
             ],
             [
              0.6666666666666666,
              "#ed7953"
             ],
             [
              0.7777777777777778,
              "#fb9f3a"
             ],
             [
              0.8888888888888888,
              "#fdca26"
             ],
             [
              1,
              "#f0f921"
             ]
            ],
            "type": "heatmapgl"
           }
          ],
          "histogram": [
           {
            "marker": {
             "pattern": {
              "fillmode": "overlay",
              "size": 10,
              "solidity": 0.2
             }
            },
            "type": "histogram"
           }
          ],
          "histogram2d": [
           {
            "colorbar": {
             "outlinewidth": 0,
             "ticks": ""
            },
            "colorscale": [
             [
              0,
              "#0d0887"
             ],
             [
              0.1111111111111111,
              "#46039f"
             ],
             [
              0.2222222222222222,
              "#7201a8"
             ],
             [
              0.3333333333333333,
              "#9c179e"
             ],
             [
              0.4444444444444444,
              "#bd3786"
             ],
             [
              0.5555555555555556,
              "#d8576b"
             ],
             [
              0.6666666666666666,
              "#ed7953"
             ],
             [
              0.7777777777777778,
              "#fb9f3a"
             ],
             [
              0.8888888888888888,
              "#fdca26"
             ],
             [
              1,
              "#f0f921"
             ]
            ],
            "type": "histogram2d"
           }
          ],
          "histogram2dcontour": [
           {
            "colorbar": {
             "outlinewidth": 0,
             "ticks": ""
            },
            "colorscale": [
             [
              0,
              "#0d0887"
             ],
             [
              0.1111111111111111,
              "#46039f"
             ],
             [
              0.2222222222222222,
              "#7201a8"
             ],
             [
              0.3333333333333333,
              "#9c179e"
             ],
             [
              0.4444444444444444,
              "#bd3786"
             ],
             [
              0.5555555555555556,
              "#d8576b"
             ],
             [
              0.6666666666666666,
              "#ed7953"
             ],
             [
              0.7777777777777778,
              "#fb9f3a"
             ],
             [
              0.8888888888888888,
              "#fdca26"
             ],
             [
              1,
              "#f0f921"
             ]
            ],
            "type": "histogram2dcontour"
           }
          ],
          "mesh3d": [
           {
            "colorbar": {
             "outlinewidth": 0,
             "ticks": ""
            },
            "type": "mesh3d"
           }
          ],
          "parcoords": [
           {
            "line": {
             "colorbar": {
              "outlinewidth": 0,
              "ticks": ""
             }
            },
            "type": "parcoords"
           }
          ],
          "pie": [
           {
            "automargin": true,
            "type": "pie"
           }
          ],
          "scatter": [
           {
            "fillpattern": {
             "fillmode": "overlay",
             "size": 10,
             "solidity": 0.2
            },
            "type": "scatter"
           }
          ],
          "scatter3d": [
           {
            "line": {
             "colorbar": {
              "outlinewidth": 0,
              "ticks": ""
             }
            },
            "marker": {
             "colorbar": {
              "outlinewidth": 0,
              "ticks": ""
             }
            },
            "type": "scatter3d"
           }
          ],
          "scattercarpet": [
           {
            "marker": {
             "colorbar": {
              "outlinewidth": 0,
              "ticks": ""
             }
            },
            "type": "scattercarpet"
           }
          ],
          "scattergeo": [
           {
            "marker": {
             "colorbar": {
              "outlinewidth": 0,
              "ticks": ""
             }
            },
            "type": "scattergeo"
           }
          ],
          "scattergl": [
           {
            "marker": {
             "colorbar": {
              "outlinewidth": 0,
              "ticks": ""
             }
            },
            "type": "scattergl"
           }
          ],
          "scattermapbox": [
           {
            "marker": {
             "colorbar": {
              "outlinewidth": 0,
              "ticks": ""
             }
            },
            "type": "scattermapbox"
           }
          ],
          "scatterpolar": [
           {
            "marker": {
             "colorbar": {
              "outlinewidth": 0,
              "ticks": ""
             }
            },
            "type": "scatterpolar"
           }
          ],
          "scatterpolargl": [
           {
            "marker": {
             "colorbar": {
              "outlinewidth": 0,
              "ticks": ""
             }
            },
            "type": "scatterpolargl"
           }
          ],
          "scatterternary": [
           {
            "marker": {
             "colorbar": {
              "outlinewidth": 0,
              "ticks": ""
             }
            },
            "type": "scatterternary"
           }
          ],
          "surface": [
           {
            "colorbar": {
             "outlinewidth": 0,
             "ticks": ""
            },
            "colorscale": [
             [
              0,
              "#0d0887"
             ],
             [
              0.1111111111111111,
              "#46039f"
             ],
             [
              0.2222222222222222,
              "#7201a8"
             ],
             [
              0.3333333333333333,
              "#9c179e"
             ],
             [
              0.4444444444444444,
              "#bd3786"
             ],
             [
              0.5555555555555556,
              "#d8576b"
             ],
             [
              0.6666666666666666,
              "#ed7953"
             ],
             [
              0.7777777777777778,
              "#fb9f3a"
             ],
             [
              0.8888888888888888,
              "#fdca26"
             ],
             [
              1,
              "#f0f921"
             ]
            ],
            "type": "surface"
           }
          ],
          "table": [
           {
            "cells": {
             "fill": {
              "color": "#EBF0F8"
             },
             "line": {
              "color": "white"
             }
            },
            "header": {
             "fill": {
              "color": "#C8D4E3"
             },
             "line": {
              "color": "white"
             }
            },
            "type": "table"
           }
          ]
         },
         "layout": {
          "annotationdefaults": {
           "arrowcolor": "#2a3f5f",
           "arrowhead": 0,
           "arrowwidth": 1
          },
          "autotypenumbers": "strict",
          "coloraxis": {
           "colorbar": {
            "outlinewidth": 0,
            "ticks": ""
           }
          },
          "colorscale": {
           "diverging": [
            [
             0,
             "#8e0152"
            ],
            [
             0.1,
             "#c51b7d"
            ],
            [
             0.2,
             "#de77ae"
            ],
            [
             0.3,
             "#f1b6da"
            ],
            [
             0.4,
             "#fde0ef"
            ],
            [
             0.5,
             "#f7f7f7"
            ],
            [
             0.6,
             "#e6f5d0"
            ],
            [
             0.7,
             "#b8e186"
            ],
            [
             0.8,
             "#7fbc41"
            ],
            [
             0.9,
             "#4d9221"
            ],
            [
             1,
             "#276419"
            ]
           ],
           "sequential": [
            [
             0,
             "#0d0887"
            ],
            [
             0.1111111111111111,
             "#46039f"
            ],
            [
             0.2222222222222222,
             "#7201a8"
            ],
            [
             0.3333333333333333,
             "#9c179e"
            ],
            [
             0.4444444444444444,
             "#bd3786"
            ],
            [
             0.5555555555555556,
             "#d8576b"
            ],
            [
             0.6666666666666666,
             "#ed7953"
            ],
            [
             0.7777777777777778,
             "#fb9f3a"
            ],
            [
             0.8888888888888888,
             "#fdca26"
            ],
            [
             1,
             "#f0f921"
            ]
           ],
           "sequentialminus": [
            [
             0,
             "#0d0887"
            ],
            [
             0.1111111111111111,
             "#46039f"
            ],
            [
             0.2222222222222222,
             "#7201a8"
            ],
            [
             0.3333333333333333,
             "#9c179e"
            ],
            [
             0.4444444444444444,
             "#bd3786"
            ],
            [
             0.5555555555555556,
             "#d8576b"
            ],
            [
             0.6666666666666666,
             "#ed7953"
            ],
            [
             0.7777777777777778,
             "#fb9f3a"
            ],
            [
             0.8888888888888888,
             "#fdca26"
            ],
            [
             1,
             "#f0f921"
            ]
           ]
          },
          "colorway": [
           "#636efa",
           "#EF553B",
           "#00cc96",
           "#ab63fa",
           "#FFA15A",
           "#19d3f3",
           "#FF6692",
           "#B6E880",
           "#FF97FF",
           "#FECB52"
          ],
          "font": {
           "color": "#2a3f5f"
          },
          "geo": {
           "bgcolor": "white",
           "lakecolor": "white",
           "landcolor": "#E5ECF6",
           "showlakes": true,
           "showland": true,
           "subunitcolor": "white"
          },
          "hoverlabel": {
           "align": "left"
          },
          "hovermode": "closest",
          "mapbox": {
           "style": "light"
          },
          "paper_bgcolor": "white",
          "plot_bgcolor": "#E5ECF6",
          "polar": {
           "angularaxis": {
            "gridcolor": "white",
            "linecolor": "white",
            "ticks": ""
           },
           "bgcolor": "#E5ECF6",
           "radialaxis": {
            "gridcolor": "white",
            "linecolor": "white",
            "ticks": ""
           }
          },
          "scene": {
           "xaxis": {
            "backgroundcolor": "#E5ECF6",
            "gridcolor": "white",
            "gridwidth": 2,
            "linecolor": "white",
            "showbackground": true,
            "ticks": "",
            "zerolinecolor": "white"
           },
           "yaxis": {
            "backgroundcolor": "#E5ECF6",
            "gridcolor": "white",
            "gridwidth": 2,
            "linecolor": "white",
            "showbackground": true,
            "ticks": "",
            "zerolinecolor": "white"
           },
           "zaxis": {
            "backgroundcolor": "#E5ECF6",
            "gridcolor": "white",
            "gridwidth": 2,
            "linecolor": "white",
            "showbackground": true,
            "ticks": "",
            "zerolinecolor": "white"
           }
          },
          "shapedefaults": {
           "line": {
            "color": "#2a3f5f"
           }
          },
          "ternary": {
           "aaxis": {
            "gridcolor": "white",
            "linecolor": "white",
            "ticks": ""
           },
           "baxis": {
            "gridcolor": "white",
            "linecolor": "white",
            "ticks": ""
           },
           "bgcolor": "#E5ECF6",
           "caxis": {
            "gridcolor": "white",
            "linecolor": "white",
            "ticks": ""
           }
          },
          "title": {
           "x": 0.05
          },
          "xaxis": {
           "automargin": true,
           "gridcolor": "white",
           "linecolor": "white",
           "ticks": "",
           "title": {
            "standoff": 15
           },
           "zerolinecolor": "white",
           "zerolinewidth": 2
          },
          "yaxis": {
           "automargin": true,
           "gridcolor": "white",
           "linecolor": "white",
           "ticks": "",
           "title": {
            "standoff": 15
           },
           "zerolinecolor": "white",
           "zerolinewidth": 2
          }
         }
        },
        "title": {
         "text": "Средняя ЗП по работодателям по самым активным работодателям"
        },
        "width": 1000,
        "xaxis": {
         "anchor": "y",
         "categoryarray": [
          "Первый Бит",
          "Ростелеком",
          "МТС",
          "Яндекс",
          "СБЕР",
          "ИК СИБИНТЕК",
          "Совкомбанк Технологии",
          "Тинькофф",
          "Газпром нефть",
          "DataArt"
         ],
         "categoryorder": "array",
         "domain": [
          0,
          1
         ],
         "title": {
          "text": "name"
         }
        },
        "yaxis": {
         "anchor": "x",
         "domain": [
          0,
          1
         ],
         "title": {
          "text": "avg_salary"
         }
        }
       }
      }
     },
     "metadata": {},
     "output_type": "display_data"
    }
   ],
   "source": [
    "fig = px.bar(\n",
    "    data_frame=df_5_9,\n",
    "    x='name', \n",
    "    y='avg_salary', \n",
    "    color='name', \n",
    "    text='avg_salary', \n",
    "    orientation='v',\n",
    "    height=500, \n",
    "    width=1000, \n",
    "    title='Средняя ЗП по работодателям по самым активным работодателям'\n",
    "    )\n",
    "\n",
    "fig.show()\n",
    "fig.write_image('graphs/img4.png')\n",
    "fig.write_html(\"html/img4.html\")"
   ]
  },
  {
   "cell_type": "markdown",
   "id": "9b5bfa3b",
   "metadata": {},
   "source": [
    "![Средняя ЗП по работодателям по самым активным работодателям](graphs/img4.png)"
   ]
  },
  {
   "cell_type": "markdown",
   "id": "43883558",
   "metadata": {},
   "source": [
    "Зависимость средней ЗП от кол-ва вакансий работодателя"
   ]
  },
  {
   "cell_type": "code",
   "execution_count": 49,
   "id": "b4167fe4",
   "metadata": {},
   "outputs": [],
   "source": [
    "# текст запроса\n",
    "query_5_10 = f'''\n",
    "select \n",
    "    e.name,\n",
    "    count(*) as cnt_vac,\n",
    "    round(avg(coalesce(\n",
    "        (salary_from + salary_to) / 2,  -- значение ЗП, если есть оба поля зарплат \n",
    "        salary_from,  -- значение ЗП, если есть только нижняя граница зарплат\n",
    "        salary_to,  -- значение ЗП, если есть только верхняя граница зарплат\n",
    "        0\n",
    "    ))) as avg_salary  -- расчет среднего значения для ЗП\n",
    "from employers e\n",
    "join vacancies v on v.employer_id = e.id\n",
    "where e.name in  -- выборка из топ 10 работодателей по кол-ву вакансий\n",
    "    (\n",
    "        select name\n",
    "        from (\n",
    "                select \n",
    "                    e.name,\n",
    "                    count(*) as cnt_vac\n",
    "                from employers e\n",
    "                join vacancies v on v.employer_id = e.id\n",
    "                group by 1\n",
    "                order by 2 desc\n",
    "                limit 100\n",
    "            ) as top_10_emp  -- топ 10 работодателей по \n",
    "    )\n",
    "group by 1\n",
    "order by 2 desc\n",
    "limit 100\n",
    "'''"
   ]
  },
  {
   "cell_type": "code",
   "execution_count": 50,
   "id": "fa0dd279",
   "metadata": {},
   "outputs": [
    {
     "name": "stderr",
     "output_type": "stream",
     "text": [
      "C:\\Users\\alpavlov\\AppData\\Local\\Temp\\ipykernel_10984\\3049816343.py:2: UserWarning:\n",
      "\n",
      "pandas only supports SQLAlchemy connectable (engine/connection) or database string URI or sqlite3 DBAPI2 connection. Other DBAPI2 objects are not tested. Please consider using SQLAlchemy.\n",
      "\n"
     ]
    },
    {
     "data": {
      "text/html": [
       "<div>\n",
       "<style scoped>\n",
       "    .dataframe tbody tr th:only-of-type {\n",
       "        vertical-align: middle;\n",
       "    }\n",
       "\n",
       "    .dataframe tbody tr th {\n",
       "        vertical-align: top;\n",
       "    }\n",
       "\n",
       "    .dataframe thead th {\n",
       "        text-align: right;\n",
       "    }\n",
       "</style>\n",
       "<table border=\"1\" class=\"dataframe\">\n",
       "  <thead>\n",
       "    <tr style=\"text-align: right;\">\n",
       "      <th></th>\n",
       "      <th>name</th>\n",
       "      <th>cnt_vac</th>\n",
       "      <th>avg_salary</th>\n",
       "    </tr>\n",
       "  </thead>\n",
       "  <tbody>\n",
       "    <tr>\n",
       "      <th>0</th>\n",
       "      <td>Яндекс</td>\n",
       "      <td>1933</td>\n",
       "      <td>20019.0</td>\n",
       "    </tr>\n",
       "    <tr>\n",
       "      <th>1</th>\n",
       "      <td>Ростелеком</td>\n",
       "      <td>491</td>\n",
       "      <td>37508.0</td>\n",
       "    </tr>\n",
       "    <tr>\n",
       "      <th>2</th>\n",
       "      <td>Тинькофф</td>\n",
       "      <td>444</td>\n",
       "      <td>791.0</td>\n",
       "    </tr>\n",
       "    <tr>\n",
       "      <th>3</th>\n",
       "      <td>СБЕР</td>\n",
       "      <td>428</td>\n",
       "      <td>11143.0</td>\n",
       "    </tr>\n",
       "    <tr>\n",
       "      <th>4</th>\n",
       "      <td>Газпром нефть</td>\n",
       "      <td>331</td>\n",
       "      <td>338.0</td>\n",
       "    </tr>\n",
       "    <tr>\n",
       "      <th>...</th>\n",
       "      <td>...</td>\n",
       "      <td>...</td>\n",
       "      <td>...</td>\n",
       "    </tr>\n",
       "    <tr>\n",
       "      <th>95</th>\n",
       "      <td>ISPsystem</td>\n",
       "      <td>45</td>\n",
       "      <td>6667.0</td>\n",
       "    </tr>\n",
       "    <tr>\n",
       "      <th>96</th>\n",
       "      <td>Эр-1</td>\n",
       "      <td>44</td>\n",
       "      <td>0.0</td>\n",
       "    </tr>\n",
       "    <tr>\n",
       "      <th>97</th>\n",
       "      <td>Ресурс, ГАП</td>\n",
       "      <td>43</td>\n",
       "      <td>11169.0</td>\n",
       "    </tr>\n",
       "    <tr>\n",
       "      <th>98</th>\n",
       "      <td>LeverX International</td>\n",
       "      <td>43</td>\n",
       "      <td>0.0</td>\n",
       "    </tr>\n",
       "    <tr>\n",
       "      <th>99</th>\n",
       "      <td>inDriver</td>\n",
       "      <td>42</td>\n",
       "      <td>22545.0</td>\n",
       "    </tr>\n",
       "  </tbody>\n",
       "</table>\n",
       "<p>100 rows × 3 columns</p>\n",
       "</div>"
      ],
      "text/plain": [
       "                    name  cnt_vac  avg_salary\n",
       "0                 Яндекс     1933     20019.0\n",
       "1             Ростелеком      491     37508.0\n",
       "2               Тинькофф      444       791.0\n",
       "3                   СБЕР      428     11143.0\n",
       "4          Газпром нефть      331       338.0\n",
       "..                   ...      ...         ...\n",
       "95             ISPsystem       45      6667.0\n",
       "96                  Эр-1       44         0.0\n",
       "97           Ресурс, ГАП       43     11169.0\n",
       "98  LeverX International       43         0.0\n",
       "99              inDriver       42     22545.0\n",
       "\n",
       "[100 rows x 3 columns]"
      ]
     },
     "execution_count": 50,
     "metadata": {},
     "output_type": "execute_result"
    }
   ],
   "source": [
    "# результат запроса\n",
    "df_5_10 = pd.read_sql_query(query_5_10, connection)\n",
    "df_5_10"
   ]
  },
  {
   "cell_type": "markdown",
   "id": "73255ae6",
   "metadata": {},
   "source": [
    "Визуализация запроса"
   ]
  },
  {
   "cell_type": "code",
   "execution_count": 51,
   "id": "11489ae0",
   "metadata": {},
   "outputs": [
    {
     "data": {
      "application/vnd.plotly.v1+json": {
       "config": {
        "plotlyServerURL": "https://plot.ly"
       },
       "data": [
        {
         "hovertemplate": "name=Яндекс<br>avg_salary=%{x}<br>cnt_vac=%{y}<extra></extra>",
         "legendgroup": "Яндекс",
         "marker": {
          "color": "#636efa",
          "symbol": "circle"
         },
         "mode": "markers",
         "name": "Яндекс",
         "orientation": "v",
         "showlegend": true,
         "type": "scatter",
         "x": [
          20019
         ],
         "xaxis": "x",
         "y": [
          1933
         ],
         "yaxis": "y"
        },
        {
         "hovertemplate": "name=Ростелеком<br>avg_salary=%{x}<br>cnt_vac=%{y}<extra></extra>",
         "legendgroup": "Ростелеком",
         "marker": {
          "color": "#EF553B",
          "symbol": "circle"
         },
         "mode": "markers",
         "name": "Ростелеком",
         "orientation": "v",
         "showlegend": true,
         "type": "scatter",
         "x": [
          37508
         ],
         "xaxis": "x",
         "y": [
          491
         ],
         "yaxis": "y"
        },
        {
         "hovertemplate": "name=Тинькофф<br>avg_salary=%{x}<br>cnt_vac=%{y}<extra></extra>",
         "legendgroup": "Тинькофф",
         "marker": {
          "color": "#00cc96",
          "symbol": "circle"
         },
         "mode": "markers",
         "name": "Тинькофф",
         "orientation": "v",
         "showlegend": true,
         "type": "scatter",
         "x": [
          791
         ],
         "xaxis": "x",
         "y": [
          444
         ],
         "yaxis": "y"
        },
        {
         "hovertemplate": "name=СБЕР<br>avg_salary=%{x}<br>cnt_vac=%{y}<extra></extra>",
         "legendgroup": "СБЕР",
         "marker": {
          "color": "#ab63fa",
          "symbol": "circle"
         },
         "mode": "markers",
         "name": "СБЕР",
         "orientation": "v",
         "showlegend": true,
         "type": "scatter",
         "x": [
          11143
         ],
         "xaxis": "x",
         "y": [
          428
         ],
         "yaxis": "y"
        },
        {
         "hovertemplate": "name=Газпром нефть<br>avg_salary=%{x}<br>cnt_vac=%{y}<extra></extra>",
         "legendgroup": "Газпром нефть",
         "marker": {
          "color": "#FFA15A",
          "symbol": "circle"
         },
         "mode": "markers",
         "name": "Газпром нефть",
         "orientation": "v",
         "showlegend": true,
         "type": "scatter",
         "x": [
          338
         ],
         "xaxis": "x",
         "y": [
          331
         ],
         "yaxis": "y"
        },
        {
         "hovertemplate": "name=ИК СИБИНТЕК<br>avg_salary=%{x}<br>cnt_vac=%{y}<extra></extra>",
         "legendgroup": "ИК СИБИНТЕК",
         "marker": {
          "color": "#19d3f3",
          "symbol": "circle"
         },
         "mode": "markers",
         "name": "ИК СИБИНТЕК",
         "orientation": "v",
         "showlegend": true,
         "type": "scatter",
         "x": [
          11112
         ],
         "xaxis": "x",
         "y": [
          327
         ],
         "yaxis": "y"
        },
        {
         "hovertemplate": "name=МТС<br>avg_salary=%{x}<br>cnt_vac=%{y}<extra></extra>",
         "legendgroup": "МТС",
         "marker": {
          "color": "#FF6692",
          "symbol": "circle"
         },
         "mode": "markers",
         "name": "МТС",
         "orientation": "v",
         "showlegend": true,
         "type": "scatter",
         "x": [
          20328
         ],
         "xaxis": "x",
         "y": [
          292
         ],
         "yaxis": "y"
        },
        {
         "hovertemplate": "name=DataArt<br>avg_salary=%{x}<br>cnt_vac=%{y}<extra></extra>",
         "legendgroup": "DataArt",
         "marker": {
          "color": "#B6E880",
          "symbol": "circle"
         },
         "mode": "markers",
         "name": "DataArt",
         "orientation": "v",
         "showlegend": true,
         "type": "scatter",
         "x": [
          0
         ],
         "xaxis": "x",
         "y": [
          247
         ],
         "yaxis": "y"
        },
        {
         "hovertemplate": "name=Совкомбанк Технологии<br>avg_salary=%{x}<br>cnt_vac=%{y}<extra></extra>",
         "legendgroup": "Совкомбанк Технологии",
         "marker": {
          "color": "#FF97FF",
          "symbol": "circle"
         },
         "mode": "markers",
         "name": "Совкомбанк Технологии",
         "orientation": "v",
         "showlegend": true,
         "type": "scatter",
         "x": [
          3573
         ],
         "xaxis": "x",
         "y": [
          204
         ],
         "yaxis": "y"
        },
        {
         "hovertemplate": "name=Первый Бит<br>avg_salary=%{x}<br>cnt_vac=%{y}<extra></extra>",
         "legendgroup": "Первый Бит",
         "marker": {
          "color": "#FECB52",
          "symbol": "circle"
         },
         "mode": "markers",
         "name": "Первый Бит",
         "orientation": "v",
         "showlegend": true,
         "type": "scatter",
         "x": [
          69243
         ],
         "xaxis": "x",
         "y": [
          176
         ],
         "yaxis": "y"
        },
        {
         "hovertemplate": "name=Ozon<br>avg_salary=%{x}<br>cnt_vac=%{y}<extra></extra>",
         "legendgroup": "Ozon",
         "marker": {
          "color": "#636efa",
          "symbol": "circle"
         },
         "mode": "markers",
         "name": "Ozon",
         "orientation": "v",
         "showlegend": true,
         "type": "scatter",
         "x": [
          0
         ],
         "xaxis": "x",
         "y": [
          175
         ],
         "yaxis": "y"
        },
        {
         "hovertemplate": "name=IBS<br>avg_salary=%{x}<br>cnt_vac=%{y}<extra></extra>",
         "legendgroup": "IBS",
         "marker": {
          "color": "#EF553B",
          "symbol": "circle"
         },
         "mode": "markers",
         "name": "IBS",
         "orientation": "v",
         "showlegend": true,
         "type": "scatter",
         "x": [
          0
         ],
         "xaxis": "x",
         "y": [
          175
         ],
         "yaxis": "y"
        },
        {
         "hovertemplate": "name=Тензор<br>avg_salary=%{x}<br>cnt_vac=%{y}<extra></extra>",
         "legendgroup": "Тензор",
         "marker": {
          "color": "#00cc96",
          "symbol": "circle"
         },
         "mode": "markers",
         "name": "Тензор",
         "orientation": "v",
         "showlegend": true,
         "type": "scatter",
         "x": [
          171149
         ],
         "xaxis": "x",
         "y": [
          155
         ],
         "yaxis": "y"
        },
        {
         "hovertemplate": "name=Andersen<br>avg_salary=%{x}<br>cnt_vac=%{y}<extra></extra>",
         "legendgroup": "Andersen",
         "marker": {
          "color": "#ab63fa",
          "symbol": "circle"
         },
         "mode": "markers",
         "name": "Andersen",
         "orientation": "v",
         "showlegend": true,
         "type": "scatter",
         "x": [
          149515
         ],
         "xaxis": "x",
         "y": [
          155
         ],
         "yaxis": "y"
        },
        {
         "hovertemplate": "name=Спецремонт<br>avg_salary=%{x}<br>cnt_vac=%{y}<extra></extra>",
         "legendgroup": "Спецремонт",
         "marker": {
          "color": "#FFA15A",
          "symbol": "circle"
         },
         "mode": "markers",
         "name": "Спецремонт",
         "orientation": "v",
         "showlegend": true,
         "type": "scatter",
         "x": [
          70417
         ],
         "xaxis": "x",
         "y": [
          151
         ],
         "yaxis": "y"
        },
        {
         "hovertemplate": "name=VK<br>avg_salary=%{x}<br>cnt_vac=%{y}<extra></extra>",
         "legendgroup": "VK",
         "marker": {
          "color": "#19d3f3",
          "symbol": "circle"
         },
         "mode": "markers",
         "name": "VK",
         "orientation": "v",
         "showlegend": true,
         "type": "scatter",
         "x": [
          213
         ],
         "xaxis": "x",
         "y": [
          150
         ],
         "yaxis": "y"
        },
        {
         "hovertemplate": "name=Поляков Денис Иванович<br>avg_salary=%{x}<br>cnt_vac=%{y}<extra></extra>",
         "legendgroup": "Поляков Денис Иванович",
         "marker": {
          "color": "#FF6692",
          "symbol": "circle"
         },
         "mode": "markers",
         "name": "Поляков Денис Иванович",
         "orientation": "v",
         "showlegend": true,
         "type": "scatter",
         "x": [
          52638
         ],
         "xaxis": "x",
         "y": [
          127
         ],
         "yaxis": "y"
        },
        {
         "hovertemplate": "name=Иннотех, Группа компаний<br>avg_salary=%{x}<br>cnt_vac=%{y}<extra></extra>",
         "legendgroup": "Иннотех, Группа компаний",
         "marker": {
          "color": "#B6E880",
          "symbol": "circle"
         },
         "mode": "markers",
         "name": "Иннотех, Группа компаний",
         "orientation": "v",
         "showlegend": true,
         "type": "scatter",
         "x": [
          0
         ],
         "xaxis": "x",
         "y": [
          122
         ],
         "yaxis": "y"
        },
        {
         "hovertemplate": "name=Bell Integrator<br>avg_salary=%{x}<br>cnt_vac=%{y}<extra></extra>",
         "legendgroup": "Bell Integrator",
         "marker": {
          "color": "#FF97FF",
          "symbol": "circle"
         },
         "mode": "markers",
         "name": "Bell Integrator",
         "orientation": "v",
         "showlegend": true,
         "type": "scatter",
         "x": [
          0
         ],
         "xaxis": "x",
         "y": [
          121
         ],
         "yaxis": "y"
        },
        {
         "hovertemplate": "name=ANCOR<br>avg_salary=%{x}<br>cnt_vac=%{y}<extra></extra>",
         "legendgroup": "ANCOR",
         "marker": {
          "color": "#FECB52",
          "symbol": "circle"
         },
         "mode": "markers",
         "name": "ANCOR",
         "orientation": "v",
         "showlegend": true,
         "type": "scatter",
         "x": [
          54097
         ],
         "xaxis": "x",
         "y": [
          118
         ],
         "yaxis": "y"
        },
        {
         "hovertemplate": "name=ЛАНИТ<br>avg_salary=%{x}<br>cnt_vac=%{y}<extra></extra>",
         "legendgroup": "ЛАНИТ",
         "marker": {
          "color": "#636efa",
          "symbol": "circle"
         },
         "mode": "markers",
         "name": "ЛАНИТ",
         "orientation": "v",
         "showlegend": true,
         "type": "scatter",
         "x": [
          14137
         ],
         "xaxis": "x",
         "y": [
          117
         ],
         "yaxis": "y"
        },
        {
         "hovertemplate": "name=МАГНИТ, Розничная сеть<br>avg_salary=%{x}<br>cnt_vac=%{y}<extra></extra>",
         "legendgroup": "МАГНИТ, Розничная сеть",
         "marker": {
          "color": "#EF553B",
          "symbol": "circle"
         },
         "mode": "markers",
         "name": "МАГНИТ, Розничная сеть",
         "orientation": "v",
         "showlegend": true,
         "type": "scatter",
         "x": [
          16949
         ],
         "xaxis": "x",
         "y": [
          114
         ],
         "yaxis": "y"
        },
        {
         "hovertemplate": "name=Лига Цифровой Экономики<br>avg_salary=%{x}<br>cnt_vac=%{y}<extra></extra>",
         "legendgroup": "Лига Цифровой Экономики",
         "marker": {
          "color": "#00cc96",
          "symbol": "circle"
         },
         "mode": "markers",
         "name": "Лига Цифровой Экономики",
         "orientation": "v",
         "showlegend": true,
         "type": "scatter",
         "x": [
          0
         ],
         "xaxis": "x",
         "y": [
          110
         ],
         "yaxis": "y"
        },
        {
         "hovertemplate": "name=Softline<br>avg_salary=%{x}<br>cnt_vac=%{y}<extra></extra>",
         "legendgroup": "Softline",
         "marker": {
          "color": "#ab63fa",
          "symbol": "circle"
         },
         "mode": "markers",
         "name": "Softline",
         "orientation": "v",
         "showlegend": true,
         "type": "scatter",
         "x": [
          8102
         ],
         "xaxis": "x",
         "y": [
          108
         ],
         "yaxis": "y"
        },
        {
         "hovertemplate": "name=МегаФон<br>avg_salary=%{x}<br>cnt_vac=%{y}<extra></extra>",
         "legendgroup": "МегаФон",
         "marker": {
          "color": "#FFA15A",
          "symbol": "circle"
         },
         "mode": "markers",
         "name": "МегаФон",
         "orientation": "v",
         "showlegend": true,
         "type": "scatter",
         "x": [
          4625
         ],
         "xaxis": "x",
         "y": [
          104
         ],
         "yaxis": "y"
        },
        {
         "hovertemplate": "name=Совкомбанк<br>avg_salary=%{x}<br>cnt_vac=%{y}<extra></extra>",
         "legendgroup": "Совкомбанк",
         "marker": {
          "color": "#19d3f3",
          "symbol": "circle"
         },
         "mode": "markers",
         "name": "Совкомбанк",
         "orientation": "v",
         "showlegend": true,
         "type": "scatter",
         "x": [
          8111
         ],
         "xaxis": "x",
         "y": [
          99
         ],
         "yaxis": "y"
        },
        {
         "hovertemplate": "name=Центр Высоких Технологий<br>avg_salary=%{x}<br>cnt_vac=%{y}<extra></extra>",
         "legendgroup": "Центр Высоких Технологий",
         "marker": {
          "color": "#FF6692",
          "symbol": "circle"
         },
         "mode": "markers",
         "name": "Центр Высоких Технологий",
         "orientation": "v",
         "showlegend": true,
         "type": "scatter",
         "x": [
          0
         ],
         "xaxis": "x",
         "y": [
          96
         ],
         "yaxis": "y"
        },
        {
         "hovertemplate": "name=Банк ВТБ (ПАО)<br>avg_salary=%{x}<br>cnt_vac=%{y}<extra></extra>",
         "legendgroup": "Банк ВТБ (ПАО)",
         "marker": {
          "color": "#B6E880",
          "symbol": "circle"
         },
         "mode": "markers",
         "name": "Банк ВТБ (ПАО)",
         "orientation": "v",
         "showlegend": true,
         "type": "scatter",
         "x": [
          0
         ],
         "xaxis": "x",
         "y": [
          94
         ],
         "yaxis": "y"
        },
        {
         "hovertemplate": "name=ИнфоТеКС<br>avg_salary=%{x}<br>cnt_vac=%{y}<extra></extra>",
         "legendgroup": "ИнфоТеКС",
         "marker": {
          "color": "#FF97FF",
          "symbol": "circle"
         },
         "mode": "markers",
         "name": "ИнфоТеКС",
         "orientation": "v",
         "showlegend": true,
         "type": "scatter",
         "x": [
          0
         ],
         "xaxis": "x",
         "y": [
          92
         ],
         "yaxis": "y"
        },
        {
         "hovertemplate": "name=ЭФКО, Управляющая компания<br>avg_salary=%{x}<br>cnt_vac=%{y}<extra></extra>",
         "legendgroup": "ЭФКО, Управляющая компания",
         "marker": {
          "color": "#FECB52",
          "symbol": "circle"
         },
         "mode": "markers",
         "name": "ЭФКО, Управляющая компания",
         "orientation": "v",
         "showlegend": true,
         "type": "scatter",
         "x": [
          24638
         ],
         "xaxis": "x",
         "y": [
          91
         ],
         "yaxis": "y"
        },
        {
         "hovertemplate": "name=Playrix<br>avg_salary=%{x}<br>cnt_vac=%{y}<extra></extra>",
         "legendgroup": "Playrix",
         "marker": {
          "color": "#636efa",
          "symbol": "circle"
         },
         "mode": "markers",
         "name": "Playrix",
         "orientation": "v",
         "showlegend": true,
         "type": "scatter",
         "x": [
          0
         ],
         "xaxis": "x",
         "y": [
          90
         ],
         "yaxis": "y"
        },
        {
         "hovertemplate": "name=Центральный банк Российской Федерации<br>avg_salary=%{x}<br>cnt_vac=%{y}<extra></extra>",
         "legendgroup": "Центральный банк Российской Федерации",
         "marker": {
          "color": "#EF553B",
          "symbol": "circle"
         },
         "mode": "markers",
         "name": "Центральный банк Российской Федерации",
         "orientation": "v",
         "showlegend": true,
         "type": "scatter",
         "x": [
          0
         ],
         "xaxis": "x",
         "y": [
          88
         ],
         "yaxis": "y"
        },
        {
         "hovertemplate": "name=Nitka Technologies<br>avg_salary=%{x}<br>cnt_vac=%{y}<extra></extra>",
         "legendgroup": "Nitka Technologies",
         "marker": {
          "color": "#00cc96",
          "symbol": "circle"
         },
         "mode": "markers",
         "name": "Nitka Technologies",
         "orientation": "v",
         "showlegend": true,
         "type": "scatter",
         "x": [
          0
         ],
         "xaxis": "x",
         "y": [
          83
         ],
         "yaxis": "y"
        },
        {
         "hovertemplate": "name=Контур<br>avg_salary=%{x}<br>cnt_vac=%{y}<extra></extra>",
         "legendgroup": "Контур",
         "marker": {
          "color": "#ab63fa",
          "symbol": "circle"
         },
         "mode": "markers",
         "name": "Контур",
         "orientation": "v",
         "showlegend": true,
         "type": "scatter",
         "x": [
          65475
         ],
         "xaxis": "x",
         "y": [
          80
         ],
         "yaxis": "y"
        },
        {
         "hovertemplate": "name=1C-Рарус<br>avg_salary=%{x}<br>cnt_vac=%{y}<extra></extra>",
         "legendgroup": "1C-Рарус",
         "marker": {
          "color": "#FFA15A",
          "symbol": "circle"
         },
         "mode": "markers",
         "name": "1C-Рарус",
         "orientation": "v",
         "showlegend": true,
         "type": "scatter",
         "x": [
          78490
         ],
         "xaxis": "x",
         "y": [
          80
         ],
         "yaxis": "y"
        },
        {
         "hovertemplate": "name=СимбирСофт<br>avg_salary=%{x}<br>cnt_vac=%{y}<extra></extra>",
         "legendgroup": "СимбирСофт",
         "marker": {
          "color": "#19d3f3",
          "symbol": "circle"
         },
         "mode": "markers",
         "name": "СимбирСофт",
         "orientation": "v",
         "showlegend": true,
         "type": "scatter",
         "x": [
          0
         ],
         "xaxis": "x",
         "y": [
          79
         ],
         "yaxis": "y"
        },
        {
         "hovertemplate": "name=Норникель<br>avg_salary=%{x}<br>cnt_vac=%{y}<extra></extra>",
         "legendgroup": "Норникель",
         "marker": {
          "color": "#FF6692",
          "symbol": "circle"
         },
         "mode": "markers",
         "name": "Норникель",
         "orientation": "v",
         "showlegend": true,
         "type": "scatter",
         "x": [
          1437
         ],
         "xaxis": "x",
         "y": [
          79
         ],
         "yaxis": "y"
        },
        {
         "hovertemplate": "name=Почта России<br>avg_salary=%{x}<br>cnt_vac=%{y}<extra></extra>",
         "legendgroup": "Почта России",
         "marker": {
          "color": "#B6E880",
          "symbol": "circle"
         },
         "mode": "markers",
         "name": "Почта России",
         "orientation": "v",
         "showlegend": true,
         "type": "scatter",
         "x": [
          23067
         ],
         "xaxis": "x",
         "y": [
          78
         ],
         "yaxis": "y"
        },
        {
         "hovertemplate": "name=Гринатом<br>avg_salary=%{x}<br>cnt_vac=%{y}<extra></extra>",
         "legendgroup": "Гринатом",
         "marker": {
          "color": "#FF97FF",
          "symbol": "circle"
         },
         "mode": "markers",
         "name": "Гринатом",
         "orientation": "v",
         "showlegend": true,
         "type": "scatter",
         "x": [
          24094
         ],
         "xaxis": "x",
         "y": [
          76
         ],
         "yaxis": "y"
        },
        {
         "hovertemplate": "name=Positive Technologies<br>avg_salary=%{x}<br>cnt_vac=%{y}<extra></extra>",
         "legendgroup": "Positive Technologies",
         "marker": {
          "color": "#FECB52",
          "symbol": "circle"
         },
         "mode": "markers",
         "name": "Positive Technologies",
         "orientation": "v",
         "showlegend": true,
         "type": "scatter",
         "x": [
          0
         ],
         "xaxis": "x",
         "y": [
          73
         ],
         "yaxis": "y"
        },
        {
         "hovertemplate": "name=Спортмастер<br>avg_salary=%{x}<br>cnt_vac=%{y}<extra></extra>",
         "legendgroup": "Спортмастер",
         "marker": {
          "color": "#636efa",
          "symbol": "circle"
         },
         "mode": "markers",
         "name": "Спортмастер",
         "orientation": "v",
         "showlegend": true,
         "type": "scatter",
         "x": [
          7390
         ],
         "xaxis": "x",
         "y": [
          72
         ],
         "yaxis": "y"
        },
        {
         "hovertemplate": "name=DNS Головной офис<br>avg_salary=%{x}<br>cnt_vac=%{y}<extra></extra>",
         "legendgroup": "DNS Головной офис",
         "marker": {
          "color": "#EF553B",
          "symbol": "circle"
         },
         "mode": "markers",
         "name": "DNS Головной офис",
         "orientation": "v",
         "showlegend": true,
         "type": "scatter",
         "x": [
          96938
         ],
         "xaxis": "x",
         "y": [
          72
         ],
         "yaxis": "y"
        },
        {
         "hovertemplate": "name=ООО ЕФИН <br>avg_salary=%{x}<br>cnt_vac=%{y}<extra></extra>",
         "legendgroup": "ООО ЕФИН ",
         "marker": {
          "color": "#00cc96",
          "symbol": "circle"
         },
         "mode": "markers",
         "name": "ООО ЕФИН ",
         "orientation": "v",
         "showlegend": true,
         "type": "scatter",
         "x": [
          150000
         ],
         "xaxis": "x",
         "y": [
          71
         ],
         "yaxis": "y"
        },
        {
         "hovertemplate": "name=АЛНАС<br>avg_salary=%{x}<br>cnt_vac=%{y}<extra></extra>",
         "legendgroup": "АЛНАС",
         "marker": {
          "color": "#ab63fa",
          "symbol": "circle"
         },
         "mode": "markers",
         "name": "АЛНАС",
         "orientation": "v",
         "showlegend": true,
         "type": "scatter",
         "x": [
          111023
         ],
         "xaxis": "x",
         "y": [
          69
         ],
         "yaxis": "y"
        },
        {
         "hovertemplate": "name=Северсталь<br>avg_salary=%{x}<br>cnt_vac=%{y}<extra></extra>",
         "legendgroup": "Северсталь",
         "marker": {
          "color": "#FFA15A",
          "symbol": "circle"
         },
         "mode": "markers",
         "name": "Северсталь",
         "orientation": "v",
         "showlegend": true,
         "type": "scatter",
         "x": [
          0
         ],
         "xaxis": "x",
         "y": [
          69
         ],
         "yaxis": "y"
        },
        {
         "hovertemplate": "name=Диплей<br>avg_salary=%{x}<br>cnt_vac=%{y}<extra></extra>",
         "legendgroup": "Диплей",
         "marker": {
          "color": "#19d3f3",
          "symbol": "circle"
         },
         "mode": "markers",
         "name": "Диплей",
         "orientation": "v",
         "showlegend": true,
         "type": "scatter",
         "x": [
          7721
         ],
         "xaxis": "x",
         "y": [
          68
         ],
         "yaxis": "y"
        },
        {
         "hovertemplate": "name=Tele2<br>avg_salary=%{x}<br>cnt_vac=%{y}<extra></extra>",
         "legendgroup": "Tele2",
         "marker": {
          "color": "#FF6692",
          "symbol": "circle"
         },
         "mode": "markers",
         "name": "Tele2",
         "orientation": "v",
         "showlegend": true,
         "type": "scatter",
         "x": [
          2806
         ],
         "xaxis": "x",
         "y": [
          67
         ],
         "yaxis": "y"
        },
        {
         "hovertemplate": "name=SberTech<br>avg_salary=%{x}<br>cnt_vac=%{y}<extra></extra>",
         "legendgroup": "SberTech",
         "marker": {
          "color": "#B6E880",
          "symbol": "circle"
         },
         "mode": "markers",
         "name": "SberTech",
         "orientation": "v",
         "showlegend": true,
         "type": "scatter",
         "x": [
          60848
         ],
         "xaxis": "x",
         "y": [
          66
         ],
         "yaxis": "y"
        },
        {
         "hovertemplate": "name=Центр финансовых технологий<br>avg_salary=%{x}<br>cnt_vac=%{y}<extra></extra>",
         "legendgroup": "Центр финансовых технологий",
         "marker": {
          "color": "#FF97FF",
          "symbol": "circle"
         },
         "mode": "markers",
         "name": "Центр финансовых технологий",
         "orientation": "v",
         "showlegend": true,
         "type": "scatter",
         "x": [
          0
         ],
         "xaxis": "x",
         "y": [
          65
         ],
         "yaxis": "y"
        },
        {
         "hovertemplate": "name=ЭР-Телеком<br>avg_salary=%{x}<br>cnt_vac=%{y}<extra></extra>",
         "legendgroup": "ЭР-Телеком",
         "marker": {
          "color": "#FECB52",
          "symbol": "circle"
         },
         "mode": "markers",
         "name": "ЭР-Телеком",
         "orientation": "v",
         "showlegend": true,
         "type": "scatter",
         "x": [
          41469
         ],
         "xaxis": "x",
         "y": [
          65
         ],
         "yaxis": "y"
        },
        {
         "hovertemplate": "name=Itransition<br>avg_salary=%{x}<br>cnt_vac=%{y}<extra></extra>",
         "legendgroup": "Itransition",
         "marker": {
          "color": "#636efa",
          "symbol": "circle"
         },
         "mode": "markers",
         "name": "Itransition",
         "orientation": "v",
         "showlegend": true,
         "type": "scatter",
         "x": [
          0
         ],
         "xaxis": "x",
         "y": [
          65
         ],
         "yaxis": "y"
        },
        {
         "hovertemplate": "name=Калашников<br>avg_salary=%{x}<br>cnt_vac=%{y}<extra></extra>",
         "legendgroup": "Калашников",
         "marker": {
          "color": "#EF553B",
          "symbol": "circle"
         },
         "mode": "markers",
         "name": "Калашников",
         "orientation": "v",
         "showlegend": true,
         "type": "scatter",
         "x": [
          5429
         ],
         "xaxis": "x",
         "y": [
          63
         ],
         "yaxis": "y"
        },
        {
         "hovertemplate": "name=ELMA<br>avg_salary=%{x}<br>cnt_vac=%{y}<extra></extra>",
         "legendgroup": "ELMA",
         "marker": {
          "color": "#00cc96",
          "symbol": "circle"
         },
         "mode": "markers",
         "name": "ELMA",
         "orientation": "v",
         "showlegend": true,
         "type": "scatter",
         "x": [
          0
         ],
         "xaxis": "x",
         "y": [
          63
         ],
         "yaxis": "y"
        },
        {
         "hovertemplate": "name=Beeline, ТМ<br>avg_salary=%{x}<br>cnt_vac=%{y}<extra></extra>",
         "legendgroup": "Beeline, ТМ",
         "marker": {
          "color": "#ab63fa",
          "symbol": "circle"
         },
         "mode": "markers",
         "name": "Beeline, ТМ",
         "orientation": "v",
         "showlegend": true,
         "type": "scatter",
         "x": [
          349
         ],
         "xaxis": "x",
         "y": [
          63
         ],
         "yaxis": "y"
        },
        {
         "hovertemplate": "name=ЕВРАЗ<br>avg_salary=%{x}<br>cnt_vac=%{y}<extra></extra>",
         "legendgroup": "ЕВРАЗ",
         "marker": {
          "color": "#FFA15A",
          "symbol": "circle"
         },
         "mode": "markers",
         "name": "ЕВРАЗ",
         "orientation": "v",
         "showlegend": true,
         "type": "scatter",
         "x": [
          9355
         ],
         "xaxis": "x",
         "y": [
          62
         ],
         "yaxis": "y"
        },
        {
         "hovertemplate": "name=Эксперт-Система<br>avg_salary=%{x}<br>cnt_vac=%{y}<extra></extra>",
         "legendgroup": "Эксперт-Система",
         "marker": {
          "color": "#19d3f3",
          "symbol": "circle"
         },
         "mode": "markers",
         "name": "Эксперт-Система",
         "orientation": "v",
         "showlegend": true,
         "type": "scatter",
         "x": [
          0
         ],
         "xaxis": "x",
         "y": [
          61
         ],
         "yaxis": "y"
        },
        {
         "hovertemplate": "name=Альфа-Банк<br>avg_salary=%{x}<br>cnt_vac=%{y}<extra></extra>",
         "legendgroup": "Альфа-Банк",
         "marker": {
          "color": "#FF6692",
          "symbol": "circle"
         },
         "mode": "markers",
         "name": "Альфа-Банк",
         "orientation": "v",
         "showlegend": true,
         "type": "scatter",
         "x": [
          2049
         ],
         "xaxis": "x",
         "y": [
          61
         ],
         "yaxis": "y"
        },
        {
         "hovertemplate": "name=Вайзор Геймз<br>avg_salary=%{x}<br>cnt_vac=%{y}<extra></extra>",
         "legendgroup": "Вайзор Геймз",
         "marker": {
          "color": "#B6E880",
          "symbol": "circle"
         },
         "mode": "markers",
         "name": "Вайзор Геймз",
         "orientation": "v",
         "showlegend": true,
         "type": "scatter",
         "x": [
          0
         ],
         "xaxis": "x",
         "y": [
          57
         ],
         "yaxis": "y"
        },
        {
         "hovertemplate": "name=Авито<br>avg_salary=%{x}<br>cnt_vac=%{y}<extra></extra>",
         "legendgroup": "Авито",
         "marker": {
          "color": "#FF97FF",
          "symbol": "circle"
         },
         "mode": "markers",
         "name": "Авито",
         "orientation": "v",
         "showlegend": true,
         "type": "scatter",
         "x": [
          20118
         ],
         "xaxis": "x",
         "y": [
          57
         ],
         "yaxis": "y"
        },
        {
         "hovertemplate": "name=Банк ДОМ.РФ<br>avg_salary=%{x}<br>cnt_vac=%{y}<extra></extra>",
         "legendgroup": "Банк ДОМ.РФ",
         "marker": {
          "color": "#FECB52",
          "symbol": "circle"
         },
         "mode": "markers",
         "name": "Банк ДОМ.РФ",
         "orientation": "v",
         "showlegend": true,
         "type": "scatter",
         "x": [
          2844
         ],
         "xaxis": "x",
         "y": [
          56
         ],
         "yaxis": "y"
        },
        {
         "hovertemplate": "name=Восток.Софт<br>avg_salary=%{x}<br>cnt_vac=%{y}<extra></extra>",
         "legendgroup": "Восток.Софт",
         "marker": {
          "color": "#636efa",
          "symbol": "circle"
         },
         "mode": "markers",
         "name": "Восток.Софт",
         "orientation": "v",
         "showlegend": true,
         "type": "scatter",
         "x": [
          109018
         ],
         "xaxis": "x",
         "y": [
          56
         ],
         "yaxis": "y"
        },
        {
         "hovertemplate": "name=2ГИС<br>avg_salary=%{x}<br>cnt_vac=%{y}<extra></extra>",
         "legendgroup": "2ГИС",
         "marker": {
          "color": "#EF553B",
          "symbol": "circle"
         },
         "mode": "markers",
         "name": "2ГИС",
         "orientation": "v",
         "showlegend": true,
         "type": "scatter",
         "x": [
          458
         ],
         "xaxis": "x",
         "y": [
          56
         ],
         "yaxis": "y"
        },
        {
         "hovertemplate": "name=SOFTSWISS<br>avg_salary=%{x}<br>cnt_vac=%{y}<extra></extra>",
         "legendgroup": "SOFTSWISS",
         "marker": {
          "color": "#00cc96",
          "symbol": "circle"
         },
         "mode": "markers",
         "name": "SOFTSWISS",
         "orientation": "v",
         "showlegend": true,
         "type": "scatter",
         "x": [
          0
         ],
         "xaxis": "x",
         "y": [
          56
         ],
         "yaxis": "y"
        },
        {
         "hovertemplate": "name=Новео<br>avg_salary=%{x}<br>cnt_vac=%{y}<extra></extra>",
         "legendgroup": "Новео",
         "marker": {
          "color": "#ab63fa",
          "symbol": "circle"
         },
         "mode": "markers",
         "name": "Новео",
         "orientation": "v",
         "showlegend": true,
         "type": "scatter",
         "x": [
          0
         ],
         "xaxis": "x",
         "y": [
          56
         ],
         "yaxis": "y"
        },
        {
         "hovertemplate": "name=КБ Уральский банк реконструкции и развития (УБРиР)<br>avg_salary=%{x}<br>cnt_vac=%{y}<extra></extra>",
         "legendgroup": "КБ Уральский банк реконструкции и развития (УБРиР)",
         "marker": {
          "color": "#FFA15A",
          "symbol": "circle"
         },
         "mode": "markers",
         "name": "КБ Уральский банк реконструкции и развития (УБРиР)",
         "orientation": "v",
         "showlegend": true,
         "type": "scatter",
         "x": [
          2838
         ],
         "xaxis": "x",
         "y": [
          55
         ],
         "yaxis": "y"
        },
        {
         "hovertemplate": "name=Sumitec International<br>avg_salary=%{x}<br>cnt_vac=%{y}<extra></extra>",
         "legendgroup": "Sumitec International",
         "marker": {
          "color": "#19d3f3",
          "symbol": "circle"
         },
         "mode": "markers",
         "name": "Sumitec International",
         "orientation": "v",
         "showlegend": true,
         "type": "scatter",
         "x": [
          159000
         ],
         "xaxis": "x",
         "y": [
          55
         ],
         "yaxis": "y"
        },
        {
         "hovertemplate": "name=Semrush<br>avg_salary=%{x}<br>cnt_vac=%{y}<extra></extra>",
         "legendgroup": "Semrush",
         "marker": {
          "color": "#FF6692",
          "symbol": "circle"
         },
         "mode": "markers",
         "name": "Semrush",
         "orientation": "v",
         "showlegend": true,
         "type": "scatter",
         "x": [
          146914
         ],
         "xaxis": "x",
         "y": [
          55
         ],
         "yaxis": "y"
        },
        {
         "hovertemplate": "name=СофтКорп<br>avg_salary=%{x}<br>cnt_vac=%{y}<extra></extra>",
         "legendgroup": "СофтКорп",
         "marker": {
          "color": "#B6E880",
          "symbol": "circle"
         },
         "mode": "markers",
         "name": "СофтКорп",
         "orientation": "v",
         "showlegend": true,
         "type": "scatter",
         "x": [
          101419
         ],
         "xaxis": "x",
         "y": [
          55
         ],
         "yaxis": "y"
        },
        {
         "hovertemplate": "name=ЦИФРОВОЙ ВЫБОР<br>avg_salary=%{x}<br>cnt_vac=%{y}<extra></extra>",
         "legendgroup": "ЦИФРОВОЙ ВЫБОР",
         "marker": {
          "color": "#FF97FF",
          "symbol": "circle"
         },
         "mode": "markers",
         "name": "ЦИФРОВОЙ ВЫБОР",
         "orientation": "v",
         "showlegend": true,
         "type": "scatter",
         "x": [
          141455
         ],
         "xaxis": "x",
         "y": [
          55
         ],
         "yaxis": "y"
        },
        {
         "hovertemplate": "name=ARRIVAL LTD<br>avg_salary=%{x}<br>cnt_vac=%{y}<extra></extra>",
         "legendgroup": "ARRIVAL LTD",
         "marker": {
          "color": "#FECB52",
          "symbol": "circle"
         },
         "mode": "markers",
         "name": "ARRIVAL LTD",
         "orientation": "v",
         "showlegend": true,
         "type": "scatter",
         "x": [
          0
         ],
         "xaxis": "x",
         "y": [
          55
         ],
         "yaxis": "y"
        },
        {
         "hovertemplate": "name=Homework<br>avg_salary=%{x}<br>cnt_vac=%{y}<extra></extra>",
         "legendgroup": "Homework",
         "marker": {
          "color": "#636efa",
          "symbol": "circle"
         },
         "mode": "markers",
         "name": "Homework",
         "orientation": "v",
         "showlegend": true,
         "type": "scatter",
         "x": [
          93333
         ],
         "xaxis": "x",
         "y": [
          54
         ],
         "yaxis": "y"
        },
        {
         "hovertemplate": "name=РУСАЛ, Центр подбора персонала<br>avg_salary=%{x}<br>cnt_vac=%{y}<extra></extra>",
         "legendgroup": "РУСАЛ, Центр подбора персонала",
         "marker": {
          "color": "#EF553B",
          "symbol": "circle"
         },
         "mode": "markers",
         "name": "РУСАЛ, Центр подбора персонала",
         "orientation": "v",
         "showlegend": true,
         "type": "scatter",
         "x": [
          0
         ],
         "xaxis": "x",
         "y": [
          54
         ],
         "yaxis": "y"
        },
        {
         "hovertemplate": "name=Ак Барс Банк<br>avg_salary=%{x}<br>cnt_vac=%{y}<extra></extra>",
         "legendgroup": "Ак Барс Банк",
         "marker": {
          "color": "#00cc96",
          "symbol": "circle"
         },
         "mode": "markers",
         "name": "Ак Барс Банк",
         "orientation": "v",
         "showlegend": true,
         "type": "scatter",
         "x": [
          11630
         ],
         "xaxis": "x",
         "y": [
          54
         ],
         "yaxis": "y"
        },
        {
         "hovertemplate": "name=Social Discovery Ventures<br>avg_salary=%{x}<br>cnt_vac=%{y}<extra></extra>",
         "legendgroup": "Social Discovery Ventures",
         "marker": {
          "color": "#ab63fa",
          "symbol": "circle"
         },
         "mode": "markers",
         "name": "Social Discovery Ventures",
         "orientation": "v",
         "showlegend": true,
         "type": "scatter",
         "x": [
          121768
         ],
         "xaxis": "x",
         "y": [
          54
         ],
         "yaxis": "y"
        },
        {
         "hovertemplate": "name=СИБУР, Группа компаний<br>avg_salary=%{x}<br>cnt_vac=%{y}<extra></extra>",
         "legendgroup": "СИБУР, Группа компаний",
         "marker": {
          "color": "#FFA15A",
          "symbol": "circle"
         },
         "mode": "markers",
         "name": "СИБУР, Группа компаний",
         "orientation": "v",
         "showlegend": true,
         "type": "scatter",
         "x": [
          0
         ],
         "xaxis": "x",
         "y": [
          53
         ],
         "yaxis": "y"
        },
        {
         "hovertemplate": "name=Goodt<br>avg_salary=%{x}<br>cnt_vac=%{y}<extra></extra>",
         "legendgroup": "Goodt",
         "marker": {
          "color": "#19d3f3",
          "symbol": "circle"
         },
         "mode": "markers",
         "name": "Goodt",
         "orientation": "v",
         "showlegend": true,
         "type": "scatter",
         "x": [
          7692
         ],
         "xaxis": "x",
         "y": [
          52
         ],
         "yaxis": "y"
        },
        {
         "hovertemplate": "name=Ай-Теко (I-Teco)<br>avg_salary=%{x}<br>cnt_vac=%{y}<extra></extra>",
         "legendgroup": "Ай-Теко (I-Teco)",
         "marker": {
          "color": "#FF6692",
          "symbol": "circle"
         },
         "mode": "markers",
         "name": "Ай-Теко (I-Teco)",
         "orientation": "v",
         "showlegend": true,
         "type": "scatter",
         "x": [
          2692
         ],
         "xaxis": "x",
         "y": [
          52
         ],
         "yaxis": "y"
        },
        {
         "hovertemplate": "name=Сбербанк-Сервис<br>avg_salary=%{x}<br>cnt_vac=%{y}<extra></extra>",
         "legendgroup": "Сбербанк-Сервис",
         "marker": {
          "color": "#B6E880",
          "symbol": "circle"
         },
         "mode": "markers",
         "name": "Сбербанк-Сервис",
         "orientation": "v",
         "showlegend": true,
         "type": "scatter",
         "x": [
          0
         ],
         "xaxis": "x",
         "y": [
          52
         ],
         "yaxis": "y"
        },
        {
         "hovertemplate": "name=Трубная Металлургическая Компания<br>avg_salary=%{x}<br>cnt_vac=%{y}<extra></extra>",
         "legendgroup": "Трубная Металлургическая Компания",
         "marker": {
          "color": "#FF97FF",
          "symbol": "circle"
         },
         "mode": "markers",
         "name": "Трубная Металлургическая Компания",
         "orientation": "v",
         "showlegend": true,
         "type": "scatter",
         "x": [
          12470
         ],
         "xaxis": "x",
         "y": [
          50
         ],
         "yaxis": "y"
        },
        {
         "hovertemplate": "name=билайн<br>avg_salary=%{x}<br>cnt_vac=%{y}<extra></extra>",
         "legendgroup": "билайн",
         "marker": {
          "color": "#FECB52",
          "symbol": "circle"
         },
         "mode": "markers",
         "name": "билайн",
         "orientation": "v",
         "showlegend": true,
         "type": "scatter",
         "x": [
          12690
         ],
         "xaxis": "x",
         "y": [
          50
         ],
         "yaxis": "y"
        },
        {
         "hovertemplate": "name=АйСи Сервис<br>avg_salary=%{x}<br>cnt_vac=%{y}<extra></extra>",
         "legendgroup": "АйСи Сервис",
         "marker": {
          "color": "#636efa",
          "symbol": "circle"
         },
         "mode": "markers",
         "name": "АйСи Сервис",
         "orientation": "v",
         "showlegend": true,
         "type": "scatter",
         "x": [
          1080
         ],
         "xaxis": "x",
         "y": [
          50
         ],
         "yaxis": "y"
        },
        {
         "hovertemplate": "name=Промсвязьбанк<br>avg_salary=%{x}<br>cnt_vac=%{y}<extra></extra>",
         "legendgroup": "Промсвязьбанк",
         "marker": {
          "color": "#EF553B",
          "symbol": "circle"
         },
         "mode": "markers",
         "name": "Промсвязьбанк",
         "orientation": "v",
         "showlegend": true,
         "type": "scatter",
         "x": [
          1805
         ],
         "xaxis": "x",
         "y": [
          49
         ],
         "yaxis": "y"
        },
        {
         "hovertemplate": "name=ALP GROUP<br>avg_salary=%{x}<br>cnt_vac=%{y}<extra></extra>",
         "legendgroup": "ALP GROUP",
         "marker": {
          "color": "#00cc96",
          "symbol": "circle"
         },
         "mode": "markers",
         "name": "ALP GROUP",
         "orientation": "v",
         "showlegend": true,
         "type": "scatter",
         "x": [
          65510
         ],
         "xaxis": "x",
         "y": [
          49
         ],
         "yaxis": "y"
        },
        {
         "hovertemplate": "name=Красное & Белое, розничная сеть<br>avg_salary=%{x}<br>cnt_vac=%{y}<extra></extra>",
         "legendgroup": "Красное & Белое, розничная сеть",
         "marker": {
          "color": "#ab63fa",
          "symbol": "circle"
         },
         "mode": "markers",
         "name": "Красное & Белое, розничная сеть",
         "orientation": "v",
         "showlegend": true,
         "type": "scatter",
         "x": [
          57875
         ],
         "xaxis": "x",
         "y": [
          48
         ],
         "yaxis": "y"
        },
        {
         "hovertemplate": "name=КРОН<br>avg_salary=%{x}<br>cnt_vac=%{y}<extra></extra>",
         "legendgroup": "КРОН",
         "marker": {
          "color": "#FFA15A",
          "symbol": "circle"
         },
         "mode": "markers",
         "name": "КРОН",
         "orientation": "v",
         "showlegend": true,
         "type": "scatter",
         "x": [
          200000
         ],
         "xaxis": "x",
         "y": [
          48
         ],
         "yaxis": "y"
        },
        {
         "hovertemplate": "name=Directum<br>avg_salary=%{x}<br>cnt_vac=%{y}<extra></extra>",
         "legendgroup": "Directum",
         "marker": {
          "color": "#19d3f3",
          "symbol": "circle"
         },
         "mode": "markers",
         "name": "Directum",
         "orientation": "v",
         "showlegend": true,
         "type": "scatter",
         "x": [
          0
         ],
         "xaxis": "x",
         "y": [
          48
         ],
         "yaxis": "y"
        },
        {
         "hovertemplate": "name=Объединенная металлургическая компания<br>avg_salary=%{x}<br>cnt_vac=%{y}<extra></extra>",
         "legendgroup": "Объединенная металлургическая компания",
         "marker": {
          "color": "#FF6692",
          "symbol": "circle"
         },
         "mode": "markers",
         "name": "Объединенная металлургическая компания",
         "orientation": "v",
         "showlegend": true,
         "type": "scatter",
         "x": [
          16625
         ],
         "xaxis": "x",
         "y": [
          48
         ],
         "yaxis": "y"
        },
        {
         "hovertemplate": "name=Employcity<br>avg_salary=%{x}<br>cnt_vac=%{y}<extra></extra>",
         "legendgroup": "Employcity",
         "marker": {
          "color": "#B6E880",
          "symbol": "circle"
         },
         "mode": "markers",
         "name": "Employcity",
         "orientation": "v",
         "showlegend": true,
         "type": "scatter",
         "x": [
          73335
         ],
         "xaxis": "x",
         "y": [
          47
         ],
         "yaxis": "y"
        },
        {
         "hovertemplate": "name=Группа НЛМК<br>avg_salary=%{x}<br>cnt_vac=%{y}<extra></extra>",
         "legendgroup": "Группа НЛМК",
         "marker": {
          "color": "#FF97FF",
          "symbol": "circle"
         },
         "mode": "markers",
         "name": "Группа НЛМК",
         "orientation": "v",
         "showlegend": true,
         "type": "scatter",
         "x": [
          4811
         ],
         "xaxis": "x",
         "y": [
          47
         ],
         "yaxis": "y"
        },
        {
         "hovertemplate": "name=SearchInform<br>avg_salary=%{x}<br>cnt_vac=%{y}<extra></extra>",
         "legendgroup": "SearchInform",
         "marker": {
          "color": "#FECB52",
          "symbol": "circle"
         },
         "mode": "markers",
         "name": "SearchInform",
         "orientation": "v",
         "showlegend": true,
         "type": "scatter",
         "x": [
          121702
         ],
         "xaxis": "x",
         "y": [
          47
         ],
         "yaxis": "y"
        },
        {
         "hovertemplate": "name=Ростелеком Информационные Технологии<br>avg_salary=%{x}<br>cnt_vac=%{y}<extra></extra>",
         "legendgroup": "Ростелеком Информационные Технологии",
         "marker": {
          "color": "#636efa",
          "symbol": "circle"
         },
         "mode": "markers",
         "name": "Ростелеком Информационные Технологии",
         "orientation": "v",
         "showlegend": true,
         "type": "scatter",
         "x": [
          0
         ],
         "xaxis": "x",
         "y": [
          46
         ],
         "yaxis": "y"
        },
        {
         "hovertemplate": "name=MCORE<br>avg_salary=%{x}<br>cnt_vac=%{y}<extra></extra>",
         "legendgroup": "MCORE",
         "marker": {
          "color": "#EF553B",
          "symbol": "circle"
         },
         "mode": "markers",
         "name": "MCORE",
         "orientation": "v",
         "showlegend": true,
         "type": "scatter",
         "x": [
          0
         ],
         "xaxis": "x",
         "y": [
          46
         ],
         "yaxis": "y"
        },
        {
         "hovertemplate": "name=Т1 Консалтинг<br>avg_salary=%{x}<br>cnt_vac=%{y}<extra></extra>",
         "legendgroup": "Т1 Консалтинг",
         "marker": {
          "color": "#00cc96",
          "symbol": "circle"
         },
         "mode": "markers",
         "name": "Т1 Консалтинг",
         "orientation": "v",
         "showlegend": true,
         "type": "scatter",
         "x": [
          0
         ],
         "xaxis": "x",
         "y": [
          45
         ],
         "yaxis": "y"
        },
        {
         "hovertemplate": "name=HUAWEI<br>avg_salary=%{x}<br>cnt_vac=%{y}<extra></extra>",
         "legendgroup": "HUAWEI",
         "marker": {
          "color": "#ab63fa",
          "symbol": "circle"
         },
         "mode": "markers",
         "name": "HUAWEI",
         "orientation": "v",
         "showlegend": true,
         "type": "scatter",
         "x": [
          1724
         ],
         "xaxis": "x",
         "y": [
          45
         ],
         "yaxis": "y"
        },
        {
         "hovertemplate": "name=РТ МИС<br>avg_salary=%{x}<br>cnt_vac=%{y}<extra></extra>",
         "legendgroup": "РТ МИС",
         "marker": {
          "color": "#FFA15A",
          "symbol": "circle"
         },
         "mode": "markers",
         "name": "РТ МИС",
         "orientation": "v",
         "showlegend": true,
         "type": "scatter",
         "x": [
          3000
         ],
         "xaxis": "x",
         "y": [
          45
         ],
         "yaxis": "y"
        },
        {
         "hovertemplate": "name=ISPsystem<br>avg_salary=%{x}<br>cnt_vac=%{y}<extra></extra>",
         "legendgroup": "ISPsystem",
         "marker": {
          "color": "#19d3f3",
          "symbol": "circle"
         },
         "mode": "markers",
         "name": "ISPsystem",
         "orientation": "v",
         "showlegend": true,
         "type": "scatter",
         "x": [
          6667
         ],
         "xaxis": "x",
         "y": [
          45
         ],
         "yaxis": "y"
        },
        {
         "hovertemplate": "name=Эр-1<br>avg_salary=%{x}<br>cnt_vac=%{y}<extra></extra>",
         "legendgroup": "Эр-1",
         "marker": {
          "color": "#FF6692",
          "symbol": "circle"
         },
         "mode": "markers",
         "name": "Эр-1",
         "orientation": "v",
         "showlegend": true,
         "type": "scatter",
         "x": [
          0
         ],
         "xaxis": "x",
         "y": [
          44
         ],
         "yaxis": "y"
        },
        {
         "hovertemplate": "name=Ресурс, ГАП<br>avg_salary=%{x}<br>cnt_vac=%{y}<extra></extra>",
         "legendgroup": "Ресурс, ГАП",
         "marker": {
          "color": "#B6E880",
          "symbol": "circle"
         },
         "mode": "markers",
         "name": "Ресурс, ГАП",
         "orientation": "v",
         "showlegend": true,
         "type": "scatter",
         "x": [
          11169
         ],
         "xaxis": "x",
         "y": [
          43
         ],
         "yaxis": "y"
        },
        {
         "hovertemplate": "name=LeverX International<br>avg_salary=%{x}<br>cnt_vac=%{y}<extra></extra>",
         "legendgroup": "LeverX International",
         "marker": {
          "color": "#FF97FF",
          "symbol": "circle"
         },
         "mode": "markers",
         "name": "LeverX International",
         "orientation": "v",
         "showlegend": true,
         "type": "scatter",
         "x": [
          0
         ],
         "xaxis": "x",
         "y": [
          43
         ],
         "yaxis": "y"
        },
        {
         "hovertemplate": "name=inDriver<br>avg_salary=%{x}<br>cnt_vac=%{y}<extra></extra>",
         "legendgroup": "inDriver",
         "marker": {
          "color": "#FECB52",
          "symbol": "circle"
         },
         "mode": "markers",
         "name": "inDriver",
         "orientation": "v",
         "showlegend": true,
         "type": "scatter",
         "x": [
          22545
         ],
         "xaxis": "x",
         "y": [
          42
         ],
         "yaxis": "y"
        }
       ],
       "layout": {
        "legend": {
         "title": {
          "text": "name"
         },
         "tracegroupgap": 0
        },
        "template": {
         "data": {
          "bar": [
           {
            "error_x": {
             "color": "#2a3f5f"
            },
            "error_y": {
             "color": "#2a3f5f"
            },
            "marker": {
             "line": {
              "color": "#E5ECF6",
              "width": 0.5
             },
             "pattern": {
              "fillmode": "overlay",
              "size": 10,
              "solidity": 0.2
             }
            },
            "type": "bar"
           }
          ],
          "barpolar": [
           {
            "marker": {
             "line": {
              "color": "#E5ECF6",
              "width": 0.5
             },
             "pattern": {
              "fillmode": "overlay",
              "size": 10,
              "solidity": 0.2
             }
            },
            "type": "barpolar"
           }
          ],
          "carpet": [
           {
            "aaxis": {
             "endlinecolor": "#2a3f5f",
             "gridcolor": "white",
             "linecolor": "white",
             "minorgridcolor": "white",
             "startlinecolor": "#2a3f5f"
            },
            "baxis": {
             "endlinecolor": "#2a3f5f",
             "gridcolor": "white",
             "linecolor": "white",
             "minorgridcolor": "white",
             "startlinecolor": "#2a3f5f"
            },
            "type": "carpet"
           }
          ],
          "choropleth": [
           {
            "colorbar": {
             "outlinewidth": 0,
             "ticks": ""
            },
            "type": "choropleth"
           }
          ],
          "contour": [
           {
            "colorbar": {
             "outlinewidth": 0,
             "ticks": ""
            },
            "colorscale": [
             [
              0,
              "#0d0887"
             ],
             [
              0.1111111111111111,
              "#46039f"
             ],
             [
              0.2222222222222222,
              "#7201a8"
             ],
             [
              0.3333333333333333,
              "#9c179e"
             ],
             [
              0.4444444444444444,
              "#bd3786"
             ],
             [
              0.5555555555555556,
              "#d8576b"
             ],
             [
              0.6666666666666666,
              "#ed7953"
             ],
             [
              0.7777777777777778,
              "#fb9f3a"
             ],
             [
              0.8888888888888888,
              "#fdca26"
             ],
             [
              1,
              "#f0f921"
             ]
            ],
            "type": "contour"
           }
          ],
          "contourcarpet": [
           {
            "colorbar": {
             "outlinewidth": 0,
             "ticks": ""
            },
            "type": "contourcarpet"
           }
          ],
          "heatmap": [
           {
            "colorbar": {
             "outlinewidth": 0,
             "ticks": ""
            },
            "colorscale": [
             [
              0,
              "#0d0887"
             ],
             [
              0.1111111111111111,
              "#46039f"
             ],
             [
              0.2222222222222222,
              "#7201a8"
             ],
             [
              0.3333333333333333,
              "#9c179e"
             ],
             [
              0.4444444444444444,
              "#bd3786"
             ],
             [
              0.5555555555555556,
              "#d8576b"
             ],
             [
              0.6666666666666666,
              "#ed7953"
             ],
             [
              0.7777777777777778,
              "#fb9f3a"
             ],
             [
              0.8888888888888888,
              "#fdca26"
             ],
             [
              1,
              "#f0f921"
             ]
            ],
            "type": "heatmap"
           }
          ],
          "heatmapgl": [
           {
            "colorbar": {
             "outlinewidth": 0,
             "ticks": ""
            },
            "colorscale": [
             [
              0,
              "#0d0887"
             ],
             [
              0.1111111111111111,
              "#46039f"
             ],
             [
              0.2222222222222222,
              "#7201a8"
             ],
             [
              0.3333333333333333,
              "#9c179e"
             ],
             [
              0.4444444444444444,
              "#bd3786"
             ],
             [
              0.5555555555555556,
              "#d8576b"
             ],
             [
              0.6666666666666666,
              "#ed7953"
             ],
             [
              0.7777777777777778,
              "#fb9f3a"
             ],
             [
              0.8888888888888888,
              "#fdca26"
             ],
             [
              1,
              "#f0f921"
             ]
            ],
            "type": "heatmapgl"
           }
          ],
          "histogram": [
           {
            "marker": {
             "pattern": {
              "fillmode": "overlay",
              "size": 10,
              "solidity": 0.2
             }
            },
            "type": "histogram"
           }
          ],
          "histogram2d": [
           {
            "colorbar": {
             "outlinewidth": 0,
             "ticks": ""
            },
            "colorscale": [
             [
              0,
              "#0d0887"
             ],
             [
              0.1111111111111111,
              "#46039f"
             ],
             [
              0.2222222222222222,
              "#7201a8"
             ],
             [
              0.3333333333333333,
              "#9c179e"
             ],
             [
              0.4444444444444444,
              "#bd3786"
             ],
             [
              0.5555555555555556,
              "#d8576b"
             ],
             [
              0.6666666666666666,
              "#ed7953"
             ],
             [
              0.7777777777777778,
              "#fb9f3a"
             ],
             [
              0.8888888888888888,
              "#fdca26"
             ],
             [
              1,
              "#f0f921"
             ]
            ],
            "type": "histogram2d"
           }
          ],
          "histogram2dcontour": [
           {
            "colorbar": {
             "outlinewidth": 0,
             "ticks": ""
            },
            "colorscale": [
             [
              0,
              "#0d0887"
             ],
             [
              0.1111111111111111,
              "#46039f"
             ],
             [
              0.2222222222222222,
              "#7201a8"
             ],
             [
              0.3333333333333333,
              "#9c179e"
             ],
             [
              0.4444444444444444,
              "#bd3786"
             ],
             [
              0.5555555555555556,
              "#d8576b"
             ],
             [
              0.6666666666666666,
              "#ed7953"
             ],
             [
              0.7777777777777778,
              "#fb9f3a"
             ],
             [
              0.8888888888888888,
              "#fdca26"
             ],
             [
              1,
              "#f0f921"
             ]
            ],
            "type": "histogram2dcontour"
           }
          ],
          "mesh3d": [
           {
            "colorbar": {
             "outlinewidth": 0,
             "ticks": ""
            },
            "type": "mesh3d"
           }
          ],
          "parcoords": [
           {
            "line": {
             "colorbar": {
              "outlinewidth": 0,
              "ticks": ""
             }
            },
            "type": "parcoords"
           }
          ],
          "pie": [
           {
            "automargin": true,
            "type": "pie"
           }
          ],
          "scatter": [
           {
            "fillpattern": {
             "fillmode": "overlay",
             "size": 10,
             "solidity": 0.2
            },
            "type": "scatter"
           }
          ],
          "scatter3d": [
           {
            "line": {
             "colorbar": {
              "outlinewidth": 0,
              "ticks": ""
             }
            },
            "marker": {
             "colorbar": {
              "outlinewidth": 0,
              "ticks": ""
             }
            },
            "type": "scatter3d"
           }
          ],
          "scattercarpet": [
           {
            "marker": {
             "colorbar": {
              "outlinewidth": 0,
              "ticks": ""
             }
            },
            "type": "scattercarpet"
           }
          ],
          "scattergeo": [
           {
            "marker": {
             "colorbar": {
              "outlinewidth": 0,
              "ticks": ""
             }
            },
            "type": "scattergeo"
           }
          ],
          "scattergl": [
           {
            "marker": {
             "colorbar": {
              "outlinewidth": 0,
              "ticks": ""
             }
            },
            "type": "scattergl"
           }
          ],
          "scattermapbox": [
           {
            "marker": {
             "colorbar": {
              "outlinewidth": 0,
              "ticks": ""
             }
            },
            "type": "scattermapbox"
           }
          ],
          "scatterpolar": [
           {
            "marker": {
             "colorbar": {
              "outlinewidth": 0,
              "ticks": ""
             }
            },
            "type": "scatterpolar"
           }
          ],
          "scatterpolargl": [
           {
            "marker": {
             "colorbar": {
              "outlinewidth": 0,
              "ticks": ""
             }
            },
            "type": "scatterpolargl"
           }
          ],
          "scatterternary": [
           {
            "marker": {
             "colorbar": {
              "outlinewidth": 0,
              "ticks": ""
             }
            },
            "type": "scatterternary"
           }
          ],
          "surface": [
           {
            "colorbar": {
             "outlinewidth": 0,
             "ticks": ""
            },
            "colorscale": [
             [
              0,
              "#0d0887"
             ],
             [
              0.1111111111111111,
              "#46039f"
             ],
             [
              0.2222222222222222,
              "#7201a8"
             ],
             [
              0.3333333333333333,
              "#9c179e"
             ],
             [
              0.4444444444444444,
              "#bd3786"
             ],
             [
              0.5555555555555556,
              "#d8576b"
             ],
             [
              0.6666666666666666,
              "#ed7953"
             ],
             [
              0.7777777777777778,
              "#fb9f3a"
             ],
             [
              0.8888888888888888,
              "#fdca26"
             ],
             [
              1,
              "#f0f921"
             ]
            ],
            "type": "surface"
           }
          ],
          "table": [
           {
            "cells": {
             "fill": {
              "color": "#EBF0F8"
             },
             "line": {
              "color": "white"
             }
            },
            "header": {
             "fill": {
              "color": "#C8D4E3"
             },
             "line": {
              "color": "white"
             }
            },
            "type": "table"
           }
          ]
         },
         "layout": {
          "annotationdefaults": {
           "arrowcolor": "#2a3f5f",
           "arrowhead": 0,
           "arrowwidth": 1
          },
          "autotypenumbers": "strict",
          "coloraxis": {
           "colorbar": {
            "outlinewidth": 0,
            "ticks": ""
           }
          },
          "colorscale": {
           "diverging": [
            [
             0,
             "#8e0152"
            ],
            [
             0.1,
             "#c51b7d"
            ],
            [
             0.2,
             "#de77ae"
            ],
            [
             0.3,
             "#f1b6da"
            ],
            [
             0.4,
             "#fde0ef"
            ],
            [
             0.5,
             "#f7f7f7"
            ],
            [
             0.6,
             "#e6f5d0"
            ],
            [
             0.7,
             "#b8e186"
            ],
            [
             0.8,
             "#7fbc41"
            ],
            [
             0.9,
             "#4d9221"
            ],
            [
             1,
             "#276419"
            ]
           ],
           "sequential": [
            [
             0,
             "#0d0887"
            ],
            [
             0.1111111111111111,
             "#46039f"
            ],
            [
             0.2222222222222222,
             "#7201a8"
            ],
            [
             0.3333333333333333,
             "#9c179e"
            ],
            [
             0.4444444444444444,
             "#bd3786"
            ],
            [
             0.5555555555555556,
             "#d8576b"
            ],
            [
             0.6666666666666666,
             "#ed7953"
            ],
            [
             0.7777777777777778,
             "#fb9f3a"
            ],
            [
             0.8888888888888888,
             "#fdca26"
            ],
            [
             1,
             "#f0f921"
            ]
           ],
           "sequentialminus": [
            [
             0,
             "#0d0887"
            ],
            [
             0.1111111111111111,
             "#46039f"
            ],
            [
             0.2222222222222222,
             "#7201a8"
            ],
            [
             0.3333333333333333,
             "#9c179e"
            ],
            [
             0.4444444444444444,
             "#bd3786"
            ],
            [
             0.5555555555555556,
             "#d8576b"
            ],
            [
             0.6666666666666666,
             "#ed7953"
            ],
            [
             0.7777777777777778,
             "#fb9f3a"
            ],
            [
             0.8888888888888888,
             "#fdca26"
            ],
            [
             1,
             "#f0f921"
            ]
           ]
          },
          "colorway": [
           "#636efa",
           "#EF553B",
           "#00cc96",
           "#ab63fa",
           "#FFA15A",
           "#19d3f3",
           "#FF6692",
           "#B6E880",
           "#FF97FF",
           "#FECB52"
          ],
          "font": {
           "color": "#2a3f5f"
          },
          "geo": {
           "bgcolor": "white",
           "lakecolor": "white",
           "landcolor": "#E5ECF6",
           "showlakes": true,
           "showland": true,
           "subunitcolor": "white"
          },
          "hoverlabel": {
           "align": "left"
          },
          "hovermode": "closest",
          "mapbox": {
           "style": "light"
          },
          "paper_bgcolor": "white",
          "plot_bgcolor": "#E5ECF6",
          "polar": {
           "angularaxis": {
            "gridcolor": "white",
            "linecolor": "white",
            "ticks": ""
           },
           "bgcolor": "#E5ECF6",
           "radialaxis": {
            "gridcolor": "white",
            "linecolor": "white",
            "ticks": ""
           }
          },
          "scene": {
           "xaxis": {
            "backgroundcolor": "#E5ECF6",
            "gridcolor": "white",
            "gridwidth": 2,
            "linecolor": "white",
            "showbackground": true,
            "ticks": "",
            "zerolinecolor": "white"
           },
           "yaxis": {
            "backgroundcolor": "#E5ECF6",
            "gridcolor": "white",
            "gridwidth": 2,
            "linecolor": "white",
            "showbackground": true,
            "ticks": "",
            "zerolinecolor": "white"
           },
           "zaxis": {
            "backgroundcolor": "#E5ECF6",
            "gridcolor": "white",
            "gridwidth": 2,
            "linecolor": "white",
            "showbackground": true,
            "ticks": "",
            "zerolinecolor": "white"
           }
          },
          "shapedefaults": {
           "line": {
            "color": "#2a3f5f"
           }
          },
          "ternary": {
           "aaxis": {
            "gridcolor": "white",
            "linecolor": "white",
            "ticks": ""
           },
           "baxis": {
            "gridcolor": "white",
            "linecolor": "white",
            "ticks": ""
           },
           "bgcolor": "#E5ECF6",
           "caxis": {
            "gridcolor": "white",
            "linecolor": "white",
            "ticks": ""
           }
          },
          "title": {
           "x": 0.05
          },
          "xaxis": {
           "automargin": true,
           "gridcolor": "white",
           "linecolor": "white",
           "ticks": "",
           "title": {
            "standoff": 15
           },
           "zerolinecolor": "white",
           "zerolinewidth": 2
          },
          "yaxis": {
           "automargin": true,
           "gridcolor": "white",
           "linecolor": "white",
           "ticks": "",
           "title": {
            "standoff": 15
           },
           "zerolinecolor": "white",
           "zerolinewidth": 2
          }
         }
        },
        "title": {
         "text": "Зависимость ЗП от кол-во вакансий для вакансий топ-10 работодателей"
        },
        "xaxis": {
         "anchor": "y",
         "domain": [
          0,
          1
         ],
         "title": {
          "text": "avg_salary"
         }
        },
        "yaxis": {
         "anchor": "x",
         "domain": [
          0,
          1
         ],
         "title": {
          "text": "cnt_vac"
         }
        }
       }
      }
     },
     "metadata": {},
     "output_type": "display_data"
    }
   ],
   "source": [
    "fig_scatter = px.scatter(\n",
    "    data_frame=df_5_10,\n",
    "    x='avg_salary',\n",
    "    y='cnt_vac',\n",
    "    color='name',\n",
    "    title='Зависимость ЗП от кол-во вакансий для вакансий топ-10 работодателей')\n",
    "\n",
    "fig_scatter.show()\n",
    "fig_scatter.write_image('graphs/img5.png')\n",
    "fig_scatter.write_html(\"html/img5.html\")"
   ]
  },
  {
   "cell_type": "markdown",
   "id": "2215c9df",
   "metadata": {},
   "source": [
    "![Зависимость ЗП от кол-во вакансий для вакансий топ-10 работодателей](graphs/img5.png)"
   ]
  },
  {
   "cell_type": "markdown",
   "id": "9c092636",
   "metadata": {},
   "source": [
    "Количество работодателей и вакансий для каждого региона"
   ]
  },
  {
   "cell_type": "code",
   "execution_count": 52,
   "id": "e1ae2944",
   "metadata": {},
   "outputs": [],
   "source": [
    "# текст запроса\n",
    "query_5_11 = f'''\n",
    "select\n",
    "    a.name as name,\n",
    "    count(e.id) as cnt_emp,\n",
    "    count(v.id) as cnt_vac\n",
    "from areas a\n",
    "left join employers e on a.id = e.area  -- присоединение работодателей по региону\n",
    "left join vacancies v on a.id = v.area_id  -- присоединение вакансий по региону\n",
    "group by 1\n",
    "order by 2 desc  -- сортировка для нахождения региона, в котором наибольшее кол-во работодателей\n",
    "limit 10\n",
    "'''"
   ]
  },
  {
   "cell_type": "code",
   "execution_count": 53,
   "id": "244df862",
   "metadata": {},
   "outputs": [
    {
     "name": "stderr",
     "output_type": "stream",
     "text": [
      "C:\\Users\\alpavlov\\AppData\\Local\\Temp\\ipykernel_10984\\1289296352.py:2: UserWarning:\n",
      "\n",
      "pandas only supports SQLAlchemy connectable (engine/connection) or database string URI or sqlite3 DBAPI2 connection. Other DBAPI2 objects are not tested. Please consider using SQLAlchemy.\n",
      "\n"
     ]
    },
    {
     "data": {
      "text/html": [
       "<div>\n",
       "<style scoped>\n",
       "    .dataframe tbody tr th:only-of-type {\n",
       "        vertical-align: middle;\n",
       "    }\n",
       "\n",
       "    .dataframe tbody tr th {\n",
       "        vertical-align: top;\n",
       "    }\n",
       "\n",
       "    .dataframe thead th {\n",
       "        text-align: right;\n",
       "    }\n",
       "</style>\n",
       "<table border=\"1\" class=\"dataframe\">\n",
       "  <thead>\n",
       "    <tr style=\"text-align: right;\">\n",
       "      <th></th>\n",
       "      <th>name</th>\n",
       "      <th>cnt_emp</th>\n",
       "      <th>cnt_vac</th>\n",
       "    </tr>\n",
       "  </thead>\n",
       "  <tbody>\n",
       "    <tr>\n",
       "      <th>0</th>\n",
       "      <td>Москва</td>\n",
       "      <td>31272712</td>\n",
       "      <td>31272712</td>\n",
       "    </tr>\n",
       "    <tr>\n",
       "      <th>1</th>\n",
       "      <td>Санкт-Петербург</td>\n",
       "      <td>6320667</td>\n",
       "      <td>6320667</td>\n",
       "    </tr>\n",
       "    <tr>\n",
       "      <th>2</th>\n",
       "      <td>Минск</td>\n",
       "      <td>2354880</td>\n",
       "      <td>2354880</td>\n",
       "    </tr>\n",
       "    <tr>\n",
       "      <th>3</th>\n",
       "      <td>Алматы</td>\n",
       "      <td>1364132</td>\n",
       "      <td>1364132</td>\n",
       "    </tr>\n",
       "    <tr>\n",
       "      <th>4</th>\n",
       "      <td>Новосибирск</td>\n",
       "      <td>1149438</td>\n",
       "      <td>1149438</td>\n",
       "    </tr>\n",
       "    <tr>\n",
       "      <th>5</th>\n",
       "      <td>Екатеринбург</td>\n",
       "      <td>1034082</td>\n",
       "      <td>1034082</td>\n",
       "    </tr>\n",
       "    <tr>\n",
       "      <th>6</th>\n",
       "      <td>Нижний Новгород</td>\n",
       "      <td>711420</td>\n",
       "      <td>711420</td>\n",
       "    </tr>\n",
       "    <tr>\n",
       "      <th>7</th>\n",
       "      <td>Казань</td>\n",
       "      <td>679200</td>\n",
       "      <td>679200</td>\n",
       "    </tr>\n",
       "    <tr>\n",
       "      <th>8</th>\n",
       "      <td>Краснодар</td>\n",
       "      <td>532109</td>\n",
       "      <td>532109</td>\n",
       "    </tr>\n",
       "    <tr>\n",
       "      <th>9</th>\n",
       "      <td>Ростов-на-Дону</td>\n",
       "      <td>378885</td>\n",
       "      <td>378885</td>\n",
       "    </tr>\n",
       "  </tbody>\n",
       "</table>\n",
       "</div>"
      ],
      "text/plain": [
       "              name   cnt_emp   cnt_vac\n",
       "0           Москва  31272712  31272712\n",
       "1  Санкт-Петербург   6320667   6320667\n",
       "2            Минск   2354880   2354880\n",
       "3           Алматы   1364132   1364132\n",
       "4      Новосибирск   1149438   1149438\n",
       "5     Екатеринбург   1034082   1034082\n",
       "6  Нижний Новгород    711420    711420\n",
       "7           Казань    679200    679200\n",
       "8        Краснодар    532109    532109\n",
       "9   Ростов-на-Дону    378885    378885"
      ]
     },
     "execution_count": 53,
     "metadata": {},
     "output_type": "execute_result"
    }
   ],
   "source": [
    "# результат запроса\n",
    "df_5_11 = pd.read_sql_query(query_5_11, connection)\n",
    "df_5_11"
   ]
  },
  {
   "cell_type": "markdown",
   "id": "a40b60a3",
   "metadata": {},
   "source": [
    "# Выводы:"
   ]
  },
  {
   "cell_type": "markdown",
   "id": "d8c7548e",
   "metadata": {},
   "source": [
    "В десятку работодателей по кол-ву вакансий входят самые известные представители финтеха такие, как СБЕР, Тинькоф, Совкомбанк и т.д. Также в этом топе присутствует большое кол-во IT-компаний, одно из которых является лидером по кол-ву вакансий, это Яндекс. По кол-ву работодателей и вакансий выделяются города миллионники, что логично. В топ работодателей по кол-ву регионов с вакансиями, также отличился Яндекс, также стоит отметить необычного работодателя \"Поляков Денис Иванович\", который разместил свои вакансии в 88 регионах, возможно мошенничество. Более 8 тысяч из 23 тысяч работодателей не указывают сферу деятлеьности. Для Яндекса среднее кол-во вакансий в городах миллиониках РФ примерно 30. Средняя ЗП на вакансиях работодателя зависит от кол-ва этих вакансий, чем больше вакансий тем ниже ЗП (возможно выбросы из-за того, что работодатели не указывают зарплатную вилку). Самая высокая средняя ЗП среди топ-10 работодателей по кол-ву вакансий у Первый бит и она составляет 69243 рубля."
   ]
  },
  {
   "cell_type": "markdown",
   "id": "b1ef156a-efcb-49ce-bb23-90763e7f35b2",
   "metadata": {
    "id": "b1ef156a-efcb-49ce-bb23-90763e7f35b2",
    "tags": []
   },
   "source": [
    "# Юнит 6. Предметный анализ"
   ]
  },
  {
   "cell_type": "markdown",
   "id": "b9cd50a0-992d-4988-8463-2b2b1c4629b4",
   "metadata": {
    "id": "b9cd50a0-992d-4988-8463-2b2b1c4629b4"
   },
   "source": [
    "1. Сколько вакансий имеет отношение к данным?\n",
    "\n",
    "Считаем, что вакансия имеет отношение к данным, если в её названии содержатся слова 'data' или 'данн'.\n",
    "\n",
    "*Подсказка: Обратите внимание, что названия вакансий могут быть написаны в любом регистре.* \n"
   ]
  },
  {
   "cell_type": "code",
   "execution_count": 54,
   "id": "54ab0e50-c0f1-47cc-a54b-bc5c8bc363f9",
   "metadata": {
    "id": "54ab0e50-c0f1-47cc-a54b-bc5c8bc363f9"
   },
   "outputs": [],
   "source": [
    "# текст запроса\n",
    "query_6_1 = f'''\n",
    "select\n",
    "    count(*) as cnt\n",
    "from vacancies v\n",
    "where lower(v.name) like '%data%' or lower(v.name) like '%данн%'\n",
    "'''"
   ]
  },
  {
   "cell_type": "code",
   "execution_count": 55,
   "id": "9F1meAqsuUjd",
   "metadata": {
    "id": "9F1meAqsuUjd"
   },
   "outputs": [
    {
     "name": "stderr",
     "output_type": "stream",
     "text": [
      "C:\\Users\\alpavlov\\AppData\\Local\\Temp\\ipykernel_10984\\1281472032.py:2: UserWarning:\n",
      "\n",
      "pandas only supports SQLAlchemy connectable (engine/connection) or database string URI or sqlite3 DBAPI2 connection. Other DBAPI2 objects are not tested. Please consider using SQLAlchemy.\n",
      "\n"
     ]
    },
    {
     "data": {
      "text/html": [
       "<div>\n",
       "<style scoped>\n",
       "    .dataframe tbody tr th:only-of-type {\n",
       "        vertical-align: middle;\n",
       "    }\n",
       "\n",
       "    .dataframe tbody tr th {\n",
       "        vertical-align: top;\n",
       "    }\n",
       "\n",
       "    .dataframe thead th {\n",
       "        text-align: right;\n",
       "    }\n",
       "</style>\n",
       "<table border=\"1\" class=\"dataframe\">\n",
       "  <thead>\n",
       "    <tr style=\"text-align: right;\">\n",
       "      <th></th>\n",
       "      <th>cnt</th>\n",
       "    </tr>\n",
       "  </thead>\n",
       "  <tbody>\n",
       "    <tr>\n",
       "      <th>0</th>\n",
       "      <td>1771</td>\n",
       "    </tr>\n",
       "  </tbody>\n",
       "</table>\n",
       "</div>"
      ],
      "text/plain": [
       "    cnt\n",
       "0  1771"
      ]
     },
     "execution_count": 55,
     "metadata": {},
     "output_type": "execute_result"
    }
   ],
   "source": [
    "# результат запроса\n",
    "df_6_1 = pd.read_sql_query(query_6_1, connection)\n",
    "df_6_1"
   ]
  },
  {
   "cell_type": "markdown",
   "id": "4dea20cb-a36b-474a-a0b9-e08e8e3857a5",
   "metadata": {
    "id": "4dea20cb-a36b-474a-a0b9-e08e8e3857a5"
   },
   "source": [
    "2. Сколько есть подходящих вакансий для начинающего дата-сайентиста? \n",
    "Будем считать вакансиями для дата-сайентистов такие, в названии которых есть хотя бы одно из следующих сочетаний:\n",
    "* 'data scientist'\n",
    "* 'data science'\n",
    "* 'исследователь данных'\n",
    "* 'ML' (здесь не нужно брать вакансии по HTML)\n",
    "* 'machine learning'\n",
    "* 'машинн%обучен%'\n",
    "\n",
    "** В следующих заданиях мы продолжим работать с вакансиями по этому условию.*\n",
    "\n",
    "Считаем вакансиями для специалистов уровня Junior следующие:\n",
    "* в названии есть слово 'junior' *или*\n",
    "* требуемый опыт — Нет опыта *или*\n",
    "* тип трудоустройства — Стажировка.\n",
    " "
   ]
  },
  {
   "cell_type": "code",
   "execution_count": 56,
   "id": "9c61b3c0-bb66-46c9-ae1e-81d3f5752b4a",
   "metadata": {
    "id": "9c61b3c0-bb66-46c9-ae1e-81d3f5752b4a"
   },
   "outputs": [],
   "source": [
    "# текст запроса\n",
    "query_6_2 = f'''\n",
    "select\n",
    "    count(*) as cnt\n",
    "from (\n",
    "        select *\n",
    "        from vacancies\n",
    "        where (lower(name) like '%junior%')\n",
    "        or (experience = 'Нет опыта')\n",
    "        or (employment = 'Стажировка')\n",
    "    ) as jun_v  -- подзапрос для выбора только Junior вакансий\n",
    "where\n",
    "    (name ilike '%data scientist%')\n",
    "    or (name ilike '%data science%')\n",
    "    or (name ilike '%исследователь данных%')\n",
    "    or (name ilike '%ML%' and name not ilike '%HTML%')\n",
    "    or (name ilike '%machine learning%')\n",
    "    or (name ilike '%машинн%обучен%')  -- условие для определения, что вакансия для DS\n",
    "'''"
   ]
  },
  {
   "cell_type": "code",
   "execution_count": 57,
   "id": "ZNM-LLYuu1dj",
   "metadata": {
    "id": "ZNM-LLYuu1dj"
   },
   "outputs": [
    {
     "name": "stderr",
     "output_type": "stream",
     "text": [
      "C:\\Users\\alpavlov\\AppData\\Local\\Temp\\ipykernel_10984\\118162426.py:2: UserWarning:\n",
      "\n",
      "pandas only supports SQLAlchemy connectable (engine/connection) or database string URI or sqlite3 DBAPI2 connection. Other DBAPI2 objects are not tested. Please consider using SQLAlchemy.\n",
      "\n"
     ]
    },
    {
     "data": {
      "text/html": [
       "<div>\n",
       "<style scoped>\n",
       "    .dataframe tbody tr th:only-of-type {\n",
       "        vertical-align: middle;\n",
       "    }\n",
       "\n",
       "    .dataframe tbody tr th {\n",
       "        vertical-align: top;\n",
       "    }\n",
       "\n",
       "    .dataframe thead th {\n",
       "        text-align: right;\n",
       "    }\n",
       "</style>\n",
       "<table border=\"1\" class=\"dataframe\">\n",
       "  <thead>\n",
       "    <tr style=\"text-align: right;\">\n",
       "      <th></th>\n",
       "      <th>cnt</th>\n",
       "    </tr>\n",
       "  </thead>\n",
       "  <tbody>\n",
       "    <tr>\n",
       "      <th>0</th>\n",
       "      <td>51</td>\n",
       "    </tr>\n",
       "  </tbody>\n",
       "</table>\n",
       "</div>"
      ],
      "text/plain": [
       "   cnt\n",
       "0   51"
      ]
     },
     "execution_count": 57,
     "metadata": {},
     "output_type": "execute_result"
    }
   ],
   "source": [
    "# результат запроса\n",
    "df_6_2 = pd.read_sql_query(query_6_2, connection)\n",
    "df_6_2"
   ]
  },
  {
   "cell_type": "markdown",
   "id": "eedceb80-c5ca-480e-b27a-278dfb8b4438",
   "metadata": {
    "id": "eedceb80-c5ca-480e-b27a-278dfb8b4438"
   },
   "source": [
    "3. Сколько есть вакансий для DS, в которых в качестве ключевого навыка указан SQL или postgres?\n",
    "\n",
    "** Критерии для отнесения вакансии к DS указаны в предыдущем задании.*"
   ]
  },
  {
   "cell_type": "code",
   "execution_count": 58,
   "id": "69621713-0cc5-4f1b-a1d7-bb144fa6148c",
   "metadata": {
    "id": "69621713-0cc5-4f1b-a1d7-bb144fa6148c"
   },
   "outputs": [],
   "source": [
    "# текст запроса\n",
    "query_6_3 = f'''\n",
    "select \n",
    "    count(*)\n",
    "from vacancies\n",
    "where\n",
    "    (\n",
    "        (name ilike '%data scientist%')\n",
    "        or (name ilike '%data science%')\n",
    "        or (name ilike '%исследователь данных%')\n",
    "        or (name ilike '%ML%' and name not ilike '%HTML%')\n",
    "        or (name ilike '%machine learning%')\n",
    "        or (name ilike '%машинн%обучен%')\n",
    "    )  -- условие для определения, что вакансия для DS\n",
    "    and \n",
    "    (\n",
    "        key_skills like '%SQL%' \n",
    "        or key_skills like '%postgres%'\n",
    "    )  -- условие на наличие SQL и Postgre в ключевых навыках DS\n",
    "'''"
   ]
  },
  {
   "cell_type": "code",
   "execution_count": 59,
   "id": "alA8WEAAvGdf",
   "metadata": {
    "id": "alA8WEAAvGdf"
   },
   "outputs": [
    {
     "name": "stderr",
     "output_type": "stream",
     "text": [
      "C:\\Users\\alpavlov\\AppData\\Local\\Temp\\ipykernel_10984\\3310962512.py:2: UserWarning:\n",
      "\n",
      "pandas only supports SQLAlchemy connectable (engine/connection) or database string URI or sqlite3 DBAPI2 connection. Other DBAPI2 objects are not tested. Please consider using SQLAlchemy.\n",
      "\n"
     ]
    },
    {
     "data": {
      "text/html": [
       "<div>\n",
       "<style scoped>\n",
       "    .dataframe tbody tr th:only-of-type {\n",
       "        vertical-align: middle;\n",
       "    }\n",
       "\n",
       "    .dataframe tbody tr th {\n",
       "        vertical-align: top;\n",
       "    }\n",
       "\n",
       "    .dataframe thead th {\n",
       "        text-align: right;\n",
       "    }\n",
       "</style>\n",
       "<table border=\"1\" class=\"dataframe\">\n",
       "  <thead>\n",
       "    <tr style=\"text-align: right;\">\n",
       "      <th></th>\n",
       "      <th>count</th>\n",
       "    </tr>\n",
       "  </thead>\n",
       "  <tbody>\n",
       "    <tr>\n",
       "      <th>0</th>\n",
       "      <td>229</td>\n",
       "    </tr>\n",
       "  </tbody>\n",
       "</table>\n",
       "</div>"
      ],
      "text/plain": [
       "   count\n",
       "0    229"
      ]
     },
     "execution_count": 59,
     "metadata": {},
     "output_type": "execute_result"
    }
   ],
   "source": [
    "# результат запроса\n",
    "df_6_3 = pd.read_sql_query(query_6_3, connection)\n",
    "df_6_3"
   ]
  },
  {
   "cell_type": "markdown",
   "id": "1be1e9c6-37cf-4a5f-bfeb-04cab799dc80",
   "metadata": {
    "id": "1be1e9c6-37cf-4a5f-bfeb-04cab799dc80"
   },
   "source": [
    "4. Проверьте, насколько популярен Python в требованиях работодателей к DS.Для этого вычислите количество вакансий, в которых в качестве ключевого навыка указан Python.\n",
    "\n",
    "** Это можно сделать помощью запроса, аналогичного предыдущему.*"
   ]
  },
  {
   "cell_type": "code",
   "execution_count": 60,
   "id": "0036a355-9ccf-4564-8b01-73d8194297e7",
   "metadata": {
    "id": "0036a355-9ccf-4564-8b01-73d8194297e7"
   },
   "outputs": [],
   "source": [
    "# текст запроса\n",
    "query_6_4 = f'''\n",
    "select \n",
    "    count(*)\n",
    "from vacancies\n",
    "where\n",
    "    (\n",
    "        (name ilike '%data scientist%')\n",
    "        or (name ilike '%data science%')\n",
    "        or (name ilike '%исследователь данных%')\n",
    "        or (name ilike '%ML%' and name not ilike '%HTML%')\n",
    "        or (name ilike '%machine learning%')\n",
    "        or (name ilike '%машинн%обучен%')\n",
    "    )  -- условие для определения, что вакансия для DS\n",
    "    and \n",
    "    (\n",
    "        key_skills like '%Python%'\n",
    "    )  -- условие на наличие Python в ключевых навыках DS\n",
    "'''"
   ]
  },
  {
   "cell_type": "code",
   "execution_count": 61,
   "id": "1i-5WyucvQ6v",
   "metadata": {
    "id": "1i-5WyucvQ6v"
   },
   "outputs": [
    {
     "name": "stderr",
     "output_type": "stream",
     "text": [
      "C:\\Users\\alpavlov\\AppData\\Local\\Temp\\ipykernel_10984\\614304167.py:2: UserWarning:\n",
      "\n",
      "pandas only supports SQLAlchemy connectable (engine/connection) or database string URI or sqlite3 DBAPI2 connection. Other DBAPI2 objects are not tested. Please consider using SQLAlchemy.\n",
      "\n"
     ]
    },
    {
     "data": {
      "text/html": [
       "<div>\n",
       "<style scoped>\n",
       "    .dataframe tbody tr th:only-of-type {\n",
       "        vertical-align: middle;\n",
       "    }\n",
       "\n",
       "    .dataframe tbody tr th {\n",
       "        vertical-align: top;\n",
       "    }\n",
       "\n",
       "    .dataframe thead th {\n",
       "        text-align: right;\n",
       "    }\n",
       "</style>\n",
       "<table border=\"1\" class=\"dataframe\">\n",
       "  <thead>\n",
       "    <tr style=\"text-align: right;\">\n",
       "      <th></th>\n",
       "      <th>count</th>\n",
       "    </tr>\n",
       "  </thead>\n",
       "  <tbody>\n",
       "    <tr>\n",
       "      <th>0</th>\n",
       "      <td>357</td>\n",
       "    </tr>\n",
       "  </tbody>\n",
       "</table>\n",
       "</div>"
      ],
      "text/plain": [
       "   count\n",
       "0    357"
      ]
     },
     "execution_count": 61,
     "metadata": {},
     "output_type": "execute_result"
    }
   ],
   "source": [
    "# результат запроса\n",
    "df_6_4 = pd.read_sql_query(query_6_4, connection)\n",
    "df_6_4"
   ]
  },
  {
   "cell_type": "markdown",
   "id": "ec3c8db7-fa21-4a41-a994-1af63742a642",
   "metadata": {
    "id": "ec3c8db7-fa21-4a41-a994-1af63742a642"
   },
   "source": [
    "5. Сколько ключевых навыков в среднем указывают в вакансиях для DS?\n",
    "Ответ округлите до двух знаков после точки-разделителя."
   ]
  },
  {
   "cell_type": "code",
   "execution_count": 62,
   "id": "949132bc-d5b6-4611-8218-0b9a504d74f4",
   "metadata": {
    "id": "949132bc-d5b6-4611-8218-0b9a504d74f4"
   },
   "outputs": [],
   "source": [
    "# текст запроса\n",
    "query_6_5 = f'''\n",
    "select \n",
    "    round(\n",
    "        avg(\n",
    "            length(key_skills) - length(replace(key_skills, chr(9), '')) + 1\n",
    "        ), 2) as avg_skills  -- подсчет среднего кол-во ключевых навыков в вакансих для DS\n",
    "from vacancies\n",
    "where\n",
    "    (\n",
    "        (name ilike '%data scientist%')\n",
    "        or (name ilike '%data science%')\n",
    "        or (name ilike '%исследователь данных%')\n",
    "        or (name like '%ML%' and name not ilike '%HTML%')\n",
    "        or (name ilike '%machine learning%')\n",
    "        or (name ilike '%машинн%обучен%')\n",
    "    )  -- условие для определения, что вакансия для DS\n",
    "    and \n",
    "    (\n",
    "        key_skills is not null\n",
    "    )  -- условие, что поле ключевые навыки не пустое\n",
    "'''"
   ]
  },
  {
   "cell_type": "code",
   "execution_count": 63,
   "id": "a3V24Tvmviqk",
   "metadata": {
    "id": "a3V24Tvmviqk"
   },
   "outputs": [
    {
     "name": "stderr",
     "output_type": "stream",
     "text": [
      "C:\\Users\\alpavlov\\AppData\\Local\\Temp\\ipykernel_10984\\4089566367.py:2: UserWarning:\n",
      "\n",
      "pandas only supports SQLAlchemy connectable (engine/connection) or database string URI or sqlite3 DBAPI2 connection. Other DBAPI2 objects are not tested. Please consider using SQLAlchemy.\n",
      "\n"
     ]
    },
    {
     "data": {
      "text/html": [
       "<div>\n",
       "<style scoped>\n",
       "    .dataframe tbody tr th:only-of-type {\n",
       "        vertical-align: middle;\n",
       "    }\n",
       "\n",
       "    .dataframe tbody tr th {\n",
       "        vertical-align: top;\n",
       "    }\n",
       "\n",
       "    .dataframe thead th {\n",
       "        text-align: right;\n",
       "    }\n",
       "</style>\n",
       "<table border=\"1\" class=\"dataframe\">\n",
       "  <thead>\n",
       "    <tr style=\"text-align: right;\">\n",
       "      <th></th>\n",
       "      <th>avg_skills</th>\n",
       "    </tr>\n",
       "  </thead>\n",
       "  <tbody>\n",
       "    <tr>\n",
       "      <th>0</th>\n",
       "      <td>6.41</td>\n",
       "    </tr>\n",
       "  </tbody>\n",
       "</table>\n",
       "</div>"
      ],
      "text/plain": [
       "   avg_skills\n",
       "0        6.41"
      ]
     },
     "execution_count": 63,
     "metadata": {},
     "output_type": "execute_result"
    }
   ],
   "source": [
    "# результат запроса\n",
    "df_6_5 = pd.read_sql_query(query_6_5, connection)\n",
    "df_6_5"
   ]
  },
  {
   "cell_type": "markdown",
   "id": "1041c17a-ca8f-4543-a0ca-32778914fb00",
   "metadata": {
    "id": "1041c17a-ca8f-4543-a0ca-32778914fb00"
   },
   "source": [
    "6. Напишите запрос, позволяющий вычислить, какую зарплату для DS в **среднем** указывают для каждого типа требуемого опыта (уникальное значение из поля *experience*). \n",
    "\n",
    "При решении задачи примите во внимание следующее:\n",
    "1. Рассматриваем только вакансии, у которых заполнено хотя бы одно из двух полей с зарплатой.\n",
    "2. Если заполнены оба поля с зарплатой, то считаем зарплату по каждой вакансии как сумму двух полей, делённую на 2. Если заполнено только одно из полей, то его и считаем зарплатой по вакансии.\n",
    "3. Если в расчётах участвует null, в результате он тоже даст null (посмотрите, что возвращает запрос select 1 + null). Чтобы избежать этой ситуацию, мы воспользуемся функцией [coalesce](https://postgrespro.ru/docs/postgresql/9.5/functions-conditional#functions-coalesce-nvl-ifnull), которая заменит null на значение, которое мы передадим. Например, посмотрите, что возвращает запрос `select 1 + coalesce(null, 0)`\n",
    "\n",
    "Выясните, на какую зарплату в среднем может рассчитывать дата-сайентист с опытом работы от 3 до 6 лет. Результат округлите до целого числа. "
   ]
  },
  {
   "cell_type": "code",
   "execution_count": 64,
   "id": "6a743d39-5204-48d3-8271-b9f88e68d40e",
   "metadata": {
    "id": "6a743d39-5204-48d3-8271-b9f88e68d40e"
   },
   "outputs": [],
   "source": [
    "# текст запроса\n",
    "query_6_6 = f'''\n",
    "select \n",
    "    round(avg(coalesce(\n",
    "        (salary_from + salary_to) / 2,  -- значение ЗП, если есть оба поля зарплат \n",
    "        salary_from,  -- значение ЗП, если есть только нижняя граница зарплат\n",
    "        salary_to,  -- значение ЗП, если есть только верхняя граница зарплат\n",
    "        0\n",
    "    ))) as avg_salary,  -- расчет среднего значения для ЗП\n",
    "    experience\n",
    "from vacancies\n",
    "where\n",
    "    (\n",
    "        (name ilike '%data scientist%')\n",
    "        or (name ilike '%data science%')\n",
    "        or (name ilike '%исследователь данных%')\n",
    "        or (name like '%ML%' and name not like '%HTML%')\n",
    "        or (name ilike '%machine learning%')\n",
    "        or (name ilike '%машинн%обучен%')\n",
    "    )  -- условие для определения, что вакансия для DS\n",
    "    and\n",
    "    (\n",
    "        (salary_from is not null) or (salary_to is not null)\n",
    "    )  -- условие, что у вакансии будет хотя бы одно поле для зарплат\n",
    "group by 2\n",
    "order by 1\n",
    "'''"
   ]
  },
  {
   "cell_type": "code",
   "execution_count": 65,
   "id": "aRIJ0mZEwU1_",
   "metadata": {
    "id": "aRIJ0mZEwU1_"
   },
   "outputs": [
    {
     "name": "stderr",
     "output_type": "stream",
     "text": [
      "C:\\Users\\alpavlov\\AppData\\Local\\Temp\\ipykernel_10984\\2297777544.py:2: UserWarning:\n",
      "\n",
      "pandas only supports SQLAlchemy connectable (engine/connection) or database string URI or sqlite3 DBAPI2 connection. Other DBAPI2 objects are not tested. Please consider using SQLAlchemy.\n",
      "\n"
     ]
    },
    {
     "data": {
      "text/html": [
       "<div>\n",
       "<style scoped>\n",
       "    .dataframe tbody tr th:only-of-type {\n",
       "        vertical-align: middle;\n",
       "    }\n",
       "\n",
       "    .dataframe tbody tr th {\n",
       "        vertical-align: top;\n",
       "    }\n",
       "\n",
       "    .dataframe thead th {\n",
       "        text-align: right;\n",
       "    }\n",
       "</style>\n",
       "<table border=\"1\" class=\"dataframe\">\n",
       "  <thead>\n",
       "    <tr style=\"text-align: right;\">\n",
       "      <th></th>\n",
       "      <th>avg_salary</th>\n",
       "      <th>experience</th>\n",
       "    </tr>\n",
       "  </thead>\n",
       "  <tbody>\n",
       "    <tr>\n",
       "      <th>0</th>\n",
       "      <td>74643.0</td>\n",
       "      <td>Нет опыта</td>\n",
       "    </tr>\n",
       "    <tr>\n",
       "      <th>1</th>\n",
       "      <td>139675.0</td>\n",
       "      <td>От 1 года до 3 лет</td>\n",
       "    </tr>\n",
       "    <tr>\n",
       "      <th>2</th>\n",
       "      <td>243115.0</td>\n",
       "      <td>От 3 до 6 лет</td>\n",
       "    </tr>\n",
       "  </tbody>\n",
       "</table>\n",
       "</div>"
      ],
      "text/plain": [
       "   avg_salary          experience\n",
       "0     74643.0           Нет опыта\n",
       "1    139675.0  От 1 года до 3 лет\n",
       "2    243115.0       От 3 до 6 лет"
      ]
     },
     "execution_count": 65,
     "metadata": {},
     "output_type": "execute_result"
    }
   ],
   "source": [
    "# результат запроса\n",
    "df_6_6 = pd.read_sql_query(query_6_6, connection)\n",
    "df_6_6"
   ]
  },
  {
   "cell_type": "markdown",
   "id": "6a7892b4-4113-4746-adce-18aa2844f18e",
   "metadata": {
    "id": "6a7892b4-4113-4746-adce-18aa2844f18e"
   },
   "source": [
    "***"
   ]
  },
  {
   "cell_type": "markdown",
   "id": "e1ba4c58",
   "metadata": {},
   "source": [
    "## Дополнительное исследование"
   ]
  },
  {
   "cell_type": "markdown",
   "id": "e3902adf",
   "metadata": {},
   "source": [
    "Общее кол-во вакансий для DS"
   ]
  },
  {
   "cell_type": "code",
   "execution_count": 66,
   "id": "4a9b56a0",
   "metadata": {},
   "outputs": [],
   "source": [
    "# текст запроса\n",
    "query_6_7 = f'''\n",
    "select \n",
    "    count(*)\n",
    "from vacancies\n",
    "where\n",
    "    (\n",
    "        (name ilike '%data scientist%')\n",
    "        or (name ilike '%data science%')\n",
    "        or (name ilike '%исследователь данных%')\n",
    "        or (name ilike '%ML%' and name not ilike '%HTML%')\n",
    "        or (name ilike '%machine learning%')\n",
    "        or (name ilike '%машинн%обучен%')\n",
    "    )  -- условие для определения, что вакансия для DS\n",
    "'''"
   ]
  },
  {
   "cell_type": "code",
   "execution_count": 67,
   "id": "da39c3fe",
   "metadata": {},
   "outputs": [
    {
     "name": "stderr",
     "output_type": "stream",
     "text": [
      "C:\\Users\\alpavlov\\AppData\\Local\\Temp\\ipykernel_10984\\3777273199.py:2: UserWarning:\n",
      "\n",
      "pandas only supports SQLAlchemy connectable (engine/connection) or database string URI or sqlite3 DBAPI2 connection. Other DBAPI2 objects are not tested. Please consider using SQLAlchemy.\n",
      "\n"
     ]
    },
    {
     "data": {
      "text/html": [
       "<div>\n",
       "<style scoped>\n",
       "    .dataframe tbody tr th:only-of-type {\n",
       "        vertical-align: middle;\n",
       "    }\n",
       "\n",
       "    .dataframe tbody tr th {\n",
       "        vertical-align: top;\n",
       "    }\n",
       "\n",
       "    .dataframe thead th {\n",
       "        text-align: right;\n",
       "    }\n",
       "</style>\n",
       "<table border=\"1\" class=\"dataframe\">\n",
       "  <thead>\n",
       "    <tr style=\"text-align: right;\">\n",
       "      <th></th>\n",
       "      <th>count</th>\n",
       "    </tr>\n",
       "  </thead>\n",
       "  <tbody>\n",
       "    <tr>\n",
       "      <th>0</th>\n",
       "      <td>536</td>\n",
       "    </tr>\n",
       "  </tbody>\n",
       "</table>\n",
       "</div>"
      ],
      "text/plain": [
       "   count\n",
       "0    536"
      ]
     },
     "execution_count": 67,
     "metadata": {},
     "output_type": "execute_result"
    }
   ],
   "source": [
    "# результат запроса\n",
    "df_6_7 = pd.read_sql_query(query_6_7, connection)\n",
    "df_6_7"
   ]
  },
  {
   "cell_type": "markdown",
   "id": "d92a12d2",
   "metadata": {},
   "source": [
    "# Выводы:"
   ]
  },
  {
   "cell_type": "markdown",
   "id": "2b08f65c",
   "metadata": {},
   "source": [
    "Всего на площадке предствалено 1771 вакансий связанных с данными, из которых 536 связанны с DataScience. На агрегаторе также представлено 51 вакансия для junior DS специалистов. Средняя ЗП DS без опыта - 74643 рублей, от 1 года до 3 лет - 139675 рублей, от 3 до 6 лет - 243115 рублей. Так же для DS в среднем указывают чуть больше 6 ключевых навыка. Одними из самых популярных навыков являются вледения SQL и Python."
   ]
  },
  {
   "cell_type": "markdown",
   "id": "c0ED6fh7wiBT",
   "metadata": {
    "id": "c0ED6fh7wiBT"
   },
   "source": [
    "# Общий вывод по проекту"
   ]
  },
  {
   "cell_type": "markdown",
   "id": "e8e8c16b",
   "metadata": {},
   "source": [
    "В базе данных агрегатора вакансий представлено 49197 вакансий, 23501 запись о работодателях, данные о 1362 регионах и 294 сферах деятельности работодателей. На одного работодателя в среднем приходится примерно две вакансии. Большинство вакансий относится к сфере разработки программного обеспечения и IT, что может указывать на ориентированность агрегатора на IT-сектор. На платформе представлены 5 типов рабочих графиков и 4 типа занятости.\n",
    "\n",
    "Наибольшее количество вакансий сосредоточено в Москве. Агрегатор работает не только в России, но и за рубежом. У половины вакансий отсутствуют данные о заработной плате, что может свидетельствовать о гибкости работодателей в определении ЗП. Средняя нижняя граница ЗП составляет 71065 рублей, а верхняя – 110537 рублей, что соответствует среднему уровню ЗП IT-специалистов. Наиболее популярным сочетанием \"тип занятости\" - \"тип рабочего графика\" является \"полная занятость\" - \"полный день\" с более чем 35000 вакансиями. Самое часто встречающееся значение показателя \"Опыт работы\" – \"От 1 года до 3 лет\" с 26152 вакансиями, что указывает на преобладание junior/middle IT-вакансий.\n",
    "\n",
    "В десятку работодателей по количеству вакансий входят крупные представители финтеха (СБЕР, Тинькоф, Совкомбанк и т.д.) и IT-компании, такие как Яндекс, который лидирует по количеству вакансий. Вакансии сконцентрированы в городах-миллионниках. Яндекс также лидирует по количеству регионов с вакансиями. Необычным работодателем является \"Поляков Денис Иванович\", разместивший вакансии в 88 регионах, что может свидетельствовать о возможном мошенничестве. Более 8000 из 23000 работодателей не указывают сферу деятельности. Средняя ЗП по вакансиям работодателя зависит от количества вакансий: чем больше вакансий, тем ниже средняя ЗП. Самая высокая средняя ЗП среди топ-10 работодателей у \"Первый бит\" – 69243 рубля.\n",
    "\n",
    "На платформе представлено 1771 вакансия, связанная с данными, из них 536 вакансий относятся к DataScience. 51 вакансия предназначена для junior DS специалистов. Средняя ЗП DS специалистов без опыта – 74643 рублей, от 1 до 3 лет – 139675 рублей, от 3 до 6 лет – 243115 рублей. В вакансиях для DS специалистов в среднем указывают чуть больше 6 ключевых навыков. Среди самых популярных навыков – владение SQL и Python. Эти обобщенные выводы позволяют понять основные тенденции и особенности вакансий и работодателей на агрегаторе, а также уровень заработной платы и требования к ключевым навыкам в сфере DataScience."
   ]
  }
 ],
 "metadata": {
  "colab": {
   "collapsed_sections": [
    "8d62a9f3-f64e-4fe7-bdac-c4dffa16155e"
   ],
   "provenance": []
  },
  "kernelspec": {
   "display_name": "venv",
   "language": "python",
   "name": "python3"
  },
  "language_info": {
   "codemirror_mode": {
    "name": "ipython",
    "version": 3
   },
   "file_extension": ".py",
   "mimetype": "text/x-python",
   "name": "python",
   "nbconvert_exporter": "python",
   "pygments_lexer": "ipython3",
   "version": "3.12.7"
  }
 },
 "nbformat": 4,
 "nbformat_minor": 5
}
